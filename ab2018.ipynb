{
  "nbformat": 4,
  "nbformat_minor": 0,
  "metadata": {
    "colab": {
      "provenance": [],
      "authorship_tag": "ABX9TyN2iGyx+wVMNgQJzlXkltpB",
      "include_colab_link": true
    },
    "kernelspec": {
      "name": "python3",
      "display_name": "Python 3"
    },
    "language_info": {
      "name": "python"
    }
  },
  "cells": [
    {
      "cell_type": "markdown",
      "metadata": {
        "id": "view-in-github",
        "colab_type": "text"
      },
      "source": [
        "<a href=\"https://colab.research.google.com/github/Beatrixwmh/Reproductive_Rights_Analysis/blob/main/ab2018.ipynb\" target=\"_parent\"><img src=\"https://colab.research.google.com/assets/colab-badge.svg\" alt=\"Open In Colab\"/></a>"
      ]
    },
    {
      "cell_type": "markdown",
      "source": [
        "# An analysis of factors that contribute to opinions on legal reproductive rights\n",
        "In this project, I will attempt to build a classification model that predicts a person's level of support for legal abortion based on certian personal attributes.\n",
        "## Business Probelm\n",
        "Planned Parenthood is looking to expand their customer base by actively advertising, both in-person and via social media, and would like to know where to focus their efforts in. This classification model helps them identify potential customers by weeding out those who are likely to be supportive of legal abortion, both directly via classification and indirectly via providing information about key attributes that makes one more likely to support the company.\n",
        "\n",
        "#The Data\n",
        " The data was extracted from [The General Social Survey website](https://gss.norc.org/get-the-data/spss), specifically, data from a broad survey done in 2018 collecting a vast array of information about reposndents. The GSS uses full probability sampling and thus gathers data that is representative of the american population."
      ],
      "metadata": {
        "id": "zQwJyrMaQUk-"
      }
    },
    {
      "cell_type": "markdown",
      "source": [
        "## Importing and inspecting data"
      ],
      "metadata": {
        "id": "SePxIxlmXjHN"
      }
    },
    {
      "cell_type": "markdown",
      "source": [
        "The platform on which this project run is Google Colaboratory. All the code below can be found and run [here](https://colab.research.google.com/drive/17sWP3JexFAegoffSWVB3jqOd--Aetequ#scrollTo=YDXV6z9yV4su)."
      ],
      "metadata": {
        "id": "YDXV6z9yV4su"
      }
    },
    {
      "cell_type": "code",
      "source": [
        "#import data\n",
        "! wget https://gss.norc.org/Documents/spss/2018_spss.zip\n",
        "! unzip 2018_spss.zip"
      ],
      "metadata": {
        "colab": {
          "base_uri": "https://localhost:8080/"
        },
        "id": "VGq8EZfxVEKx",
        "outputId": "f6333379-1dd2-4146-e76f-70dfba2f5ae6"
      },
      "execution_count": 1,
      "outputs": [
        {
          "output_type": "stream",
          "name": "stdout",
          "text": [
            "--2023-07-31 22:09:45--  https://gss.norc.org/Documents/spss/2018_spss.zip\n",
            "Resolving gss.norc.org (gss.norc.org)... 199.102.80.194\n",
            "Connecting to gss.norc.org (gss.norc.org)|199.102.80.194|:443... connected.\n",
            "HTTP request sent, awaiting response... 200 OK\n",
            "Length: 1534358 (1.5M) [application/x-zip-compressed]\n",
            "Saving to: ‘2018_spss.zip’\n",
            "\n",
            "2018_spss.zip       100%[===================>]   1.46M  5.60MB/s    in 0.3s    \n",
            "\n",
            "2023-07-31 22:09:45 (5.60 MB/s) - ‘2018_spss.zip’ saved [1534358/1534358]\n",
            "\n",
            "Archive:  2018_spss.zip\n",
            "  inflating: GSS2018.sav             \n"
          ]
        }
      ]
    },
    {
      "cell_type": "code",
      "source": [
        "#read data\n",
        "! pip install pyreadstat"
      ],
      "metadata": {
        "colab": {
          "base_uri": "https://localhost:8080/"
        },
        "id": "I8rVxAzkKD_k",
        "outputId": "8307d341-3e8b-4dd3-9a19-ddd5a2f754a1"
      },
      "execution_count": 2,
      "outputs": [
        {
          "output_type": "stream",
          "name": "stdout",
          "text": [
            "Collecting pyreadstat\n",
            "  Downloading pyreadstat-1.2.2-cp310-cp310-manylinux_2_17_x86_64.manylinux2014_x86_64.whl (2.7 MB)\n",
            "\u001b[2K     \u001b[90m━━━━━━━━━━━━━━━━━━━━━━━━━━━━━━━━━━━━━━━━\u001b[0m \u001b[32m2.7/2.7 MB\u001b[0m \u001b[31m10.0 MB/s\u001b[0m eta \u001b[36m0:00:00\u001b[0m\n",
            "\u001b[?25hRequirement already satisfied: pandas>=1.2.0 in /usr/local/lib/python3.10/dist-packages (from pyreadstat) (1.5.3)\n",
            "Requirement already satisfied: python-dateutil>=2.8.1 in /usr/local/lib/python3.10/dist-packages (from pandas>=1.2.0->pyreadstat) (2.8.2)\n",
            "Requirement already satisfied: pytz>=2020.1 in /usr/local/lib/python3.10/dist-packages (from pandas>=1.2.0->pyreadstat) (2022.7.1)\n",
            "Requirement already satisfied: numpy>=1.21.0 in /usr/local/lib/python3.10/dist-packages (from pandas>=1.2.0->pyreadstat) (1.22.4)\n",
            "Requirement already satisfied: six>=1.5 in /usr/local/lib/python3.10/dist-packages (from python-dateutil>=2.8.1->pandas>=1.2.0->pyreadstat) (1.16.0)\n",
            "Installing collected packages: pyreadstat\n",
            "Successfully installed pyreadstat-1.2.2\n"
          ]
        }
      ]
    },
    {
      "cell_type": "code",
      "source": [
        "import pyreadstat"
      ],
      "metadata": {
        "id": "akSgLS24sZmw"
      },
      "execution_count": 3,
      "outputs": []
    },
    {
      "cell_type": "code",
      "source": [
        "df, meta =pyreadstat.read_sav('GSS2018.sav')"
      ],
      "metadata": {
        "id": "DLzzfdl2utbG"
      },
      "execution_count": 4,
      "outputs": []
    },
    {
      "cell_type": "code",
      "source": [
        "df.head()"
      ],
      "metadata": {
        "colab": {
          "base_uri": "https://localhost:8080/",
          "height": 299
        },
        "id": "Xg4gQ2C5XmzU",
        "outputId": "6cce664a-31b3-40b8-e6ae-1843b20ab78f"
      },
      "execution_count": 5,
      "outputs": [
        {
          "output_type": "execute_result",
          "data": {
            "text/plain": [
              "   ABANY  ABDEFECT  ABFELEGL  ABHELP1  ABHELP2  ABHELP3  ABHELP4  ABHLTH  \\\n",
              "0    2.0       1.0       NaN      1.0      1.0      1.0      1.0     1.0   \n",
              "1    1.0       1.0       3.0      2.0      2.0      2.0      2.0     1.0   \n",
              "2    NaN       NaN       NaN      1.0      2.0      1.0      1.0     NaN   \n",
              "3    NaN       NaN       1.0      1.0      1.0      1.0      1.0     NaN   \n",
              "4    2.0       1.0       NaN      2.0      2.0      2.0      1.0     1.0   \n",
              "\n",
              "   ABINSPAY  ABMEDGOV1  ...  XMARSEX  XMARSEX1  XMOVIE  XNORCSIZ    YEAR  \\\n",
              "0       1.0        2.0  ...      1.0       1.0     NaN       6.0  2018.0   \n",
              "1       2.0        NaN  ...      1.0       NaN     2.0       6.0  2018.0   \n",
              "2       2.0        1.0  ...      NaN       1.0     2.0       6.0  2018.0   \n",
              "3       1.0        NaN  ...      NaN       NaN     2.0       6.0  2018.0   \n",
              "4       2.0        NaN  ...      1.0       NaN     2.0       6.0  2018.0   \n",
              "\n",
              "   YEARSJOB  YEARSUSA  YEARVAL  YOUSUP  ZODIAC  \n",
              "0       1.0       NaN      NaN    45.0     6.0  \n",
              "1       NaN       NaN      NaN     NaN    11.0  \n",
              "2      15.0       NaN      NaN     3.0     1.0  \n",
              "3      25.0       NaN      NaN    10.0     1.0  \n",
              "4       NaN       NaN      NaN     NaN     4.0  \n",
              "\n",
              "[5 rows x 1065 columns]"
            ],
            "text/html": [
              "\n",
              "\n",
              "  <div id=\"df-ad36a82f-f480-493a-abbe-af3f1d7733ac\">\n",
              "    <div class=\"colab-df-container\">\n",
              "      <div>\n",
              "<style scoped>\n",
              "    .dataframe tbody tr th:only-of-type {\n",
              "        vertical-align: middle;\n",
              "    }\n",
              "\n",
              "    .dataframe tbody tr th {\n",
              "        vertical-align: top;\n",
              "    }\n",
              "\n",
              "    .dataframe thead th {\n",
              "        text-align: right;\n",
              "    }\n",
              "</style>\n",
              "<table border=\"1\" class=\"dataframe\">\n",
              "  <thead>\n",
              "    <tr style=\"text-align: right;\">\n",
              "      <th></th>\n",
              "      <th>ABANY</th>\n",
              "      <th>ABDEFECT</th>\n",
              "      <th>ABFELEGL</th>\n",
              "      <th>ABHELP1</th>\n",
              "      <th>ABHELP2</th>\n",
              "      <th>ABHELP3</th>\n",
              "      <th>ABHELP4</th>\n",
              "      <th>ABHLTH</th>\n",
              "      <th>ABINSPAY</th>\n",
              "      <th>ABMEDGOV1</th>\n",
              "      <th>...</th>\n",
              "      <th>XMARSEX</th>\n",
              "      <th>XMARSEX1</th>\n",
              "      <th>XMOVIE</th>\n",
              "      <th>XNORCSIZ</th>\n",
              "      <th>YEAR</th>\n",
              "      <th>YEARSJOB</th>\n",
              "      <th>YEARSUSA</th>\n",
              "      <th>YEARVAL</th>\n",
              "      <th>YOUSUP</th>\n",
              "      <th>ZODIAC</th>\n",
              "    </tr>\n",
              "  </thead>\n",
              "  <tbody>\n",
              "    <tr>\n",
              "      <th>0</th>\n",
              "      <td>2.0</td>\n",
              "      <td>1.0</td>\n",
              "      <td>NaN</td>\n",
              "      <td>1.0</td>\n",
              "      <td>1.0</td>\n",
              "      <td>1.0</td>\n",
              "      <td>1.0</td>\n",
              "      <td>1.0</td>\n",
              "      <td>1.0</td>\n",
              "      <td>2.0</td>\n",
              "      <td>...</td>\n",
              "      <td>1.0</td>\n",
              "      <td>1.0</td>\n",
              "      <td>NaN</td>\n",
              "      <td>6.0</td>\n",
              "      <td>2018.0</td>\n",
              "      <td>1.0</td>\n",
              "      <td>NaN</td>\n",
              "      <td>NaN</td>\n",
              "      <td>45.0</td>\n",
              "      <td>6.0</td>\n",
              "    </tr>\n",
              "    <tr>\n",
              "      <th>1</th>\n",
              "      <td>1.0</td>\n",
              "      <td>1.0</td>\n",
              "      <td>3.0</td>\n",
              "      <td>2.0</td>\n",
              "      <td>2.0</td>\n",
              "      <td>2.0</td>\n",
              "      <td>2.0</td>\n",
              "      <td>1.0</td>\n",
              "      <td>2.0</td>\n",
              "      <td>NaN</td>\n",
              "      <td>...</td>\n",
              "      <td>1.0</td>\n",
              "      <td>NaN</td>\n",
              "      <td>2.0</td>\n",
              "      <td>6.0</td>\n",
              "      <td>2018.0</td>\n",
              "      <td>NaN</td>\n",
              "      <td>NaN</td>\n",
              "      <td>NaN</td>\n",
              "      <td>NaN</td>\n",
              "      <td>11.0</td>\n",
              "    </tr>\n",
              "    <tr>\n",
              "      <th>2</th>\n",
              "      <td>NaN</td>\n",
              "      <td>NaN</td>\n",
              "      <td>NaN</td>\n",
              "      <td>1.0</td>\n",
              "      <td>2.0</td>\n",
              "      <td>1.0</td>\n",
              "      <td>1.0</td>\n",
              "      <td>NaN</td>\n",
              "      <td>2.0</td>\n",
              "      <td>1.0</td>\n",
              "      <td>...</td>\n",
              "      <td>NaN</td>\n",
              "      <td>1.0</td>\n",
              "      <td>2.0</td>\n",
              "      <td>6.0</td>\n",
              "      <td>2018.0</td>\n",
              "      <td>15.0</td>\n",
              "      <td>NaN</td>\n",
              "      <td>NaN</td>\n",
              "      <td>3.0</td>\n",
              "      <td>1.0</td>\n",
              "    </tr>\n",
              "    <tr>\n",
              "      <th>3</th>\n",
              "      <td>NaN</td>\n",
              "      <td>NaN</td>\n",
              "      <td>1.0</td>\n",
              "      <td>1.0</td>\n",
              "      <td>1.0</td>\n",
              "      <td>1.0</td>\n",
              "      <td>1.0</td>\n",
              "      <td>NaN</td>\n",
              "      <td>1.0</td>\n",
              "      <td>NaN</td>\n",
              "      <td>...</td>\n",
              "      <td>NaN</td>\n",
              "      <td>NaN</td>\n",
              "      <td>2.0</td>\n",
              "      <td>6.0</td>\n",
              "      <td>2018.0</td>\n",
              "      <td>25.0</td>\n",
              "      <td>NaN</td>\n",
              "      <td>NaN</td>\n",
              "      <td>10.0</td>\n",
              "      <td>1.0</td>\n",
              "    </tr>\n",
              "    <tr>\n",
              "      <th>4</th>\n",
              "      <td>2.0</td>\n",
              "      <td>1.0</td>\n",
              "      <td>NaN</td>\n",
              "      <td>2.0</td>\n",
              "      <td>2.0</td>\n",
              "      <td>2.0</td>\n",
              "      <td>1.0</td>\n",
              "      <td>1.0</td>\n",
              "      <td>2.0</td>\n",
              "      <td>NaN</td>\n",
              "      <td>...</td>\n",
              "      <td>1.0</td>\n",
              "      <td>NaN</td>\n",
              "      <td>2.0</td>\n",
              "      <td>6.0</td>\n",
              "      <td>2018.0</td>\n",
              "      <td>NaN</td>\n",
              "      <td>NaN</td>\n",
              "      <td>NaN</td>\n",
              "      <td>NaN</td>\n",
              "      <td>4.0</td>\n",
              "    </tr>\n",
              "  </tbody>\n",
              "</table>\n",
              "<p>5 rows × 1065 columns</p>\n",
              "</div>\n",
              "      <button class=\"colab-df-convert\" onclick=\"convertToInteractive('df-ad36a82f-f480-493a-abbe-af3f1d7733ac')\"\n",
              "              title=\"Convert this dataframe to an interactive table.\"\n",
              "              style=\"display:none;\">\n",
              "\n",
              "  <svg xmlns=\"http://www.w3.org/2000/svg\" height=\"24px\"viewBox=\"0 0 24 24\"\n",
              "       width=\"24px\">\n",
              "    <path d=\"M0 0h24v24H0V0z\" fill=\"none\"/>\n",
              "    <path d=\"M18.56 5.44l.94 2.06.94-2.06 2.06-.94-2.06-.94-.94-2.06-.94 2.06-2.06.94zm-11 1L8.5 8.5l.94-2.06 2.06-.94-2.06-.94L8.5 2.5l-.94 2.06-2.06.94zm10 10l.94 2.06.94-2.06 2.06-.94-2.06-.94-.94-2.06-.94 2.06-2.06.94z\"/><path d=\"M17.41 7.96l-1.37-1.37c-.4-.4-.92-.59-1.43-.59-.52 0-1.04.2-1.43.59L10.3 9.45l-7.72 7.72c-.78.78-.78 2.05 0 2.83L4 21.41c.39.39.9.59 1.41.59.51 0 1.02-.2 1.41-.59l7.78-7.78 2.81-2.81c.8-.78.8-2.07 0-2.86zM5.41 20L4 18.59l7.72-7.72 1.47 1.35L5.41 20z\"/>\n",
              "  </svg>\n",
              "      </button>\n",
              "\n",
              "\n",
              "\n",
              "    <div id=\"df-5f1e028c-fb84-4e8e-a685-45f6508a663b\">\n",
              "      <button class=\"colab-df-quickchart\" onclick=\"quickchart('df-5f1e028c-fb84-4e8e-a685-45f6508a663b')\"\n",
              "              title=\"Suggest charts.\"\n",
              "              style=\"display:none;\">\n",
              "\n",
              "<svg xmlns=\"http://www.w3.org/2000/svg\" height=\"24px\"viewBox=\"0 0 24 24\"\n",
              "     width=\"24px\">\n",
              "    <g>\n",
              "        <path d=\"M19 3H5c-1.1 0-2 .9-2 2v14c0 1.1.9 2 2 2h14c1.1 0 2-.9 2-2V5c0-1.1-.9-2-2-2zM9 17H7v-7h2v7zm4 0h-2V7h2v10zm4 0h-2v-4h2v4z\"/>\n",
              "    </g>\n",
              "</svg>\n",
              "      </button>\n",
              "    </div>\n",
              "\n",
              "<style>\n",
              "  .colab-df-quickchart {\n",
              "    background-color: #E8F0FE;\n",
              "    border: none;\n",
              "    border-radius: 50%;\n",
              "    cursor: pointer;\n",
              "    display: none;\n",
              "    fill: #1967D2;\n",
              "    height: 32px;\n",
              "    padding: 0 0 0 0;\n",
              "    width: 32px;\n",
              "  }\n",
              "\n",
              "  .colab-df-quickchart:hover {\n",
              "    background-color: #E2EBFA;\n",
              "    box-shadow: 0px 1px 2px rgba(60, 64, 67, 0.3), 0px 1px 3px 1px rgba(60, 64, 67, 0.15);\n",
              "    fill: #174EA6;\n",
              "  }\n",
              "\n",
              "  [theme=dark] .colab-df-quickchart {\n",
              "    background-color: #3B4455;\n",
              "    fill: #D2E3FC;\n",
              "  }\n",
              "\n",
              "  [theme=dark] .colab-df-quickchart:hover {\n",
              "    background-color: #434B5C;\n",
              "    box-shadow: 0px 1px 3px 1px rgba(0, 0, 0, 0.15);\n",
              "    filter: drop-shadow(0px 1px 2px rgba(0, 0, 0, 0.3));\n",
              "    fill: #FFFFFF;\n",
              "  }\n",
              "</style>\n",
              "\n",
              "    <script>\n",
              "      async function quickchart(key) {\n",
              "        const containerElement = document.querySelector('#' + key);\n",
              "        const charts = await google.colab.kernel.invokeFunction(\n",
              "            'suggestCharts', [key], {});\n",
              "      }\n",
              "    </script>\n",
              "\n",
              "      <script>\n",
              "\n",
              "function displayQuickchartButton(domScope) {\n",
              "  let quickchartButtonEl =\n",
              "    domScope.querySelector('#df-5f1e028c-fb84-4e8e-a685-45f6508a663b button.colab-df-quickchart');\n",
              "  quickchartButtonEl.style.display =\n",
              "    google.colab.kernel.accessAllowed ? 'block' : 'none';\n",
              "}\n",
              "\n",
              "        displayQuickchartButton(document);\n",
              "      </script>\n",
              "      <style>\n",
              "    .colab-df-container {\n",
              "      display:flex;\n",
              "      flex-wrap:wrap;\n",
              "      gap: 12px;\n",
              "    }\n",
              "\n",
              "    .colab-df-convert {\n",
              "      background-color: #E8F0FE;\n",
              "      border: none;\n",
              "      border-radius: 50%;\n",
              "      cursor: pointer;\n",
              "      display: none;\n",
              "      fill: #1967D2;\n",
              "      height: 32px;\n",
              "      padding: 0 0 0 0;\n",
              "      width: 32px;\n",
              "    }\n",
              "\n",
              "    .colab-df-convert:hover {\n",
              "      background-color: #E2EBFA;\n",
              "      box-shadow: 0px 1px 2px rgba(60, 64, 67, 0.3), 0px 1px 3px 1px rgba(60, 64, 67, 0.15);\n",
              "      fill: #174EA6;\n",
              "    }\n",
              "\n",
              "    [theme=dark] .colab-df-convert {\n",
              "      background-color: #3B4455;\n",
              "      fill: #D2E3FC;\n",
              "    }\n",
              "\n",
              "    [theme=dark] .colab-df-convert:hover {\n",
              "      background-color: #434B5C;\n",
              "      box-shadow: 0px 1px 3px 1px rgba(0, 0, 0, 0.15);\n",
              "      filter: drop-shadow(0px 1px 2px rgba(0, 0, 0, 0.3));\n",
              "      fill: #FFFFFF;\n",
              "    }\n",
              "  </style>\n",
              "\n",
              "      <script>\n",
              "        const buttonEl =\n",
              "          document.querySelector('#df-ad36a82f-f480-493a-abbe-af3f1d7733ac button.colab-df-convert');\n",
              "        buttonEl.style.display =\n",
              "          google.colab.kernel.accessAllowed ? 'block' : 'none';\n",
              "\n",
              "        async function convertToInteractive(key) {\n",
              "          const element = document.querySelector('#df-ad36a82f-f480-493a-abbe-af3f1d7733ac');\n",
              "          const dataTable =\n",
              "            await google.colab.kernel.invokeFunction('convertToInteractive',\n",
              "                                                     [key], {});\n",
              "          if (!dataTable) return;\n",
              "\n",
              "          const docLinkHtml = 'Like what you see? Visit the ' +\n",
              "            '<a target=\"_blank\" href=https://colab.research.google.com/notebooks/data_table.ipynb>data table notebook</a>'\n",
              "            + ' to learn more about interactive tables.';\n",
              "          element.innerHTML = '';\n",
              "          dataTable['output_type'] = 'display_data';\n",
              "          await google.colab.output.renderOutput(dataTable, element);\n",
              "          const docLink = document.createElement('div');\n",
              "          docLink.innerHTML = docLinkHtml;\n",
              "          element.appendChild(docLink);\n",
              "        }\n",
              "      </script>\n",
              "    </div>\n",
              "  </div>\n"
            ]
          },
          "metadata": {},
          "execution_count": 5
        }
      ]
    },
    {
      "cell_type": "code",
      "source": [
        "#look at size of data\n",
        "df.shape"
      ],
      "metadata": {
        "colab": {
          "base_uri": "https://localhost:8080/"
        },
        "id": "lDhB8x4LXsUE",
        "outputId": "c7ae14f3-ed20-4167-f36c-a886037aafe6"
      },
      "execution_count": 6,
      "outputs": [
        {
          "output_type": "execute_result",
          "data": {
            "text/plain": [
              "(2348, 1065)"
            ]
          },
          "metadata": {},
          "execution_count": 6
        }
      ]
    },
    {
      "cell_type": "markdown",
      "source": [
        "## Selecting features for modelling\n",
        "There are 1065 survey questions for each respondent. However, there are also a lot of null values. To narrow my feature space down, I will select my features from only columns that have very few null values in order to minimize loss of information from imputing or dropping null rows."
      ],
      "metadata": {
        "id": "P3rK8oiZX1Js"
      }
    },
    {
      "cell_type": "code",
      "source": [
        "#lowering column names for ease of use\n",
        "df.columns= [w.lower() for w in df.columns]"
      ],
      "metadata": {
        "id": "3KI95_4Fwuhg"
      },
      "execution_count": 7,
      "outputs": []
    },
    {
      "cell_type": "code",
      "source": [
        "#appned columns with <=35 null values\n",
        "few_null= []\n",
        "for col in df.columns:\n",
        "  subset= df[col]\n",
        "  if subset.isna().sum() <= 35:\n",
        "    few_null.append(col)\n"
      ],
      "metadata": {
        "id": "VcE7NH-txlKo"
      },
      "execution_count": 8,
      "outputs": []
    },
    {
      "cell_type": "code",
      "source": [
        "print('There are {} columns with fewer than 35 null values'.format(len(few_null)))"
      ],
      "metadata": {
        "colab": {
          "base_uri": "https://localhost:8080/"
        },
        "id": "8n2aP1WCyGjN",
        "outputId": "fa00641f-fda4-48a3-e170-c7fc73e3f118"
      },
      "execution_count": 9,
      "outputs": [
        {
          "output_type": "stream",
          "name": "stdout",
          "text": [
            "There are 120 columns with fewer than 35 null values\n"
          ]
        }
      ]
    },
    {
      "cell_type": "code",
      "source": [
        "few_null"
      ],
      "metadata": {
        "colab": {
          "base_uri": "https://localhost:8080/"
        },
        "id": "iylbJd3jqzcT",
        "outputId": "be377e11-16da-4979-eb26-58509df2f1ef"
      },
      "execution_count": 10,
      "outputs": [
        {
          "output_type": "execute_result",
          "data": {
            "text/plain": [
              "['actssoc',\n",
              " 'adminconsent',\n",
              " 'adults',\n",
              " 'age',\n",
              " 'attend',\n",
              " 'babies',\n",
              " 'ballot',\n",
              " 'bible',\n",
              " 'born',\n",
              " 'childs',\n",
              " 'class',\n",
              " 'cohort',\n",
              " 'comprend',\n",
              " 'consent',\n",
              " 'coop',\n",
              " 'dateintv',\n",
              " 'degree',\n",
              " 'dwelling',\n",
              " 'dwellpre',\n",
              " 'earnrs',\n",
              " 'educ',\n",
              " 'emoprobs',\n",
              " 'ethnum',\n",
              " 'famgen',\n",
              " 'family16',\n",
              " 'fatigue',\n",
              " 'finalter',\n",
              " 'finrela',\n",
              " 'form',\n",
              " 'formwt',\n",
              " 'gender1',\n",
              " 'god',\n",
              " 'happy',\n",
              " 'healthissp',\n",
              " 'hefinfo',\n",
              " 'hhrace',\n",
              " 'hhtype',\n",
              " 'hhtype1',\n",
              " 'hispanic',\n",
              " 'hlthmntl',\n",
              " 'hlthphys',\n",
              " 'hompop',\n",
              " 'huadd',\n",
              " 'id',\n",
              " 'incuspop',\n",
              " 'intage',\n",
              " 'intethn',\n",
              " 'intid',\n",
              " 'intsex',\n",
              " 'intyrs',\n",
              " 'issp',\n",
              " 'kidsinhh',\n",
              " 'lngthinv',\n",
              " 'marcohab',\n",
              " 'marital',\n",
              " 'mobile16',\n",
              " 'mode',\n",
              " 'neisafe',\n",
              " 'othlang',\n",
              " 'oversamp',\n",
              " 'parborn',\n",
              " 'partyid',\n",
              " 'phase',\n",
              " 'phone',\n",
              " 'physacts',\n",
              " 'pray',\n",
              " 'pres16',\n",
              " 'preteen',\n",
              " 'quallife',\n",
              " 'race',\n",
              " 'racecen1',\n",
              " 'ratepain',\n",
              " 'reg16',\n",
              " 'region',\n",
              " 'relactiv',\n",
              " 'relate1',\n",
              " 'relhh1',\n",
              " 'relhhd1',\n",
              " 'relig',\n",
              " 'relig16',\n",
              " 'reliten',\n",
              " 'relpersn',\n",
              " 'res16',\n",
              " 'respnum',\n",
              " 'respond',\n",
              " 'rfamlook',\n",
              " 'rplace',\n",
              " 'rvisitor',\n",
              " 'sampcode',\n",
              " 'sample',\n",
              " 'satfin',\n",
              " 'satsoc',\n",
              " 'savesoul',\n",
              " 'sex',\n",
              " 'sibs',\n",
              " 'size',\n",
              " 'spaneng',\n",
              " 'spfalook',\n",
              " 'splive',\n",
              " 'sprtprsn',\n",
              " 'srcbelt',\n",
              " 'teens',\n",
              " 'version',\n",
              " 'vetyears',\n",
              " 'visitors',\n",
              " 'vote16',\n",
              " 'vpsu',\n",
              " 'vstrat',\n",
              " 'whoelse1',\n",
              " 'whoelse2',\n",
              " 'whoelse3',\n",
              " 'whoelse4',\n",
              " 'whoelse5',\n",
              " 'whoelse6',\n",
              " 'wrkstat',\n",
              " 'wtss',\n",
              " 'wtssall',\n",
              " 'wtssnr',\n",
              " 'xnorcsiz',\n",
              " 'year']"
            ]
          },
          "metadata": {},
          "execution_count": 10
        }
      ]
    },
    {
      "cell_type": "markdown",
      "source": [
        "Next, I will look at the documentation to weed out features within these columns that might be contributing factors to political opinion. Moreover, I will select columns that reflect opinions about legal abortion, which are six hierarichal questions that make up the Rossi Scale. According to a research article written by Sarah K. Cowan and published by NORC at the University of Chicago, which is the same institution that conducted this survey, the Rossi Scale had proved to be a reliable scale to measure support for legal abortion. The article is called [Updating A Time-Series of Survey Questions: The Case\n",
        "of Abortion Attitudes in the General Social Survey](https://gss.norc.org/Documents/reports/methodological-reports/MR133%20Abortion.pdf), and it discusses in depth the questions that are designed to capture people's stance regarding abortion as the debate and narrative surrounding the topic changes and evovles over time."
      ],
      "metadata": {
        "id": "o81Rzuj0rkNI"
      }
    },
    {
      "cell_type": "code",
      "source": [
        "#features that might be relevant\n",
        "features= ['relig','relig16','race','intage','childs','educ','pray','sex','marital','quallife','hispanic',\n",
        "       'family16','born','partyid','wrkstat','satsoc','satfin']"
      ],
      "metadata": {
        "id": "QeXYW94_2iSL"
      },
      "execution_count": 11,
      "outputs": []
    },
    {
      "cell_type": "code",
      "source": [
        "#Rossi scale items\n",
        "ab_cols= ['abdefect','abhlth','abpoor','abrape','absingle','abnomore']"
      ],
      "metadata": {
        "id": "9Pjryzc3zAaM"
      },
      "execution_count": 12,
      "outputs": []
    },
    {
      "cell_type": "code",
      "source": [
        "#drop all null values\n",
        "df= df[ab_cols+features].dropna()"
      ],
      "metadata": {
        "id": "Qqr6mciL24QL"
      },
      "execution_count": 13,
      "outputs": []
    },
    {
      "cell_type": "code",
      "source": [
        "df.shape"
      ],
      "metadata": {
        "colab": {
          "base_uri": "https://localhost:8080/"
        },
        "id": "om2_n2K96zmk",
        "outputId": "924f27a3-de02-4fe9-91b4-a79e2736e686"
      },
      "execution_count": 14,
      "outputs": [
        {
          "output_type": "execute_result",
          "data": {
            "text/plain": [
              "(1344, 23)"
            ]
          },
          "metadata": {},
          "execution_count": 14
        }
      ]
    },
    {
      "cell_type": "code",
      "source": [
        "df.head()"
      ],
      "metadata": {
        "colab": {
          "base_uri": "https://localhost:8080/",
          "height": 299
        },
        "id": "xix3VFmM9LOK",
        "outputId": "648a40a1-0e78-4a67-f61c-c1a923bb2980"
      },
      "execution_count": 15,
      "outputs": [
        {
          "output_type": "execute_result",
          "data": {
            "text/plain": [
              "   abdefect  abhlth  abpoor  abrape  absingle  abnomore  relig  relig16  race  \\\n",
              "0       1.0     1.0     2.0     1.0       2.0       2.0   11.0      1.0   1.0   \n",
              "1       1.0     1.0     2.0     1.0       1.0       1.0    2.0      2.0   1.0   \n",
              "4       1.0     1.0     2.0     2.0       2.0       2.0    2.0      2.0   2.0   \n",
              "5       1.0     1.0     1.0     1.0       1.0       1.0    2.0      2.0   1.0   \n",
              "6       1.0     1.0     1.0     1.0       2.0       1.0    1.0      1.0   2.0   \n",
              "\n",
              "   intage  ...  sex  marital  quallife  hispanic  family16  born  partyid  \\\n",
              "0    68.0  ...  1.0      5.0       3.0       1.0       1.0   1.0      5.0   \n",
              "1    62.0  ...  2.0      4.0       1.0       1.0       1.0   1.0      2.0   \n",
              "4    68.0  ...  1.0      3.0       2.0       1.0       1.0   1.0      6.0   \n",
              "5    62.0  ...  2.0      2.0       4.0       1.0       1.0   1.0      2.0   \n",
              "6    46.0  ...  2.0      3.0       3.0       1.0       5.0   1.0      0.0   \n",
              "\n",
              "   wrkstat  satsoc  satfin  \n",
              "0      3.0     3.0     3.0  \n",
              "1      5.0     2.0     2.0  \n",
              "4      5.0     1.0     1.0  \n",
              "5      5.0     4.0     2.0  \n",
              "6      1.0     3.0     2.0  \n",
              "\n",
              "[5 rows x 23 columns]"
            ],
            "text/html": [
              "\n",
              "\n",
              "  <div id=\"df-621f470e-5c47-4c11-8de8-f76e20ce7194\">\n",
              "    <div class=\"colab-df-container\">\n",
              "      <div>\n",
              "<style scoped>\n",
              "    .dataframe tbody tr th:only-of-type {\n",
              "        vertical-align: middle;\n",
              "    }\n",
              "\n",
              "    .dataframe tbody tr th {\n",
              "        vertical-align: top;\n",
              "    }\n",
              "\n",
              "    .dataframe thead th {\n",
              "        text-align: right;\n",
              "    }\n",
              "</style>\n",
              "<table border=\"1\" class=\"dataframe\">\n",
              "  <thead>\n",
              "    <tr style=\"text-align: right;\">\n",
              "      <th></th>\n",
              "      <th>abdefect</th>\n",
              "      <th>abhlth</th>\n",
              "      <th>abpoor</th>\n",
              "      <th>abrape</th>\n",
              "      <th>absingle</th>\n",
              "      <th>abnomore</th>\n",
              "      <th>relig</th>\n",
              "      <th>relig16</th>\n",
              "      <th>race</th>\n",
              "      <th>intage</th>\n",
              "      <th>...</th>\n",
              "      <th>sex</th>\n",
              "      <th>marital</th>\n",
              "      <th>quallife</th>\n",
              "      <th>hispanic</th>\n",
              "      <th>family16</th>\n",
              "      <th>born</th>\n",
              "      <th>partyid</th>\n",
              "      <th>wrkstat</th>\n",
              "      <th>satsoc</th>\n",
              "      <th>satfin</th>\n",
              "    </tr>\n",
              "  </thead>\n",
              "  <tbody>\n",
              "    <tr>\n",
              "      <th>0</th>\n",
              "      <td>1.0</td>\n",
              "      <td>1.0</td>\n",
              "      <td>2.0</td>\n",
              "      <td>1.0</td>\n",
              "      <td>2.0</td>\n",
              "      <td>2.0</td>\n",
              "      <td>11.0</td>\n",
              "      <td>1.0</td>\n",
              "      <td>1.0</td>\n",
              "      <td>68.0</td>\n",
              "      <td>...</td>\n",
              "      <td>1.0</td>\n",
              "      <td>5.0</td>\n",
              "      <td>3.0</td>\n",
              "      <td>1.0</td>\n",
              "      <td>1.0</td>\n",
              "      <td>1.0</td>\n",
              "      <td>5.0</td>\n",
              "      <td>3.0</td>\n",
              "      <td>3.0</td>\n",
              "      <td>3.0</td>\n",
              "    </tr>\n",
              "    <tr>\n",
              "      <th>1</th>\n",
              "      <td>1.0</td>\n",
              "      <td>1.0</td>\n",
              "      <td>2.0</td>\n",
              "      <td>1.0</td>\n",
              "      <td>1.0</td>\n",
              "      <td>1.0</td>\n",
              "      <td>2.0</td>\n",
              "      <td>2.0</td>\n",
              "      <td>1.0</td>\n",
              "      <td>62.0</td>\n",
              "      <td>...</td>\n",
              "      <td>2.0</td>\n",
              "      <td>4.0</td>\n",
              "      <td>1.0</td>\n",
              "      <td>1.0</td>\n",
              "      <td>1.0</td>\n",
              "      <td>1.0</td>\n",
              "      <td>2.0</td>\n",
              "      <td>5.0</td>\n",
              "      <td>2.0</td>\n",
              "      <td>2.0</td>\n",
              "    </tr>\n",
              "    <tr>\n",
              "      <th>4</th>\n",
              "      <td>1.0</td>\n",
              "      <td>1.0</td>\n",
              "      <td>2.0</td>\n",
              "      <td>2.0</td>\n",
              "      <td>2.0</td>\n",
              "      <td>2.0</td>\n",
              "      <td>2.0</td>\n",
              "      <td>2.0</td>\n",
              "      <td>2.0</td>\n",
              "      <td>68.0</td>\n",
              "      <td>...</td>\n",
              "      <td>1.0</td>\n",
              "      <td>3.0</td>\n",
              "      <td>2.0</td>\n",
              "      <td>1.0</td>\n",
              "      <td>1.0</td>\n",
              "      <td>1.0</td>\n",
              "      <td>6.0</td>\n",
              "      <td>5.0</td>\n",
              "      <td>1.0</td>\n",
              "      <td>1.0</td>\n",
              "    </tr>\n",
              "    <tr>\n",
              "      <th>5</th>\n",
              "      <td>1.0</td>\n",
              "      <td>1.0</td>\n",
              "      <td>1.0</td>\n",
              "      <td>1.0</td>\n",
              "      <td>1.0</td>\n",
              "      <td>1.0</td>\n",
              "      <td>2.0</td>\n",
              "      <td>2.0</td>\n",
              "      <td>1.0</td>\n",
              "      <td>62.0</td>\n",
              "      <td>...</td>\n",
              "      <td>2.0</td>\n",
              "      <td>2.0</td>\n",
              "      <td>4.0</td>\n",
              "      <td>1.0</td>\n",
              "      <td>1.0</td>\n",
              "      <td>1.0</td>\n",
              "      <td>2.0</td>\n",
              "      <td>5.0</td>\n",
              "      <td>4.0</td>\n",
              "      <td>2.0</td>\n",
              "    </tr>\n",
              "    <tr>\n",
              "      <th>6</th>\n",
              "      <td>1.0</td>\n",
              "      <td>1.0</td>\n",
              "      <td>1.0</td>\n",
              "      <td>1.0</td>\n",
              "      <td>2.0</td>\n",
              "      <td>1.0</td>\n",
              "      <td>1.0</td>\n",
              "      <td>1.0</td>\n",
              "      <td>2.0</td>\n",
              "      <td>46.0</td>\n",
              "      <td>...</td>\n",
              "      <td>2.0</td>\n",
              "      <td>3.0</td>\n",
              "      <td>3.0</td>\n",
              "      <td>1.0</td>\n",
              "      <td>5.0</td>\n",
              "      <td>1.0</td>\n",
              "      <td>0.0</td>\n",
              "      <td>1.0</td>\n",
              "      <td>3.0</td>\n",
              "      <td>2.0</td>\n",
              "    </tr>\n",
              "  </tbody>\n",
              "</table>\n",
              "<p>5 rows × 23 columns</p>\n",
              "</div>\n",
              "      <button class=\"colab-df-convert\" onclick=\"convertToInteractive('df-621f470e-5c47-4c11-8de8-f76e20ce7194')\"\n",
              "              title=\"Convert this dataframe to an interactive table.\"\n",
              "              style=\"display:none;\">\n",
              "\n",
              "  <svg xmlns=\"http://www.w3.org/2000/svg\" height=\"24px\"viewBox=\"0 0 24 24\"\n",
              "       width=\"24px\">\n",
              "    <path d=\"M0 0h24v24H0V0z\" fill=\"none\"/>\n",
              "    <path d=\"M18.56 5.44l.94 2.06.94-2.06 2.06-.94-2.06-.94-.94-2.06-.94 2.06-2.06.94zm-11 1L8.5 8.5l.94-2.06 2.06-.94-2.06-.94L8.5 2.5l-.94 2.06-2.06.94zm10 10l.94 2.06.94-2.06 2.06-.94-2.06-.94-.94-2.06-.94 2.06-2.06.94z\"/><path d=\"M17.41 7.96l-1.37-1.37c-.4-.4-.92-.59-1.43-.59-.52 0-1.04.2-1.43.59L10.3 9.45l-7.72 7.72c-.78.78-.78 2.05 0 2.83L4 21.41c.39.39.9.59 1.41.59.51 0 1.02-.2 1.41-.59l7.78-7.78 2.81-2.81c.8-.78.8-2.07 0-2.86zM5.41 20L4 18.59l7.72-7.72 1.47 1.35L5.41 20z\"/>\n",
              "  </svg>\n",
              "      </button>\n",
              "\n",
              "\n",
              "\n",
              "    <div id=\"df-e7a17f26-5e82-4745-91b7-f273ddc29cab\">\n",
              "      <button class=\"colab-df-quickchart\" onclick=\"quickchart('df-e7a17f26-5e82-4745-91b7-f273ddc29cab')\"\n",
              "              title=\"Suggest charts.\"\n",
              "              style=\"display:none;\">\n",
              "\n",
              "<svg xmlns=\"http://www.w3.org/2000/svg\" height=\"24px\"viewBox=\"0 0 24 24\"\n",
              "     width=\"24px\">\n",
              "    <g>\n",
              "        <path d=\"M19 3H5c-1.1 0-2 .9-2 2v14c0 1.1.9 2 2 2h14c1.1 0 2-.9 2-2V5c0-1.1-.9-2-2-2zM9 17H7v-7h2v7zm4 0h-2V7h2v10zm4 0h-2v-4h2v4z\"/>\n",
              "    </g>\n",
              "</svg>\n",
              "      </button>\n",
              "    </div>\n",
              "\n",
              "<style>\n",
              "  .colab-df-quickchart {\n",
              "    background-color: #E8F0FE;\n",
              "    border: none;\n",
              "    border-radius: 50%;\n",
              "    cursor: pointer;\n",
              "    display: none;\n",
              "    fill: #1967D2;\n",
              "    height: 32px;\n",
              "    padding: 0 0 0 0;\n",
              "    width: 32px;\n",
              "  }\n",
              "\n",
              "  .colab-df-quickchart:hover {\n",
              "    background-color: #E2EBFA;\n",
              "    box-shadow: 0px 1px 2px rgba(60, 64, 67, 0.3), 0px 1px 3px 1px rgba(60, 64, 67, 0.15);\n",
              "    fill: #174EA6;\n",
              "  }\n",
              "\n",
              "  [theme=dark] .colab-df-quickchart {\n",
              "    background-color: #3B4455;\n",
              "    fill: #D2E3FC;\n",
              "  }\n",
              "\n",
              "  [theme=dark] .colab-df-quickchart:hover {\n",
              "    background-color: #434B5C;\n",
              "    box-shadow: 0px 1px 3px 1px rgba(0, 0, 0, 0.15);\n",
              "    filter: drop-shadow(0px 1px 2px rgba(0, 0, 0, 0.3));\n",
              "    fill: #FFFFFF;\n",
              "  }\n",
              "</style>\n",
              "\n",
              "    <script>\n",
              "      async function quickchart(key) {\n",
              "        const containerElement = document.querySelector('#' + key);\n",
              "        const charts = await google.colab.kernel.invokeFunction(\n",
              "            'suggestCharts', [key], {});\n",
              "      }\n",
              "    </script>\n",
              "\n",
              "      <script>\n",
              "\n",
              "function displayQuickchartButton(domScope) {\n",
              "  let quickchartButtonEl =\n",
              "    domScope.querySelector('#df-e7a17f26-5e82-4745-91b7-f273ddc29cab button.colab-df-quickchart');\n",
              "  quickchartButtonEl.style.display =\n",
              "    google.colab.kernel.accessAllowed ? 'block' : 'none';\n",
              "}\n",
              "\n",
              "        displayQuickchartButton(document);\n",
              "      </script>\n",
              "      <style>\n",
              "    .colab-df-container {\n",
              "      display:flex;\n",
              "      flex-wrap:wrap;\n",
              "      gap: 12px;\n",
              "    }\n",
              "\n",
              "    .colab-df-convert {\n",
              "      background-color: #E8F0FE;\n",
              "      border: none;\n",
              "      border-radius: 50%;\n",
              "      cursor: pointer;\n",
              "      display: none;\n",
              "      fill: #1967D2;\n",
              "      height: 32px;\n",
              "      padding: 0 0 0 0;\n",
              "      width: 32px;\n",
              "    }\n",
              "\n",
              "    .colab-df-convert:hover {\n",
              "      background-color: #E2EBFA;\n",
              "      box-shadow: 0px 1px 2px rgba(60, 64, 67, 0.3), 0px 1px 3px 1px rgba(60, 64, 67, 0.15);\n",
              "      fill: #174EA6;\n",
              "    }\n",
              "\n",
              "    [theme=dark] .colab-df-convert {\n",
              "      background-color: #3B4455;\n",
              "      fill: #D2E3FC;\n",
              "    }\n",
              "\n",
              "    [theme=dark] .colab-df-convert:hover {\n",
              "      background-color: #434B5C;\n",
              "      box-shadow: 0px 1px 3px 1px rgba(0, 0, 0, 0.15);\n",
              "      filter: drop-shadow(0px 1px 2px rgba(0, 0, 0, 0.3));\n",
              "      fill: #FFFFFF;\n",
              "    }\n",
              "  </style>\n",
              "\n",
              "      <script>\n",
              "        const buttonEl =\n",
              "          document.querySelector('#df-621f470e-5c47-4c11-8de8-f76e20ce7194 button.colab-df-convert');\n",
              "        buttonEl.style.display =\n",
              "          google.colab.kernel.accessAllowed ? 'block' : 'none';\n",
              "\n",
              "        async function convertToInteractive(key) {\n",
              "          const element = document.querySelector('#df-621f470e-5c47-4c11-8de8-f76e20ce7194');\n",
              "          const dataTable =\n",
              "            await google.colab.kernel.invokeFunction('convertToInteractive',\n",
              "                                                     [key], {});\n",
              "          if (!dataTable) return;\n",
              "\n",
              "          const docLinkHtml = 'Like what you see? Visit the ' +\n",
              "            '<a target=\"_blank\" href=https://colab.research.google.com/notebooks/data_table.ipynb>data table notebook</a>'\n",
              "            + ' to learn more about interactive tables.';\n",
              "          element.innerHTML = '';\n",
              "          dataTable['output_type'] = 'display_data';\n",
              "          await google.colab.output.renderOutput(dataTable, element);\n",
              "          const docLink = document.createElement('div');\n",
              "          docLink.innerHTML = docLinkHtml;\n",
              "          element.appendChild(docLink);\n",
              "        }\n",
              "      </script>\n",
              "    </div>\n",
              "  </div>\n"
            ]
          },
          "metadata": {},
          "execution_count": 15
        }
      ]
    },
    {
      "cell_type": "code",
      "source": [
        "#look at distribution of features\n",
        "import matplotlib.pyplot as plt\n",
        "import numpy as np\n",
        "fig, axs = plt.subplots(ncols=6, nrows=3, figsize=(10, 10))\n",
        "for i, f in enumerate(features):\n",
        "  row= i//6\n",
        "  col= i%6\n",
        "  axs[row,col].hist(df[f])\n",
        "  axs[row,col].set_title(f)\n",
        "  if row== 0 and col==0:\n",
        "    axs[row,col].set_ylabel('counts')\n",
        "  elif row == 2 and col==2:\n",
        "    axs[row,col].set_xlabel('values')\n",
        "plt.show()"
      ],
      "metadata": {
        "colab": {
          "base_uri": "https://localhost:8080/",
          "height": 872
        },
        "id": "fLnvA4HludvS",
        "outputId": "52d65723-92ff-40fd-81b4-69eede8a478e"
      },
      "execution_count": 16,
      "outputs": [
        {
          "output_type": "display_data",
          "data": {
            "text/plain": [
              "<Figure size 1000x1000 with 18 Axes>"
            ],
            "image/png": "[encoded data removed]"
          },
          "metadata": {}
        }
      ]
    },
    {
      "cell_type": "code",
      "source": [
        "df.describe()"
      ],
      "metadata": {
        "colab": {
          "base_uri": "https://localhost:8080/",
          "height": 393
        },
        "id": "27wI2B57AwSV",
        "outputId": "89bb0bc6-dd74-4b45-9b06-8bf48ccd7916"
      },
      "execution_count": 17,
      "outputs": [
        {
          "output_type": "execute_result",
          "data": {
            "text/plain": [
              "          abdefect       abhlth       abpoor       abrape     absingle  \\\n",
              "count  1344.000000  1344.000000  1344.000000  1344.000000  1344.000000   \n",
              "mean      1.218750     1.104167     1.485119     1.205357     1.516369   \n",
              "std       0.413553     0.305590     0.499965     0.404113     0.499918   \n",
              "min       1.000000     1.000000     1.000000     1.000000     1.000000   \n",
              "25%       1.000000     1.000000     1.000000     1.000000     1.000000   \n",
              "50%       1.000000     1.000000     1.000000     1.000000     2.000000   \n",
              "75%       1.000000     1.000000     2.000000     1.000000     2.000000   \n",
              "max       2.000000     2.000000     2.000000     2.000000     2.000000   \n",
              "\n",
              "          abnomore        relig      relig16         race       intage  ...  \\\n",
              "count  1344.000000  1344.000000  1344.000000  1344.000000  1344.000000  ...   \n",
              "mean      1.461310     2.277530     1.916667     1.369792    56.218006  ...   \n",
              "std       0.498686     1.793403     1.558649     0.665730    12.418225  ...   \n",
              "min       1.000000     1.000000     1.000000     1.000000    20.000000  ...   \n",
              "25%       1.000000     1.000000     1.000000     1.000000    50.750000  ...   \n",
              "50%       1.000000     2.000000     1.000000     1.000000    56.000000  ...   \n",
              "75%       2.000000     4.000000     2.000000     2.000000    66.000000  ...   \n",
              "max       2.000000    11.000000    11.000000     3.000000    85.000000  ...   \n",
              "\n",
              "               sex      marital     quallife     hispanic     family16  \\\n",
              "count  1344.000000  1344.000000  1344.000000  1344.000000  1344.000000   \n",
              "mean      1.557292     2.729911     2.285714     1.517113     2.238839   \n",
              "std       0.496892     1.698617     0.947735     3.081616     1.994470   \n",
              "min       1.000000     1.000000     1.000000     1.000000     0.000000   \n",
              "25%       1.000000     1.000000     2.000000     1.000000     1.000000   \n",
              "50%       2.000000     3.000000     2.000000     1.000000     1.000000   \n",
              "75%       2.000000     5.000000     3.000000     1.000000     4.000000   \n",
              "max       2.000000     5.000000     5.000000    47.000000     8.000000   \n",
              "\n",
              "              born      partyid      wrkstat       satsoc       satfin  \n",
              "count  1344.000000  1344.000000  1344.000000  1344.000000  1344.000000  \n",
              "mean      1.115327     2.813988     2.937500     2.559524     1.915179  \n",
              "std       0.319536     2.097670     2.285105     1.018532     0.729309  \n",
              "min       1.000000     0.000000     1.000000     1.000000     1.000000  \n",
              "25%       1.000000     1.000000     1.000000     2.000000     1.000000  \n",
              "50%       1.000000     3.000000     2.000000     2.000000     2.000000  \n",
              "75%       1.000000     5.000000     5.000000     3.000000     2.000000  \n",
              "max       2.000000     7.000000     8.000000     5.000000     3.000000  \n",
              "\n",
              "[8 rows x 23 columns]"
            ],
            "text/html": [
              "\n",
              "\n",
              "  <div id=\"df-aa5a1660-b409-4c04-954e-9b60bcffa25c\">\n",
              "    <div class=\"colab-df-container\">\n",
              "      <div>\n",
              "<style scoped>\n",
              "    .dataframe tbody tr th:only-of-type {\n",
              "        vertical-align: middle;\n",
              "    }\n",
              "\n",
              "    .dataframe tbody tr th {\n",
              "        vertical-align: top;\n",
              "    }\n",
              "\n",
              "    .dataframe thead th {\n",
              "        text-align: right;\n",
              "    }\n",
              "</style>\n",
              "<table border=\"1\" class=\"dataframe\">\n",
              "  <thead>\n",
              "    <tr style=\"text-align: right;\">\n",
              "      <th></th>\n",
              "      <th>abdefect</th>\n",
              "      <th>abhlth</th>\n",
              "      <th>abpoor</th>\n",
              "      <th>abrape</th>\n",
              "      <th>absingle</th>\n",
              "      <th>abnomore</th>\n",
              "      <th>relig</th>\n",
              "      <th>relig16</th>\n",
              "      <th>race</th>\n",
              "      <th>intage</th>\n",
              "      <th>...</th>\n",
              "      <th>sex</th>\n",
              "      <th>marital</th>\n",
              "      <th>quallife</th>\n",
              "      <th>hispanic</th>\n",
              "      <th>family16</th>\n",
              "      <th>born</th>\n",
              "      <th>partyid</th>\n",
              "      <th>wrkstat</th>\n",
              "      <th>satsoc</th>\n",
              "      <th>satfin</th>\n",
              "    </tr>\n",
              "  </thead>\n",
              "  <tbody>\n",
              "    <tr>\n",
              "      <th>count</th>\n",
              "      <td>1344.000000</td>\n",
              "      <td>1344.000000</td>\n",
              "      <td>1344.000000</td>\n",
              "      <td>1344.000000</td>\n",
              "      <td>1344.000000</td>\n",
              "      <td>1344.000000</td>\n",
              "      <td>1344.000000</td>\n",
              "      <td>1344.000000</td>\n",
              "      <td>1344.000000</td>\n",
              "      <td>1344.000000</td>\n",
              "      <td>...</td>\n",
              "      <td>1344.000000</td>\n",
              "      <td>1344.000000</td>\n",
              "      <td>1344.000000</td>\n",
              "      <td>1344.000000</td>\n",
              "      <td>1344.000000</td>\n",
              "      <td>1344.000000</td>\n",
              "      <td>1344.000000</td>\n",
              "      <td>1344.000000</td>\n",
              "      <td>1344.000000</td>\n",
              "      <td>1344.000000</td>\n",
              "    </tr>\n",
              "    <tr>\n",
              "      <th>mean</th>\n",
              "      <td>1.218750</td>\n",
              "      <td>1.104167</td>\n",
              "      <td>1.485119</td>\n",
              "      <td>1.205357</td>\n",
              "      <td>1.516369</td>\n",
              "      <td>1.461310</td>\n",
              "      <td>2.277530</td>\n",
              "      <td>1.916667</td>\n",
              "      <td>1.369792</td>\n",
              "      <td>56.218006</td>\n",
              "      <td>...</td>\n",
              "      <td>1.557292</td>\n",
              "      <td>2.729911</td>\n",
              "      <td>2.285714</td>\n",
              "      <td>1.517113</td>\n",
              "      <td>2.238839</td>\n",
              "      <td>1.115327</td>\n",
              "      <td>2.813988</td>\n",
              "      <td>2.937500</td>\n",
              "      <td>2.559524</td>\n",
              "      <td>1.915179</td>\n",
              "    </tr>\n",
              "    <tr>\n",
              "      <th>std</th>\n",
              "      <td>0.413553</td>\n",
              "      <td>0.305590</td>\n",
              "      <td>0.499965</td>\n",
              "      <td>0.404113</td>\n",
              "      <td>0.499918</td>\n",
              "      <td>0.498686</td>\n",
              "      <td>1.793403</td>\n",
              "      <td>1.558649</td>\n",
              "      <td>0.665730</td>\n",
              "      <td>12.418225</td>\n",
              "      <td>...</td>\n",
              "      <td>0.496892</td>\n",
              "      <td>1.698617</td>\n",
              "      <td>0.947735</td>\n",
              "      <td>3.081616</td>\n",
              "      <td>1.994470</td>\n",
              "      <td>0.319536</td>\n",
              "      <td>2.097670</td>\n",
              "      <td>2.285105</td>\n",
              "      <td>1.018532</td>\n",
              "      <td>0.729309</td>\n",
              "    </tr>\n",
              "    <tr>\n",
              "      <th>min</th>\n",
              "      <td>1.000000</td>\n",
              "      <td>1.000000</td>\n",
              "      <td>1.000000</td>\n",
              "      <td>1.000000</td>\n",
              "      <td>1.000000</td>\n",
              "      <td>1.000000</td>\n",
              "      <td>1.000000</td>\n",
              "      <td>1.000000</td>\n",
              "      <td>1.000000</td>\n",
              "      <td>20.000000</td>\n",
              "      <td>...</td>\n",
              "      <td>1.000000</td>\n",
              "      <td>1.000000</td>\n",
              "      <td>1.000000</td>\n",
              "      <td>1.000000</td>\n",
              "      <td>0.000000</td>\n",
              "      <td>1.000000</td>\n",
              "      <td>0.000000</td>\n",
              "      <td>1.000000</td>\n",
              "      <td>1.000000</td>\n",
              "      <td>1.000000</td>\n",
              "    </tr>\n",
              "    <tr>\n",
              "      <th>25%</th>\n",
              "      <td>1.000000</td>\n",
              "      <td>1.000000</td>\n",
              "      <td>1.000000</td>\n",
              "      <td>1.000000</td>\n",
              "      <td>1.000000</td>\n",
              "      <td>1.000000</td>\n",
              "      <td>1.000000</td>\n",
              "      <td>1.000000</td>\n",
              "      <td>1.000000</td>\n",
              "      <td>50.750000</td>\n",
              "      <td>...</td>\n",
              "      <td>1.000000</td>\n",
              "      <td>1.000000</td>\n",
              "      <td>2.000000</td>\n",
              "      <td>1.000000</td>\n",
              "      <td>1.000000</td>\n",
              "      <td>1.000000</td>\n",
              "      <td>1.000000</td>\n",
              "      <td>1.000000</td>\n",
              "      <td>2.000000</td>\n",
              "      <td>1.000000</td>\n",
              "    </tr>\n",
              "    <tr>\n",
              "      <th>50%</th>\n",
              "      <td>1.000000</td>\n",
              "      <td>1.000000</td>\n",
              "      <td>1.000000</td>\n",
              "      <td>1.000000</td>\n",
              "      <td>2.000000</td>\n",
              "      <td>1.000000</td>\n",
              "      <td>2.000000</td>\n",
              "      <td>1.000000</td>\n",
              "      <td>1.000000</td>\n",
              "      <td>56.000000</td>\n",
              "      <td>...</td>\n",
              "      <td>2.000000</td>\n",
              "      <td>3.000000</td>\n",
              "      <td>2.000000</td>\n",
              "      <td>1.000000</td>\n",
              "      <td>1.000000</td>\n",
              "      <td>1.000000</td>\n",
              "      <td>3.000000</td>\n",
              "      <td>2.000000</td>\n",
              "      <td>2.000000</td>\n",
              "      <td>2.000000</td>\n",
              "    </tr>\n",
              "    <tr>\n",
              "      <th>75%</th>\n",
              "      <td>1.000000</td>\n",
              "      <td>1.000000</td>\n",
              "      <td>2.000000</td>\n",
              "      <td>1.000000</td>\n",
              "      <td>2.000000</td>\n",
              "      <td>2.000000</td>\n",
              "      <td>4.000000</td>\n",
              "      <td>2.000000</td>\n",
              "      <td>2.000000</td>\n",
              "      <td>66.000000</td>\n",
              "      <td>...</td>\n",
              "      <td>2.000000</td>\n",
              "      <td>5.000000</td>\n",
              "      <td>3.000000</td>\n",
              "      <td>1.000000</td>\n",
              "      <td>4.000000</td>\n",
              "      <td>1.000000</td>\n",
              "      <td>5.000000</td>\n",
              "      <td>5.000000</td>\n",
              "      <td>3.000000</td>\n",
              "      <td>2.000000</td>\n",
              "    </tr>\n",
              "    <tr>\n",
              "      <th>max</th>\n",
              "      <td>2.000000</td>\n",
              "      <td>2.000000</td>\n",
              "      <td>2.000000</td>\n",
              "      <td>2.000000</td>\n",
              "      <td>2.000000</td>\n",
              "      <td>2.000000</td>\n",
              "      <td>11.000000</td>\n",
              "      <td>11.000000</td>\n",
              "      <td>3.000000</td>\n",
              "      <td>85.000000</td>\n",
              "      <td>...</td>\n",
              "      <td>2.000000</td>\n",
              "      <td>5.000000</td>\n",
              "      <td>5.000000</td>\n",
              "      <td>47.000000</td>\n",
              "      <td>8.000000</td>\n",
              "      <td>2.000000</td>\n",
              "      <td>7.000000</td>\n",
              "      <td>8.000000</td>\n",
              "      <td>5.000000</td>\n",
              "      <td>3.000000</td>\n",
              "    </tr>\n",
              "  </tbody>\n",
              "</table>\n",
              "<p>8 rows × 23 columns</p>\n",
              "</div>\n",
              "      <button class=\"colab-df-convert\" onclick=\"convertToInteractive('df-aa5a1660-b409-4c04-954e-9b60bcffa25c')\"\n",
              "              title=\"Convert this dataframe to an interactive table.\"\n",
              "              style=\"display:none;\">\n",
              "\n",
              "  <svg xmlns=\"http://www.w3.org/2000/svg\" height=\"24px\"viewBox=\"0 0 24 24\"\n",
              "       width=\"24px\">\n",
              "    <path d=\"M0 0h24v24H0V0z\" fill=\"none\"/>\n",
              "    <path d=\"M18.56 5.44l.94 2.06.94-2.06 2.06-.94-2.06-.94-.94-2.06-.94 2.06-2.06.94zm-11 1L8.5 8.5l.94-2.06 2.06-.94-2.06-.94L8.5 2.5l-.94 2.06-2.06.94zm10 10l.94 2.06.94-2.06 2.06-.94-2.06-.94-.94-2.06-.94 2.06-2.06.94z\"/><path d=\"M17.41 7.96l-1.37-1.37c-.4-.4-.92-.59-1.43-.59-.52 0-1.04.2-1.43.59L10.3 9.45l-7.72 7.72c-.78.78-.78 2.05 0 2.83L4 21.41c.39.39.9.59 1.41.59.51 0 1.02-.2 1.41-.59l7.78-7.78 2.81-2.81c.8-.78.8-2.07 0-2.86zM5.41 20L4 18.59l7.72-7.72 1.47 1.35L5.41 20z\"/>\n",
              "  </svg>\n",
              "      </button>\n",
              "\n",
              "\n",
              "\n",
              "    <div id=\"df-ddc02e54-343e-41da-8c23-f8053a3ad91f\">\n",
              "      <button class=\"colab-df-quickchart\" onclick=\"quickchart('df-ddc02e54-343e-41da-8c23-f8053a3ad91f')\"\n",
              "              title=\"Suggest charts.\"\n",
              "              style=\"display:none;\">\n",
              "\n",
              "<svg xmlns=\"http://www.w3.org/2000/svg\" height=\"24px\"viewBox=\"0 0 24 24\"\n",
              "     width=\"24px\">\n",
              "    <g>\n",
              "        <path d=\"M19 3H5c-1.1 0-2 .9-2 2v14c0 1.1.9 2 2 2h14c1.1 0 2-.9 2-2V5c0-1.1-.9-2-2-2zM9 17H7v-7h2v7zm4 0h-2V7h2v10zm4 0h-2v-4h2v4z\"/>\n",
              "    </g>\n",
              "</svg>\n",
              "      </button>\n",
              "    </div>\n",
              "\n",
              "<style>\n",
              "  .colab-df-quickchart {\n",
              "    background-color: #E8F0FE;\n",
              "    border: none;\n",
              "    border-radius: 50%;\n",
              "    cursor: pointer;\n",
              "    display: none;\n",
              "    fill: #1967D2;\n",
              "    height: 32px;\n",
              "    padding: 0 0 0 0;\n",
              "    width: 32px;\n",
              "  }\n",
              "\n",
              "  .colab-df-quickchart:hover {\n",
              "    background-color: #E2EBFA;\n",
              "    box-shadow: 0px 1px 2px rgba(60, 64, 67, 0.3), 0px 1px 3px 1px rgba(60, 64, 67, 0.15);\n",
              "    fill: #174EA6;\n",
              "  }\n",
              "\n",
              "  [theme=dark] .colab-df-quickchart {\n",
              "    background-color: #3B4455;\n",
              "    fill: #D2E3FC;\n",
              "  }\n",
              "\n",
              "  [theme=dark] .colab-df-quickchart:hover {\n",
              "    background-color: #434B5C;\n",
              "    box-shadow: 0px 1px 3px 1px rgba(0, 0, 0, 0.15);\n",
              "    filter: drop-shadow(0px 1px 2px rgba(0, 0, 0, 0.3));\n",
              "    fill: #FFFFFF;\n",
              "  }\n",
              "</style>\n",
              "\n",
              "    <script>\n",
              "      async function quickchart(key) {\n",
              "        const containerElement = document.querySelector('#' + key);\n",
              "        const charts = await google.colab.kernel.invokeFunction(\n",
              "            'suggestCharts', [key], {});\n",
              "      }\n",
              "    </script>\n",
              "\n",
              "      <script>\n",
              "\n",
              "function displayQuickchartButton(domScope) {\n",
              "  let quickchartButtonEl =\n",
              "    domScope.querySelector('#df-ddc02e54-343e-41da-8c23-f8053a3ad91f button.colab-df-quickchart');\n",
              "  quickchartButtonEl.style.display =\n",
              "    google.colab.kernel.accessAllowed ? 'block' : 'none';\n",
              "}\n",
              "\n",
              "        displayQuickchartButton(document);\n",
              "      </script>\n",
              "      <style>\n",
              "    .colab-df-container {\n",
              "      display:flex;\n",
              "      flex-wrap:wrap;\n",
              "      gap: 12px;\n",
              "    }\n",
              "\n",
              "    .colab-df-convert {\n",
              "      background-color: #E8F0FE;\n",
              "      border: none;\n",
              "      border-radius: 50%;\n",
              "      cursor: pointer;\n",
              "      display: none;\n",
              "      fill: #1967D2;\n",
              "      height: 32px;\n",
              "      padding: 0 0 0 0;\n",
              "      width: 32px;\n",
              "    }\n",
              "\n",
              "    .colab-df-convert:hover {\n",
              "      background-color: #E2EBFA;\n",
              "      box-shadow: 0px 1px 2px rgba(60, 64, 67, 0.3), 0px 1px 3px 1px rgba(60, 64, 67, 0.15);\n",
              "      fill: #174EA6;\n",
              "    }\n",
              "\n",
              "    [theme=dark] .colab-df-convert {\n",
              "      background-color: #3B4455;\n",
              "      fill: #D2E3FC;\n",
              "    }\n",
              "\n",
              "    [theme=dark] .colab-df-convert:hover {\n",
              "      background-color: #434B5C;\n",
              "      box-shadow: 0px 1px 3px 1px rgba(0, 0, 0, 0.15);\n",
              "      filter: drop-shadow(0px 1px 2px rgba(0, 0, 0, 0.3));\n",
              "      fill: #FFFFFF;\n",
              "    }\n",
              "  </style>\n",
              "\n",
              "      <script>\n",
              "        const buttonEl =\n",
              "          document.querySelector('#df-aa5a1660-b409-4c04-954e-9b60bcffa25c button.colab-df-convert');\n",
              "        buttonEl.style.display =\n",
              "          google.colab.kernel.accessAllowed ? 'block' : 'none';\n",
              "\n",
              "        async function convertToInteractive(key) {\n",
              "          const element = document.querySelector('#df-aa5a1660-b409-4c04-954e-9b60bcffa25c');\n",
              "          const dataTable =\n",
              "            await google.colab.kernel.invokeFunction('convertToInteractive',\n",
              "                                                     [key], {});\n",
              "          if (!dataTable) return;\n",
              "\n",
              "          const docLinkHtml = 'Like what you see? Visit the ' +\n",
              "            '<a target=\"_blank\" href=https://colab.research.google.com/notebooks/data_table.ipynb>data table notebook</a>'\n",
              "            + ' to learn more about interactive tables.';\n",
              "          element.innerHTML = '';\n",
              "          dataTable['output_type'] = 'display_data';\n",
              "          await google.colab.output.renderOutput(dataTable, element);\n",
              "          const docLink = document.createElement('div');\n",
              "          docLink.innerHTML = docLinkHtml;\n",
              "          element.appendChild(docLink);\n",
              "        }\n",
              "      </script>\n",
              "    </div>\n",
              "  </div>\n"
            ]
          },
          "metadata": {},
          "execution_count": 17
        }
      ]
    },
    {
      "cell_type": "markdown",
      "source": [
        "Some of the values seem normally distributed, like age and life satisfaction, however, there are features that have very scewed distributions, like party identification and whether the respondent was born in the US. However, this is likely just a reflection of the general US population and is a direct consequnce of using random sampling."
      ],
      "metadata": {
        "id": "zFz8sJTy07Fb"
      }
    },
    {
      "cell_type": "markdown",
      "source": [
        "## Data Preprocessing\n",
        "### Abortion Opinions\n"
      ],
      "metadata": {
        "id": "vMtPih9_8vyZ"
      }
    },
    {
      "cell_type": "markdown",
      "source": [
        "For the entirety of the preprocessing stage, I will be encoding value names of each variable according to the [codebook](https://gss.norc.org/documents/codebook/gss_codebook.pdf) such that the variables make more intuitive sense and are easier for modeling. <br/>\n",
        "I will first look at Rossi scale items to turn them into a  binary target variable.\n"
      ],
      "metadata": {
        "id": "E_x0IPgf-_uL"
      }
    },
    {
      "cell_type": "code",
      "source": [
        "df[ab_cols].describe()"
      ],
      "metadata": {
        "colab": {
          "base_uri": "https://localhost:8080/",
          "height": 300
        },
        "id": "-eIZvI6C-JJE",
        "outputId": "858e12d4-27a7-431f-dffd-77aacd5e3963"
      },
      "execution_count": 18,
      "outputs": [
        {
          "output_type": "execute_result",
          "data": {
            "text/plain": [
              "          abdefect       abhlth       abpoor       abrape     absingle  \\\n",
              "count  1344.000000  1344.000000  1344.000000  1344.000000  1344.000000   \n",
              "mean      1.218750     1.104167     1.485119     1.205357     1.516369   \n",
              "std       0.413553     0.305590     0.499965     0.404113     0.499918   \n",
              "min       1.000000     1.000000     1.000000     1.000000     1.000000   \n",
              "25%       1.000000     1.000000     1.000000     1.000000     1.000000   \n",
              "50%       1.000000     1.000000     1.000000     1.000000     2.000000   \n",
              "75%       1.000000     1.000000     2.000000     1.000000     2.000000   \n",
              "max       2.000000     2.000000     2.000000     2.000000     2.000000   \n",
              "\n",
              "          abnomore  \n",
              "count  1344.000000  \n",
              "mean      1.461310  \n",
              "std       0.498686  \n",
              "min       1.000000  \n",
              "25%       1.000000  \n",
              "50%       1.000000  \n",
              "75%       2.000000  \n",
              "max       2.000000  "
            ],
            "text/html": [
              "\n",
              "\n",
              "  <div id=\"df-19133325-0b53-44f0-8854-bf47c97a3f54\">\n",
              "    <div class=\"colab-df-container\">\n",
              "      <div>\n",
              "<style scoped>\n",
              "    .dataframe tbody tr th:only-of-type {\n",
              "        vertical-align: middle;\n",
              "    }\n",
              "\n",
              "    .dataframe tbody tr th {\n",
              "        vertical-align: top;\n",
              "    }\n",
              "\n",
              "    .dataframe thead th {\n",
              "        text-align: right;\n",
              "    }\n",
              "</style>\n",
              "<table border=\"1\" class=\"dataframe\">\n",
              "  <thead>\n",
              "    <tr style=\"text-align: right;\">\n",
              "      <th></th>\n",
              "      <th>abdefect</th>\n",
              "      <th>abhlth</th>\n",
              "      <th>abpoor</th>\n",
              "      <th>abrape</th>\n",
              "      <th>absingle</th>\n",
              "      <th>abnomore</th>\n",
              "    </tr>\n",
              "  </thead>\n",
              "  <tbody>\n",
              "    <tr>\n",
              "      <th>count</th>\n",
              "      <td>1344.000000</td>\n",
              "      <td>1344.000000</td>\n",
              "      <td>1344.000000</td>\n",
              "      <td>1344.000000</td>\n",
              "      <td>1344.000000</td>\n",
              "      <td>1344.000000</td>\n",
              "    </tr>\n",
              "    <tr>\n",
              "      <th>mean</th>\n",
              "      <td>1.218750</td>\n",
              "      <td>1.104167</td>\n",
              "      <td>1.485119</td>\n",
              "      <td>1.205357</td>\n",
              "      <td>1.516369</td>\n",
              "      <td>1.461310</td>\n",
              "    </tr>\n",
              "    <tr>\n",
              "      <th>std</th>\n",
              "      <td>0.413553</td>\n",
              "      <td>0.305590</td>\n",
              "      <td>0.499965</td>\n",
              "      <td>0.404113</td>\n",
              "      <td>0.499918</td>\n",
              "      <td>0.498686</td>\n",
              "    </tr>\n",
              "    <tr>\n",
              "      <th>min</th>\n",
              "      <td>1.000000</td>\n",
              "      <td>1.000000</td>\n",
              "      <td>1.000000</td>\n",
              "      <td>1.000000</td>\n",
              "      <td>1.000000</td>\n",
              "      <td>1.000000</td>\n",
              "    </tr>\n",
              "    <tr>\n",
              "      <th>25%</th>\n",
              "      <td>1.000000</td>\n",
              "      <td>1.000000</td>\n",
              "      <td>1.000000</td>\n",
              "      <td>1.000000</td>\n",
              "      <td>1.000000</td>\n",
              "      <td>1.000000</td>\n",
              "    </tr>\n",
              "    <tr>\n",
              "      <th>50%</th>\n",
              "      <td>1.000000</td>\n",
              "      <td>1.000000</td>\n",
              "      <td>1.000000</td>\n",
              "      <td>1.000000</td>\n",
              "      <td>2.000000</td>\n",
              "      <td>1.000000</td>\n",
              "    </tr>\n",
              "    <tr>\n",
              "      <th>75%</th>\n",
              "      <td>1.000000</td>\n",
              "      <td>1.000000</td>\n",
              "      <td>2.000000</td>\n",
              "      <td>1.000000</td>\n",
              "      <td>2.000000</td>\n",
              "      <td>2.000000</td>\n",
              "    </tr>\n",
              "    <tr>\n",
              "      <th>max</th>\n",
              "      <td>2.000000</td>\n",
              "      <td>2.000000</td>\n",
              "      <td>2.000000</td>\n",
              "      <td>2.000000</td>\n",
              "      <td>2.000000</td>\n",
              "      <td>2.000000</td>\n",
              "    </tr>\n",
              "  </tbody>\n",
              "</table>\n",
              "</div>\n",
              "      <button class=\"colab-df-convert\" onclick=\"convertToInteractive('df-19133325-0b53-44f0-8854-bf47c97a3f54')\"\n",
              "              title=\"Convert this dataframe to an interactive table.\"\n",
              "              style=\"display:none;\">\n",
              "\n",
              "  <svg xmlns=\"http://www.w3.org/2000/svg\" height=\"24px\"viewBox=\"0 0 24 24\"\n",
              "       width=\"24px\">\n",
              "    <path d=\"M0 0h24v24H0V0z\" fill=\"none\"/>\n",
              "    <path d=\"M18.56 5.44l.94 2.06.94-2.06 2.06-.94-2.06-.94-.94-2.06-.94 2.06-2.06.94zm-11 1L8.5 8.5l.94-2.06 2.06-.94-2.06-.94L8.5 2.5l-.94 2.06-2.06.94zm10 10l.94 2.06.94-2.06 2.06-.94-2.06-.94-.94-2.06-.94 2.06-2.06.94z\"/><path d=\"M17.41 7.96l-1.37-1.37c-.4-.4-.92-.59-1.43-.59-.52 0-1.04.2-1.43.59L10.3 9.45l-7.72 7.72c-.78.78-.78 2.05 0 2.83L4 21.41c.39.39.9.59 1.41.59.51 0 1.02-.2 1.41-.59l7.78-7.78 2.81-2.81c.8-.78.8-2.07 0-2.86zM5.41 20L4 18.59l7.72-7.72 1.47 1.35L5.41 20z\"/>\n",
              "  </svg>\n",
              "      </button>\n",
              "\n",
              "\n",
              "\n",
              "    <div id=\"df-f1944742-0579-432b-b5fb-f9bd3ddac2b9\">\n",
              "      <button class=\"colab-df-quickchart\" onclick=\"quickchart('df-f1944742-0579-432b-b5fb-f9bd3ddac2b9')\"\n",
              "              title=\"Suggest charts.\"\n",
              "              style=\"display:none;\">\n",
              "\n",
              "<svg xmlns=\"http://www.w3.org/2000/svg\" height=\"24px\"viewBox=\"0 0 24 24\"\n",
              "     width=\"24px\">\n",
              "    <g>\n",
              "        <path d=\"M19 3H5c-1.1 0-2 .9-2 2v14c0 1.1.9 2 2 2h14c1.1 0 2-.9 2-2V5c0-1.1-.9-2-2-2zM9 17H7v-7h2v7zm4 0h-2V7h2v10zm4 0h-2v-4h2v4z\"/>\n",
              "    </g>\n",
              "</svg>\n",
              "      </button>\n",
              "    </div>\n",
              "\n",
              "<style>\n",
              "  .colab-df-quickchart {\n",
              "    background-color: #E8F0FE;\n",
              "    border: none;\n",
              "    border-radius: 50%;\n",
              "    cursor: pointer;\n",
              "    display: none;\n",
              "    fill: #1967D2;\n",
              "    height: 32px;\n",
              "    padding: 0 0 0 0;\n",
              "    width: 32px;\n",
              "  }\n",
              "\n",
              "  .colab-df-quickchart:hover {\n",
              "    background-color: #E2EBFA;\n",
              "    box-shadow: 0px 1px 2px rgba(60, 64, 67, 0.3), 0px 1px 3px 1px rgba(60, 64, 67, 0.15);\n",
              "    fill: #174EA6;\n",
              "  }\n",
              "\n",
              "  [theme=dark] .colab-df-quickchart {\n",
              "    background-color: #3B4455;\n",
              "    fill: #D2E3FC;\n",
              "  }\n",
              "\n",
              "  [theme=dark] .colab-df-quickchart:hover {\n",
              "    background-color: #434B5C;\n",
              "    box-shadow: 0px 1px 3px 1px rgba(0, 0, 0, 0.15);\n",
              "    filter: drop-shadow(0px 1px 2px rgba(0, 0, 0, 0.3));\n",
              "    fill: #FFFFFF;\n",
              "  }\n",
              "</style>\n",
              "\n",
              "    <script>\n",
              "      async function quickchart(key) {\n",
              "        const containerElement = document.querySelector('#' + key);\n",
              "        const charts = await google.colab.kernel.invokeFunction(\n",
              "            'suggestCharts', [key], {});\n",
              "      }\n",
              "    </script>\n",
              "\n",
              "      <script>\n",
              "\n",
              "function displayQuickchartButton(domScope) {\n",
              "  let quickchartButtonEl =\n",
              "    domScope.querySelector('#df-f1944742-0579-432b-b5fb-f9bd3ddac2b9 button.colab-df-quickchart');\n",
              "  quickchartButtonEl.style.display =\n",
              "    google.colab.kernel.accessAllowed ? 'block' : 'none';\n",
              "}\n",
              "\n",
              "        displayQuickchartButton(document);\n",
              "      </script>\n",
              "      <style>\n",
              "    .colab-df-container {\n",
              "      display:flex;\n",
              "      flex-wrap:wrap;\n",
              "      gap: 12px;\n",
              "    }\n",
              "\n",
              "    .colab-df-convert {\n",
              "      background-color: #E8F0FE;\n",
              "      border: none;\n",
              "      border-radius: 50%;\n",
              "      cursor: pointer;\n",
              "      display: none;\n",
              "      fill: #1967D2;\n",
              "      height: 32px;\n",
              "      padding: 0 0 0 0;\n",
              "      width: 32px;\n",
              "    }\n",
              "\n",
              "    .colab-df-convert:hover {\n",
              "      background-color: #E2EBFA;\n",
              "      box-shadow: 0px 1px 2px rgba(60, 64, 67, 0.3), 0px 1px 3px 1px rgba(60, 64, 67, 0.15);\n",
              "      fill: #174EA6;\n",
              "    }\n",
              "\n",
              "    [theme=dark] .colab-df-convert {\n",
              "      background-color: #3B4455;\n",
              "      fill: #D2E3FC;\n",
              "    }\n",
              "\n",
              "    [theme=dark] .colab-df-convert:hover {\n",
              "      background-color: #434B5C;\n",
              "      box-shadow: 0px 1px 3px 1px rgba(0, 0, 0, 0.15);\n",
              "      filter: drop-shadow(0px 1px 2px rgba(0, 0, 0, 0.3));\n",
              "      fill: #FFFFFF;\n",
              "    }\n",
              "  </style>\n",
              "\n",
              "      <script>\n",
              "        const buttonEl =\n",
              "          document.querySelector('#df-19133325-0b53-44f0-8854-bf47c97a3f54 button.colab-df-convert');\n",
              "        buttonEl.style.display =\n",
              "          google.colab.kernel.accessAllowed ? 'block' : 'none';\n",
              "\n",
              "        async function convertToInteractive(key) {\n",
              "          const element = document.querySelector('#df-19133325-0b53-44f0-8854-bf47c97a3f54');\n",
              "          const dataTable =\n",
              "            await google.colab.kernel.invokeFunction('convertToInteractive',\n",
              "                                                     [key], {});\n",
              "          if (!dataTable) return;\n",
              "\n",
              "          const docLinkHtml = 'Like what you see? Visit the ' +\n",
              "            '<a target=\"_blank\" href=https://colab.research.google.com/notebooks/data_table.ipynb>data table notebook</a>'\n",
              "            + ' to learn more about interactive tables.';\n",
              "          element.innerHTML = '';\n",
              "          dataTable['output_type'] = 'display_data';\n",
              "          await google.colab.output.renderOutput(dataTable, element);\n",
              "          const docLink = document.createElement('div');\n",
              "          docLink.innerHTML = docLinkHtml;\n",
              "          element.appendChild(docLink);\n",
              "        }\n",
              "      </script>\n",
              "    </div>\n",
              "  </div>\n"
            ]
          },
          "metadata": {},
          "execution_count": 18
        }
      ]
    },
    {
      "cell_type": "code",
      "source": [
        "encode= {1:1, 2:0}\n",
        "for col in ab_cols:\n",
        "  df[col]= df[col].map(encode)"
      ],
      "metadata": {
        "id": "XM1CqEtk-xda"
      },
      "execution_count": 19,
      "outputs": []
    },
    {
      "cell_type": "code",
      "source": [
        "df[ab_cols].head()"
      ],
      "metadata": {
        "colab": {
          "base_uri": "https://localhost:8080/",
          "height": 206
        },
        "id": "b9q7FEEi_cWc",
        "outputId": "407dd0dd-de86-4b9f-f689-142edde7e43b"
      },
      "execution_count": 20,
      "outputs": [
        {
          "output_type": "execute_result",
          "data": {
            "text/plain": [
              "   abdefect  abhlth  abpoor  abrape  absingle  abnomore\n",
              "0         1       1       0       1         0         0\n",
              "1         1       1       0       1         1         1\n",
              "4         1       1       0       0         0         0\n",
              "5         1       1       1       1         1         1\n",
              "6         1       1       1       1         0         1"
            ],
            "text/html": [
              "\n",
              "\n",
              "  <div id=\"df-f7f8dc52-deac-4561-a4ce-445b468d1d5c\">\n",
              "    <div class=\"colab-df-container\">\n",
              "      <div>\n",
              "<style scoped>\n",
              "    .dataframe tbody tr th:only-of-type {\n",
              "        vertical-align: middle;\n",
              "    }\n",
              "\n",
              "    .dataframe tbody tr th {\n",
              "        vertical-align: top;\n",
              "    }\n",
              "\n",
              "    .dataframe thead th {\n",
              "        text-align: right;\n",
              "    }\n",
              "</style>\n",
              "<table border=\"1\" class=\"dataframe\">\n",
              "  <thead>\n",
              "    <tr style=\"text-align: right;\">\n",
              "      <th></th>\n",
              "      <th>abdefect</th>\n",
              "      <th>abhlth</th>\n",
              "      <th>abpoor</th>\n",
              "      <th>abrape</th>\n",
              "      <th>absingle</th>\n",
              "      <th>abnomore</th>\n",
              "    </tr>\n",
              "  </thead>\n",
              "  <tbody>\n",
              "    <tr>\n",
              "      <th>0</th>\n",
              "      <td>1</td>\n",
              "      <td>1</td>\n",
              "      <td>0</td>\n",
              "      <td>1</td>\n",
              "      <td>0</td>\n",
              "      <td>0</td>\n",
              "    </tr>\n",
              "    <tr>\n",
              "      <th>1</th>\n",
              "      <td>1</td>\n",
              "      <td>1</td>\n",
              "      <td>0</td>\n",
              "      <td>1</td>\n",
              "      <td>1</td>\n",
              "      <td>1</td>\n",
              "    </tr>\n",
              "    <tr>\n",
              "      <th>4</th>\n",
              "      <td>1</td>\n",
              "      <td>1</td>\n",
              "      <td>0</td>\n",
              "      <td>0</td>\n",
              "      <td>0</td>\n",
              "      <td>0</td>\n",
              "    </tr>\n",
              "    <tr>\n",
              "      <th>5</th>\n",
              "      <td>1</td>\n",
              "      <td>1</td>\n",
              "      <td>1</td>\n",
              "      <td>1</td>\n",
              "      <td>1</td>\n",
              "      <td>1</td>\n",
              "    </tr>\n",
              "    <tr>\n",
              "      <th>6</th>\n",
              "      <td>1</td>\n",
              "      <td>1</td>\n",
              "      <td>1</td>\n",
              "      <td>1</td>\n",
              "      <td>0</td>\n",
              "      <td>1</td>\n",
              "    </tr>\n",
              "  </tbody>\n",
              "</table>\n",
              "</div>\n",
              "      <button class=\"colab-df-convert\" onclick=\"convertToInteractive('df-f7f8dc52-deac-4561-a4ce-445b468d1d5c')\"\n",
              "              title=\"Convert this dataframe to an interactive table.\"\n",
              "              style=\"display:none;\">\n",
              "\n",
              "  <svg xmlns=\"http://www.w3.org/2000/svg\" height=\"24px\"viewBox=\"0 0 24 24\"\n",
              "       width=\"24px\">\n",
              "    <path d=\"M0 0h24v24H0V0z\" fill=\"none\"/>\n",
              "    <path d=\"M18.56 5.44l.94 2.06.94-2.06 2.06-.94-2.06-.94-.94-2.06-.94 2.06-2.06.94zm-11 1L8.5 8.5l.94-2.06 2.06-.94-2.06-.94L8.5 2.5l-.94 2.06-2.06.94zm10 10l.94 2.06.94-2.06 2.06-.94-2.06-.94-.94-2.06-.94 2.06-2.06.94z\"/><path d=\"M17.41 7.96l-1.37-1.37c-.4-.4-.92-.59-1.43-.59-.52 0-1.04.2-1.43.59L10.3 9.45l-7.72 7.72c-.78.78-.78 2.05 0 2.83L4 21.41c.39.39.9.59 1.41.59.51 0 1.02-.2 1.41-.59l7.78-7.78 2.81-2.81c.8-.78.8-2.07 0-2.86zM5.41 20L4 18.59l7.72-7.72 1.47 1.35L5.41 20z\"/>\n",
              "  </svg>\n",
              "      </button>\n",
              "\n",
              "\n",
              "\n",
              "    <div id=\"df-daa9602e-cf32-4a7c-869d-63de12129232\">\n",
              "      <button class=\"colab-df-quickchart\" onclick=\"quickchart('df-daa9602e-cf32-4a7c-869d-63de12129232')\"\n",
              "              title=\"Suggest charts.\"\n",
              "              style=\"display:none;\">\n",
              "\n",
              "<svg xmlns=\"http://www.w3.org/2000/svg\" height=\"24px\"viewBox=\"0 0 24 24\"\n",
              "     width=\"24px\">\n",
              "    <g>\n",
              "        <path d=\"M19 3H5c-1.1 0-2 .9-2 2v14c0 1.1.9 2 2 2h14c1.1 0 2-.9 2-2V5c0-1.1-.9-2-2-2zM9 17H7v-7h2v7zm4 0h-2V7h2v10zm4 0h-2v-4h2v4z\"/>\n",
              "    </g>\n",
              "</svg>\n",
              "      </button>\n",
              "    </div>\n",
              "\n",
              "<style>\n",
              "  .colab-df-quickchart {\n",
              "    background-color: #E8F0FE;\n",
              "    border: none;\n",
              "    border-radius: 50%;\n",
              "    cursor: pointer;\n",
              "    display: none;\n",
              "    fill: #1967D2;\n",
              "    height: 32px;\n",
              "    padding: 0 0 0 0;\n",
              "    width: 32px;\n",
              "  }\n",
              "\n",
              "  .colab-df-quickchart:hover {\n",
              "    background-color: #E2EBFA;\n",
              "    box-shadow: 0px 1px 2px rgba(60, 64, 67, 0.3), 0px 1px 3px 1px rgba(60, 64, 67, 0.15);\n",
              "    fill: #174EA6;\n",
              "  }\n",
              "\n",
              "  [theme=dark] .colab-df-quickchart {\n",
              "    background-color: #3B4455;\n",
              "    fill: #D2E3FC;\n",
              "  }\n",
              "\n",
              "  [theme=dark] .colab-df-quickchart:hover {\n",
              "    background-color: #434B5C;\n",
              "    box-shadow: 0px 1px 3px 1px rgba(0, 0, 0, 0.15);\n",
              "    filter: drop-shadow(0px 1px 2px rgba(0, 0, 0, 0.3));\n",
              "    fill: #FFFFFF;\n",
              "  }\n",
              "</style>\n",
              "\n",
              "    <script>\n",
              "      async function quickchart(key) {\n",
              "        const containerElement = document.querySelector('#' + key);\n",
              "        const charts = await google.colab.kernel.invokeFunction(\n",
              "            'suggestCharts', [key], {});\n",
              "      }\n",
              "    </script>\n",
              "\n",
              "      <script>\n",
              "\n",
              "function displayQuickchartButton(domScope) {\n",
              "  let quickchartButtonEl =\n",
              "    domScope.querySelector('#df-daa9602e-cf32-4a7c-869d-63de12129232 button.colab-df-quickchart');\n",
              "  quickchartButtonEl.style.display =\n",
              "    google.colab.kernel.accessAllowed ? 'block' : 'none';\n",
              "}\n",
              "\n",
              "        displayQuickchartButton(document);\n",
              "      </script>\n",
              "      <style>\n",
              "    .colab-df-container {\n",
              "      display:flex;\n",
              "      flex-wrap:wrap;\n",
              "      gap: 12px;\n",
              "    }\n",
              "\n",
              "    .colab-df-convert {\n",
              "      background-color: #E8F0FE;\n",
              "      border: none;\n",
              "      border-radius: 50%;\n",
              "      cursor: pointer;\n",
              "      display: none;\n",
              "      fill: #1967D2;\n",
              "      height: 32px;\n",
              "      padding: 0 0 0 0;\n",
              "      width: 32px;\n",
              "    }\n",
              "\n",
              "    .colab-df-convert:hover {\n",
              "      background-color: #E2EBFA;\n",
              "      box-shadow: 0px 1px 2px rgba(60, 64, 67, 0.3), 0px 1px 3px 1px rgba(60, 64, 67, 0.15);\n",
              "      fill: #174EA6;\n",
              "    }\n",
              "\n",
              "    [theme=dark] .colab-df-convert {\n",
              "      background-color: #3B4455;\n",
              "      fill: #D2E3FC;\n",
              "    }\n",
              "\n",
              "    [theme=dark] .colab-df-convert:hover {\n",
              "      background-color: #434B5C;\n",
              "      box-shadow: 0px 1px 3px 1px rgba(0, 0, 0, 0.15);\n",
              "      filter: drop-shadow(0px 1px 2px rgba(0, 0, 0, 0.3));\n",
              "      fill: #FFFFFF;\n",
              "    }\n",
              "  </style>\n",
              "\n",
              "      <script>\n",
              "        const buttonEl =\n",
              "          document.querySelector('#df-f7f8dc52-deac-4561-a4ce-445b468d1d5c button.colab-df-convert');\n",
              "        buttonEl.style.display =\n",
              "          google.colab.kernel.accessAllowed ? 'block' : 'none';\n",
              "\n",
              "        async function convertToInteractive(key) {\n",
              "          const element = document.querySelector('#df-f7f8dc52-deac-4561-a4ce-445b468d1d5c');\n",
              "          const dataTable =\n",
              "            await google.colab.kernel.invokeFunction('convertToInteractive',\n",
              "                                                     [key], {});\n",
              "          if (!dataTable) return;\n",
              "\n",
              "          const docLinkHtml = 'Like what you see? Visit the ' +\n",
              "            '<a target=\"_blank\" href=https://colab.research.google.com/notebooks/data_table.ipynb>data table notebook</a>'\n",
              "            + ' to learn more about interactive tables.';\n",
              "          element.innerHTML = '';\n",
              "          dataTable['output_type'] = 'display_data';\n",
              "          await google.colab.output.renderOutput(dataTable, element);\n",
              "          const docLink = document.createElement('div');\n",
              "          docLink.innerHTML = docLinkHtml;\n",
              "          element.appendChild(docLink);\n",
              "        }\n",
              "      </script>\n",
              "    </div>\n",
              "  </div>\n"
            ]
          },
          "metadata": {},
          "execution_count": 20
        }
      ]
    },
    {
      "cell_type": "markdown",
      "source": [
        "Next, I will look at the distribution of the values to get more insight into the reason behind them."
      ],
      "metadata": {
        "id": "ADfcmkCi_miK"
      }
    },
    {
      "cell_type": "code",
      "source": [
        "#sort columns from most 0s to least 0s by index\n",
        "import numpy as np\n",
        "num_0=[]\n",
        "for col in ab_cols:\n",
        "  num_0.append(df[col].value_counts().loc[0.0])\n",
        "sortedd= np.flip(np.argsort(num_0))"
      ],
      "metadata": {
        "id": "SRF0b5VevmL3"
      },
      "execution_count": 21,
      "outputs": []
    },
    {
      "cell_type": "code",
      "source": [
        "import matplotlib.pyplot as plt\n",
        "#visualize distrubtuions (% of data)\n",
        "for i in sortedd:\n",
        "  col= ab_cols[i]\n",
        "  valc = df[col].value_counts()\n",
        "  x=list(valc.index)\n",
        "  y= list(valc)/np.array(df[col].shape[0])\n",
        "  plt.bar([0,1],y)\n",
        "  plt.xticks([0,1], labels= x)\n",
        "  plt.title(col+ ' value proportions')\n",
        "  for index, value in enumerate(y):\n",
        "    plt.text(index, value,str(round(value,3)))\n",
        "  plt.show()\n"
      ],
      "metadata": {
        "colab": {
          "base_uri": "https://localhost:8080/",
          "height": 1000
        },
        "id": "C1EL_zqHuWgF",
        "outputId": "bcc3b1d8-b9f2-48a5-f619-04c880f41b4f"
      },
      "execution_count": 22,
      "outputs": [
        {
          "output_type": "display_data",
          "data": {
            "text/plain": [
              "<Figure size 640x480 with 1 Axes>"
            ],
            "image/png": "[encoded data removed]"
          },
          "metadata": {}
        },
        {
          "output_type": "display_data",
          "data": {
            "text/plain": [
              "<Figure size 640x480 with 1 Axes>"
            ],
            "image/png": "[encoded data removed]"
          },
          "metadata": {}
        },
        {
          "output_type": "display_data",
          "data": {
            "text/plain": [
              "<Figure size 640x480 with 1 Axes>"
            ],
            "image/png": "[encoded data removed]"
          },
          "metadata": {}
        },
        {
          "output_type": "display_data",
          "data": {
            "text/plain": [
              "<Figure size 640x480 with 1 Axes>"
            ],
            "image/png": "[encoded data removed]"
          },
          "metadata": {}
        },
        {
          "output_type": "display_data",
          "data": {
            "text/plain": [
              "<Figure size 640x480 with 1 Axes>"
            ],
            "image/png": "[encoded data removed]"
          },
          "metadata": {}
        },
        {
          "output_type": "display_data",
          "data": {
            "text/plain": [
              "<Figure size 640x480 with 1 Axes>"
            ],
            "image/png": "[encoded data removed]"
          },
          "metadata": {}
        }
      ]
    },
    {
      "cell_type": "markdown",
      "source": [
        "We can see that the questions are indeed in a hierichal order, and the yes to no ratio significantly increases with each question. <br/>\n",
        "Moreover, the first three questions were more controversial, with the distribtuions being more evenly split, while the latter three have a significantly larger yes-to-no ratio. Next, I will combine these values into one column to form the Rossi Scale."
      ],
      "metadata": {
        "id": "gwddT-vZqyN2"
      }
    },
    {
      "cell_type": "code",
      "source": [
        "\n",
        "#combine ab_cols into rossi scale\n",
        "series= df[ab_cols[0]]\n",
        "for c in ab_cols[1:]:\n",
        "  series+= df[c]"
      ],
      "metadata": {
        "id": "iKD44yPw5uKp"
      },
      "execution_count": 23,
      "outputs": []
    },
    {
      "cell_type": "code",
      "source": [
        "#turn series into dataframe\n",
        "import pandas as pd\n",
        "scale_df= pd.DataFrame(series)\n",
        "scale_df.columns= ['Rossi scale']"
      ],
      "metadata": {
        "id": "7Y1KJesc63OA"
      },
      "execution_count": 24,
      "outputs": []
    },
    {
      "cell_type": "code",
      "source": [
        "#combine + drop origina ab_cols\n",
        "data= pd.concat([df.drop(columns= list(ab_cols)), scale_df], axis=1)"
      ],
      "metadata": {
        "id": "IAj-ubFc6a6a"
      },
      "execution_count": 25,
      "outputs": []
    },
    {
      "cell_type": "code",
      "source": [
        "\n",
        "data.head()"
      ],
      "metadata": {
        "colab": {
          "base_uri": "https://localhost:8080/",
          "height": 287
        },
        "id": "MkC7R2Re8AOe",
        "outputId": "3cca0466-d0af-468a-b5fd-86ff0e09f7c0"
      },
      "execution_count": 26,
      "outputs": [
        {
          "output_type": "execute_result",
          "data": {
            "text/plain": [
              "   relig  relig16  race  intage  childs  educ  pray  sex  marital  quallife  \\\n",
              "0   11.0      1.0   1.0    68.0     0.0  14.0   3.0  1.0      5.0       3.0   \n",
              "1    2.0      2.0   1.0    62.0     3.0  10.0   2.0  2.0      4.0       1.0   \n",
              "4    2.0      2.0   2.0    68.0     0.0  18.0   2.0  1.0      3.0       2.0   \n",
              "5    2.0      2.0   1.0    62.0     2.0  16.0   3.0  2.0      2.0       4.0   \n",
              "6    1.0      1.0   2.0    46.0     6.0  13.0   1.0  2.0      3.0       3.0   \n",
              "\n",
              "   hispanic  family16  born  partyid  wrkstat  satsoc  satfin  Rossi scale  \n",
              "0       1.0       1.0   1.0      5.0      3.0     3.0     3.0            3  \n",
              "1       1.0       1.0   1.0      2.0      5.0     2.0     2.0            5  \n",
              "4       1.0       1.0   1.0      6.0      5.0     1.0     1.0            2  \n",
              "5       1.0       1.0   1.0      2.0      5.0     4.0     2.0            6  \n",
              "6       1.0       5.0   1.0      0.0      1.0     3.0     2.0            5  "
            ],
            "text/html": [
              "\n",
              "\n",
              "  <div id=\"df-085dbffd-1d10-459c-8acf-acab864360e2\">\n",
              "    <div class=\"colab-df-container\">\n",
              "      <div>\n",
              "<style scoped>\n",
              "    .dataframe tbody tr th:only-of-type {\n",
              "        vertical-align: middle;\n",
              "    }\n",
              "\n",
              "    .dataframe tbody tr th {\n",
              "        vertical-align: top;\n",
              "    }\n",
              "\n",
              "    .dataframe thead th {\n",
              "        text-align: right;\n",
              "    }\n",
              "</style>\n",
              "<table border=\"1\" class=\"dataframe\">\n",
              "  <thead>\n",
              "    <tr style=\"text-align: right;\">\n",
              "      <th></th>\n",
              "      <th>relig</th>\n",
              "      <th>relig16</th>\n",
              "      <th>race</th>\n",
              "      <th>intage</th>\n",
              "      <th>childs</th>\n",
              "      <th>educ</th>\n",
              "      <th>pray</th>\n",
              "      <th>sex</th>\n",
              "      <th>marital</th>\n",
              "      <th>quallife</th>\n",
              "      <th>hispanic</th>\n",
              "      <th>family16</th>\n",
              "      <th>born</th>\n",
              "      <th>partyid</th>\n",
              "      <th>wrkstat</th>\n",
              "      <th>satsoc</th>\n",
              "      <th>satfin</th>\n",
              "      <th>Rossi scale</th>\n",
              "    </tr>\n",
              "  </thead>\n",
              "  <tbody>\n",
              "    <tr>\n",
              "      <th>0</th>\n",
              "      <td>11.0</td>\n",
              "      <td>1.0</td>\n",
              "      <td>1.0</td>\n",
              "      <td>68.0</td>\n",
              "      <td>0.0</td>\n",
              "      <td>14.0</td>\n",
              "      <td>3.0</td>\n",
              "      <td>1.0</td>\n",
              "      <td>5.0</td>\n",
              "      <td>3.0</td>\n",
              "      <td>1.0</td>\n",
              "      <td>1.0</td>\n",
              "      <td>1.0</td>\n",
              "      <td>5.0</td>\n",
              "      <td>3.0</td>\n",
              "      <td>3.0</td>\n",
              "      <td>3.0</td>\n",
              "      <td>3</td>\n",
              "    </tr>\n",
              "    <tr>\n",
              "      <th>1</th>\n",
              "      <td>2.0</td>\n",
              "      <td>2.0</td>\n",
              "      <td>1.0</td>\n",
              "      <td>62.0</td>\n",
              "      <td>3.0</td>\n",
              "      <td>10.0</td>\n",
              "      <td>2.0</td>\n",
              "      <td>2.0</td>\n",
              "      <td>4.0</td>\n",
              "      <td>1.0</td>\n",
              "      <td>1.0</td>\n",
              "      <td>1.0</td>\n",
              "      <td>1.0</td>\n",
              "      <td>2.0</td>\n",
              "      <td>5.0</td>\n",
              "      <td>2.0</td>\n",
              "      <td>2.0</td>\n",
              "      <td>5</td>\n",
              "    </tr>\n",
              "    <tr>\n",
              "      <th>4</th>\n",
              "      <td>2.0</td>\n",
              "      <td>2.0</td>\n",
              "      <td>2.0</td>\n",
              "      <td>68.0</td>\n",
              "      <td>0.0</td>\n",
              "      <td>18.0</td>\n",
              "      <td>2.0</td>\n",
              "      <td>1.0</td>\n",
              "      <td>3.0</td>\n",
              "      <td>2.0</td>\n",
              "      <td>1.0</td>\n",
              "      <td>1.0</td>\n",
              "      <td>1.0</td>\n",
              "      <td>6.0</td>\n",
              "      <td>5.0</td>\n",
              "      <td>1.0</td>\n",
              "      <td>1.0</td>\n",
              "      <td>2</td>\n",
              "    </tr>\n",
              "    <tr>\n",
              "      <th>5</th>\n",
              "      <td>2.0</td>\n",
              "      <td>2.0</td>\n",
              "      <td>1.0</td>\n",
              "      <td>62.0</td>\n",
              "      <td>2.0</td>\n",
              "      <td>16.0</td>\n",
              "      <td>3.0</td>\n",
              "      <td>2.0</td>\n",
              "      <td>2.0</td>\n",
              "      <td>4.0</td>\n",
              "      <td>1.0</td>\n",
              "      <td>1.0</td>\n",
              "      <td>1.0</td>\n",
              "      <td>2.0</td>\n",
              "      <td>5.0</td>\n",
              "      <td>4.0</td>\n",
              "      <td>2.0</td>\n",
              "      <td>6</td>\n",
              "    </tr>\n",
              "    <tr>\n",
              "      <th>6</th>\n",
              "      <td>1.0</td>\n",
              "      <td>1.0</td>\n",
              "      <td>2.0</td>\n",
              "      <td>46.0</td>\n",
              "      <td>6.0</td>\n",
              "      <td>13.0</td>\n",
              "      <td>1.0</td>\n",
              "      <td>2.0</td>\n",
              "      <td>3.0</td>\n",
              "      <td>3.0</td>\n",
              "      <td>1.0</td>\n",
              "      <td>5.0</td>\n",
              "      <td>1.0</td>\n",
              "      <td>0.0</td>\n",
              "      <td>1.0</td>\n",
              "      <td>3.0</td>\n",
              "      <td>2.0</td>\n",
              "      <td>5</td>\n",
              "    </tr>\n",
              "  </tbody>\n",
              "</table>\n",
              "</div>\n",
              "      <button class=\"colab-df-convert\" onclick=\"convertToInteractive('df-085dbffd-1d10-459c-8acf-acab864360e2')\"\n",
              "              title=\"Convert this dataframe to an interactive table.\"\n",
              "              style=\"display:none;\">\n",
              "\n",
              "  <svg xmlns=\"http://www.w3.org/2000/svg\" height=\"24px\"viewBox=\"0 0 24 24\"\n",
              "       width=\"24px\">\n",
              "    <path d=\"M0 0h24v24H0V0z\" fill=\"none\"/>\n",
              "    <path d=\"M18.56 5.44l.94 2.06.94-2.06 2.06-.94-2.06-.94-.94-2.06-.94 2.06-2.06.94zm-11 1L8.5 8.5l.94-2.06 2.06-.94-2.06-.94L8.5 2.5l-.94 2.06-2.06.94zm10 10l.94 2.06.94-2.06 2.06-.94-2.06-.94-.94-2.06-.94 2.06-2.06.94z\"/><path d=\"M17.41 7.96l-1.37-1.37c-.4-.4-.92-.59-1.43-.59-.52 0-1.04.2-1.43.59L10.3 9.45l-7.72 7.72c-.78.78-.78 2.05 0 2.83L4 21.41c.39.39.9.59 1.41.59.51 0 1.02-.2 1.41-.59l7.78-7.78 2.81-2.81c.8-.78.8-2.07 0-2.86zM5.41 20L4 18.59l7.72-7.72 1.47 1.35L5.41 20z\"/>\n",
              "  </svg>\n",
              "      </button>\n",
              "\n",
              "\n",
              "\n",
              "    <div id=\"df-74d3ae5e-976b-4079-b23f-b0070d721ca4\">\n",
              "      <button class=\"colab-df-quickchart\" onclick=\"quickchart('df-74d3ae5e-976b-4079-b23f-b0070d721ca4')\"\n",
              "              title=\"Suggest charts.\"\n",
              "              style=\"display:none;\">\n",
              "\n",
              "<svg xmlns=\"http://www.w3.org/2000/svg\" height=\"24px\"viewBox=\"0 0 24 24\"\n",
              "     width=\"24px\">\n",
              "    <g>\n",
              "        <path d=\"M19 3H5c-1.1 0-2 .9-2 2v14c0 1.1.9 2 2 2h14c1.1 0 2-.9 2-2V5c0-1.1-.9-2-2-2zM9 17H7v-7h2v7zm4 0h-2V7h2v10zm4 0h-2v-4h2v4z\"/>\n",
              "    </g>\n",
              "</svg>\n",
              "      </button>\n",
              "    </div>\n",
              "\n",
              "<style>\n",
              "  .colab-df-quickchart {\n",
              "    background-color: #E8F0FE;\n",
              "    border: none;\n",
              "    border-radius: 50%;\n",
              "    cursor: pointer;\n",
              "    display: none;\n",
              "    fill: #1967D2;\n",
              "    height: 32px;\n",
              "    padding: 0 0 0 0;\n",
              "    width: 32px;\n",
              "  }\n",
              "\n",
              "  .colab-df-quickchart:hover {\n",
              "    background-color: #E2EBFA;\n",
              "    box-shadow: 0px 1px 2px rgba(60, 64, 67, 0.3), 0px 1px 3px 1px rgba(60, 64, 67, 0.15);\n",
              "    fill: #174EA6;\n",
              "  }\n",
              "\n",
              "  [theme=dark] .colab-df-quickchart {\n",
              "    background-color: #3B4455;\n",
              "    fill: #D2E3FC;\n",
              "  }\n",
              "\n",
              "  [theme=dark] .colab-df-quickchart:hover {\n",
              "    background-color: #434B5C;\n",
              "    box-shadow: 0px 1px 3px 1px rgba(0, 0, 0, 0.15);\n",
              "    filter: drop-shadow(0px 1px 2px rgba(0, 0, 0, 0.3));\n",
              "    fill: #FFFFFF;\n",
              "  }\n",
              "</style>\n",
              "\n",
              "    <script>\n",
              "      async function quickchart(key) {\n",
              "        const containerElement = document.querySelector('#' + key);\n",
              "        const charts = await google.colab.kernel.invokeFunction(\n",
              "            'suggestCharts', [key], {});\n",
              "      }\n",
              "    </script>\n",
              "\n",
              "      <script>\n",
              "\n",
              "function displayQuickchartButton(domScope) {\n",
              "  let quickchartButtonEl =\n",
              "    domScope.querySelector('#df-74d3ae5e-976b-4079-b23f-b0070d721ca4 button.colab-df-quickchart');\n",
              "  quickchartButtonEl.style.display =\n",
              "    google.colab.kernel.accessAllowed ? 'block' : 'none';\n",
              "}\n",
              "\n",
              "        displayQuickchartButton(document);\n",
              "      </script>\n",
              "      <style>\n",
              "    .colab-df-container {\n",
              "      display:flex;\n",
              "      flex-wrap:wrap;\n",
              "      gap: 12px;\n",
              "    }\n",
              "\n",
              "    .colab-df-convert {\n",
              "      background-color: #E8F0FE;\n",
              "      border: none;\n",
              "      border-radius: 50%;\n",
              "      cursor: pointer;\n",
              "      display: none;\n",
              "      fill: #1967D2;\n",
              "      height: 32px;\n",
              "      padding: 0 0 0 0;\n",
              "      width: 32px;\n",
              "    }\n",
              "\n",
              "    .colab-df-convert:hover {\n",
              "      background-color: #E2EBFA;\n",
              "      box-shadow: 0px 1px 2px rgba(60, 64, 67, 0.3), 0px 1px 3px 1px rgba(60, 64, 67, 0.15);\n",
              "      fill: #174EA6;\n",
              "    }\n",
              "\n",
              "    [theme=dark] .colab-df-convert {\n",
              "      background-color: #3B4455;\n",
              "      fill: #D2E3FC;\n",
              "    }\n",
              "\n",
              "    [theme=dark] .colab-df-convert:hover {\n",
              "      background-color: #434B5C;\n",
              "      box-shadow: 0px 1px 3px 1px rgba(0, 0, 0, 0.15);\n",
              "      filter: drop-shadow(0px 1px 2px rgba(0, 0, 0, 0.3));\n",
              "      fill: #FFFFFF;\n",
              "    }\n",
              "  </style>\n",
              "\n",
              "      <script>\n",
              "        const buttonEl =\n",
              "          document.querySelector('#df-085dbffd-1d10-459c-8acf-acab864360e2 button.colab-df-convert');\n",
              "        buttonEl.style.display =\n",
              "          google.colab.kernel.accessAllowed ? 'block' : 'none';\n",
              "\n",
              "        async function convertToInteractive(key) {\n",
              "          const element = document.querySelector('#df-085dbffd-1d10-459c-8acf-acab864360e2');\n",
              "          const dataTable =\n",
              "            await google.colab.kernel.invokeFunction('convertToInteractive',\n",
              "                                                     [key], {});\n",
              "          if (!dataTable) return;\n",
              "\n",
              "          const docLinkHtml = 'Like what you see? Visit the ' +\n",
              "            '<a target=\"_blank\" href=https://colab.research.google.com/notebooks/data_table.ipynb>data table notebook</a>'\n",
              "            + ' to learn more about interactive tables.';\n",
              "          element.innerHTML = '';\n",
              "          dataTable['output_type'] = 'display_data';\n",
              "          await google.colab.output.renderOutput(dataTable, element);\n",
              "          const docLink = document.createElement('div');\n",
              "          docLink.innerHTML = docLinkHtml;\n",
              "          element.appendChild(docLink);\n",
              "        }\n",
              "      </script>\n",
              "    </div>\n",
              "  </div>\n"
            ]
          },
          "metadata": {},
          "execution_count": 26
        }
      ]
    },
    {
      "cell_type": "markdown",
      "source": [
        "Lastly, since I am building a classification model, I will make a 'target' column, classifying those who score higher than 3 on the Rossi scale into the group that is in favor of abortion."
      ],
      "metadata": {
        "id": "QZaQ0kY7CCG1"
      }
    },
    {
      "cell_type": "code",
      "source": [
        "#Create target column where 1 indicates support (Rossi scale >=4) and 0 indicates lack of support\n",
        "data['target']= data['Rossi scale'].apply(lambda x: 1 if x > 3 else 0)"
      ],
      "metadata": {
        "id": "5pnsyXDpTDCs"
      },
      "execution_count": 27,
      "outputs": []
    },
    {
      "cell_type": "code",
      "source": [
        "#Vizualise distributions of rossi scale and binary version respectively\n",
        "ros_vc= data['Rossi scale'].value_counts()\n",
        "plt.bar(ros_vc.index, ros_vc/ros_vc.sum())\n",
        "plt.title('Rossi scale distribution')"
      ],
      "metadata": {
        "colab": {
          "base_uri": "https://localhost:8080/",
          "height": 470
        },
        "id": "-DjlYCFqVyqh",
        "outputId": "e6e35866-27ce-47d3-8bb7-b64efccc6974"
      },
      "execution_count": 28,
      "outputs": [
        {
          "output_type": "execute_result",
          "data": {
            "text/plain": [
              "Text(0.5, 1.0, 'Rossi scale distribution')"
            ]
          },
          "metadata": {},
          "execution_count": 28
        },
        {
          "output_type": "display_data",
          "data": {
            "text/plain": [
              "<Figure size 640x480 with 1 Axes>"
            ],
            "image/png": "[encoded data removed]"
          },
          "metadata": {}
        }
      ]
    },
    {
      "cell_type": "code",
      "source": [
        "tar_vc= data.target.value_counts()\n",
        "plt.bar(tar_vc.index, tar_vc/tar_vc.sum())\n",
        "plt.xticks([0,1],labels= ['against','for'])\n",
        "plt.title('target variable distribution')\n",
        "plt.show()"
      ],
      "metadata": {
        "colab": {
          "base_uri": "https://localhost:8080/",
          "height": 452
        },
        "id": "pXK1Ii7aWOeQ",
        "outputId": "99dc20f5-b378-4c77-b77e-559d74a503b8"
      },
      "execution_count": 29,
      "outputs": [
        {
          "output_type": "display_data",
          "data": {
            "text/plain": [
              "<Figure size 640x480 with 1 Axes>"
            ],
            "image/png": "[encoded data removed]"
          },
          "metadata": {}
        }
      ]
    },
    {
      "cell_type": "markdown",
      "source": [
        "It seems that there is a slight class imbalance with our dataset, with the majorty being those who are for legal abortion."
      ],
      "metadata": {
        "id": "bmItx1PGW-dj"
      }
    },
    {
      "cell_type": "markdown",
      "source": [
        "### Categorical Variables\n",
        "Next, I will encode the independent variables one by one by referring the the codebook, renaming them into the category they represent based on the documentation and then turning them into dummy variables."
      ],
      "metadata": {
        "id": "tVlqM2jrCqWj"
      }
    },
    {
      "cell_type": "code",
      "source": [
        "data.columns"
      ],
      "metadata": {
        "colab": {
          "base_uri": "https://localhost:8080/"
        },
        "id": "FK6JBYU88ROH",
        "outputId": "56452eab-f9ea-439f-d97b-0241c92eaf21"
      },
      "execution_count": 30,
      "outputs": [
        {
          "output_type": "execute_result",
          "data": {
            "text/plain": [
              "Index(['relig', 'relig16', 'race', 'intage', 'childs', 'educ', 'pray', 'sex',\n",
              "       'marital', 'quallife', 'hispanic', 'family16', 'born', 'partyid',\n",
              "       'wrkstat', 'satsoc', 'satfin', 'Rossi scale', 'target'],\n",
              "      dtype='object')"
            ]
          },
          "metadata": {},
          "execution_count": 30
        }
      ]
    },
    {
      "cell_type": "code",
      "source": [
        "#pray\n",
        "data.pray.value_counts()"
      ],
      "metadata": {
        "colab": {
          "base_uri": "https://localhost:8080/"
        },
        "id": "sXIe4gAKkWXh",
        "outputId": "2bdc83f2-11b6-4527-dd4a-89d464714da2"
      },
      "execution_count": 31,
      "outputs": [
        {
          "output_type": "execute_result",
          "data": {
            "text/plain": [
              "2.0    382\n",
              "1.0    381\n",
              "6.0    232\n",
              "5.0    142\n",
              "3.0    130\n",
              "4.0     77\n",
              "Name: pray, dtype: int64"
            ]
          },
          "metadata": {},
          "execution_count": 31
        }
      ]
    },
    {
      "cell_type": "code",
      "source": [
        "data.pray= data.pray.map({6:0,5:1,4:2,3:3,2:4,1:5})"
      ],
      "metadata": {
        "id": "1H973DlXkZhm"
      },
      "execution_count": 32,
      "outputs": []
    },
    {
      "cell_type": "code",
      "source": [
        "# work status\n",
        "data.wrkstat.value_counts()"
      ],
      "metadata": {
        "colab": {
          "base_uri": "https://localhost:8080/"
        },
        "id": "xtAzUCptQfWV",
        "outputId": "34ebee81-1e06-40a1-cf46-fd2886c2cc51"
      },
      "execution_count": 33,
      "outputs": [
        {
          "output_type": "execute_result",
          "data": {
            "text/plain": [
              "1.0    651\n",
              "5.0    251\n",
              "2.0    151\n",
              "7.0    128\n",
              "4.0     57\n",
              "6.0     56\n",
              "8.0     26\n",
              "3.0     24\n",
              "Name: wrkstat, dtype: int64"
            ]
          },
          "metadata": {},
          "execution_count": 33
        }
      ]
    },
    {
      "cell_type": "code",
      "source": [
        "data.wrkstat= data.wrkstat.map({1:'full_time',2:'prt_time',3:'temp_break',4:'unemp',5:'retired',6:'student',\n",
        "                                7:'stay_home',8:'other'})"
      ],
      "metadata": {
        "id": "uw5kKWh2QsLP"
      },
      "execution_count": 34,
      "outputs": []
    },
    {
      "cell_type": "code",
      "source": [
        "#partyid\n",
        "data.partyid.value_counts()"
      ],
      "metadata": {
        "colab": {
          "base_uri": "https://localhost:8080/"
        },
        "id": "VmFqQkKws4BO",
        "outputId": "09f312ff-b696-4aa8-c187-2fee78db4456"
      },
      "execution_count": 35,
      "outputs": [
        {
          "output_type": "execute_result",
          "data": {
            "text/plain": [
              "0.0    238\n",
              "3.0    212\n",
              "1.0    207\n",
              "2.0    194\n",
              "5.0    158\n",
              "4.0    148\n",
              "6.0    140\n",
              "7.0     47\n",
              "Name: partyid, dtype: int64"
            ]
          },
          "metadata": {},
          "execution_count": 35
        }
      ]
    },
    {
      "cell_type": "code",
      "source": [
        "#satfin\n",
        "data.satfin= data.satfin.map({3:1,2:2,1:3})"
      ],
      "metadata": {
        "id": "2e5B9zLG503g"
      },
      "execution_count": 36,
      "outputs": []
    },
    {
      "cell_type": "code",
      "source": [
        "#satsoc and quallife\n",
        "vals= sorted(data.satsoc.value_counts().index)\n",
        "mapper= dict(zip(vals,np.flip(vals)))\n",
        "data.satsoc=data.satsoc.map(mapper)\n",
        "data.quallife=data.quallife.map(mapper)"
      ],
      "metadata": {
        "id": "6xtzhpWK6Aqy"
      },
      "execution_count": 37,
      "outputs": []
    },
    {
      "cell_type": "markdown",
      "source": [
        "It looks like it is encoded on a scale on which 0 is 'Strong Democrat' and 6 is 'Strong Republican'. Since 7 is 'other party', which does not belong on this scale, I will drop those rows."
      ],
      "metadata": {
        "id": "M8jhgXnjtOAz"
      }
    },
    {
      "cell_type": "code",
      "source": [
        "#drop 'other party\n",
        "data.drop(data[data.partyid == 7].index, inplace= True)"
      ],
      "metadata": {
        "id": "GOc5cTnctFvE"
      },
      "execution_count": 38,
      "outputs": []
    },
    {
      "cell_type": "code",
      "source": [
        "#religion\n",
        "data['relig'].value_counts()"
      ],
      "metadata": {
        "colab": {
          "base_uri": "https://localhost:8080/"
        },
        "id": "HjVp6RN2CzUm",
        "outputId": "3485e4b8-a8fe-4e26-9bfe-ce6a9611cfb4"
      },
      "execution_count": 39,
      "outputs": [
        {
          "output_type": "execute_result",
          "data": {
            "text/plain": [
              "1.0     641\n",
              "4.0     310\n",
              "2.0     265\n",
              "3.0      22\n",
              "5.0      19\n",
              "11.0     15\n",
              "6.0      10\n",
              "9.0       6\n",
              "10.0      5\n",
              "7.0       4\n",
              "Name: relig, dtype: int64"
            ]
          },
          "metadata": {},
          "execution_count": 39
        }
      ]
    },
    {
      "cell_type": "code",
      "source": [
        "data['relig16'].value_counts()"
      ],
      "metadata": {
        "colab": {
          "base_uri": "https://localhost:8080/"
        },
        "id": "clKKskAFpalI",
        "outputId": "68d48276-f781-48a4-c641-90641ff84a45"
      },
      "execution_count": 40,
      "outputs": [
        {
          "output_type": "execute_result",
          "data": {
            "text/plain": [
              "1.0     688\n",
              "2.0     401\n",
              "4.0     142\n",
              "3.0      23\n",
              "10.0     10\n",
              "11.0      8\n",
              "9.0       7\n",
              "6.0       7\n",
              "7.0       6\n",
              "5.0       5\n",
              "Name: relig16, dtype: int64"
            ]
          },
          "metadata": {},
          "execution_count": 40
        }
      ]
    },
    {
      "cell_type": "code",
      "source": [
        "relig_map={1:'prot',2:'cath',3:'jew',4:'athiest',5:'other',6:'bud',7:'hind',9:'mus/isl',10:'orth-chr',11:'chr'}\n",
        "data['relig'] = data['relig'].map(relig_map)\n",
        "data['relig16']= data['relig16'].map(relig_map)"
      ],
      "metadata": {
        "id": "f5l6M_SgD52G"
      },
      "execution_count": 41,
      "outputs": []
    },
    {
      "cell_type": "code",
      "source": [
        "#race\n",
        "data.race= data.race.map({1: 'white',2:'black',3:'other'})"
      ],
      "metadata": {
        "id": "VLzNGzXgEoSw"
      },
      "execution_count": 42,
      "outputs": []
    },
    {
      "cell_type": "code",
      "source": [
        "#hispanic\n",
        "data.hispanic.value_counts()"
      ],
      "metadata": {
        "colab": {
          "base_uri": "https://localhost:8080/"
        },
        "id": "BvrLhqa2Eqp3",
        "outputId": "81828ba5-92a3-4956-d03f-3a443eb51765"
      },
      "execution_count": 43,
      "outputs": [
        {
          "output_type": "execute_result",
          "data": {
            "text/plain": [
              "1.0     1106\n",
              "2.0      135\n",
              "3.0       21\n",
              "4.0        9\n",
              "30.0       6\n",
              "6.0        5\n",
              "15.0       3\n",
              "22.0       2\n",
              "5.0        2\n",
              "11.0       2\n",
              "9.0        1\n",
              "21.0       1\n",
              "8.0        1\n",
              "10.0       1\n",
              "47.0       1\n",
              "41.0       1\n",
              "Name: hispanic, dtype: int64"
            ]
          },
          "metadata": {},
          "execution_count": 43
        }
      ]
    },
    {
      "cell_type": "code",
      "source": [
        "hisp_map= {1:'mex',2:'chica',3:'cub'}|dict(zip([x for x in range(4,48)],['other' for x in range(4,48)]))\n",
        "data.hispanic= data.hispanic.map(hisp_map)"
      ],
      "metadata": {
        "id": "4LAQZJv7GHpK"
      },
      "execution_count": 44,
      "outputs": []
    },
    {
      "cell_type": "code",
      "source": [
        "#sex\n",
        "data.sex.value_counts()"
      ],
      "metadata": {
        "colab": {
          "base_uri": "https://localhost:8080/"
        },
        "id": "NjJd7F2NHgC8",
        "outputId": "1bceafaf-d9f9-4fbb-9a0b-c0dce90e25df"
      },
      "execution_count": 45,
      "outputs": [
        {
          "output_type": "execute_result",
          "data": {
            "text/plain": [
              "2.0    729\n",
              "1.0    568\n",
              "Name: sex, dtype: int64"
            ]
          },
          "metadata": {},
          "execution_count": 45
        }
      ]
    },
    {
      "cell_type": "code",
      "source": [
        "data.sex= data.sex.map({1:'male',2:'female'})"
      ],
      "metadata": {
        "id": "9Kh-NGIvFVYN"
      },
      "execution_count": 46,
      "outputs": []
    },
    {
      "cell_type": "code",
      "source": [
        "#born (1 if born in the US, 0 if not)\n",
        "data.born = data.born.map({1:1,2:0})"
      ],
      "metadata": {
        "id": "DZynzD8-Nboh"
      },
      "execution_count": 47,
      "outputs": []
    },
    {
      "cell_type": "code",
      "source": [
        "#marital\n",
        "data.marital.value_counts()"
      ],
      "metadata": {
        "colab": {
          "base_uri": "https://localhost:8080/"
        },
        "id": "hPba7-IvSPJ_",
        "outputId": "d97c0de2-b6bd-428b-9374-e7c50e620280"
      },
      "execution_count": 48,
      "outputs": [
        {
          "output_type": "execute_result",
          "data": {
            "text/plain": [
              "1.0    530\n",
              "5.0    383\n",
              "3.0    222\n",
              "2.0    111\n",
              "4.0     51\n",
              "Name: marital, dtype: int64"
            ]
          },
          "metadata": {},
          "execution_count": 48
        }
      ]
    },
    {
      "cell_type": "code",
      "source": [
        "data.marital = data.marital.map({1.0:'mar',5.0:'sing',3.0:'div',2.0:'wid',4.0:'sep'})"
      ],
      "metadata": {
        "id": "E1ob6ON5Sw5S"
      },
      "execution_count": 49,
      "outputs": []
    },
    {
      "cell_type": "code",
      "source": [
        "#family16\n",
        "data.family16.value_counts()"
      ],
      "metadata": {
        "colab": {
          "base_uri": "https://localhost:8080/"
        },
        "id": "N49QRF83TPqq",
        "outputId": "62ae4f34-99f0-46e3-bdf0-d44e68d39a43"
      },
      "execution_count": 50,
      "outputs": [
        {
          "output_type": "execute_result",
          "data": {
            "text/plain": [
              "1.0    821\n",
              "5.0    243\n",
              "3.0     77\n",
              "0.0     39\n",
              "4.0     37\n",
              "8.0     33\n",
              "7.0     24\n",
              "2.0     17\n",
              "6.0      6\n",
              "Name: family16, dtype: int64"
            ]
          },
          "metadata": {},
          "execution_count": 50
        }
      ]
    },
    {
      "cell_type": "code",
      "source": [
        "data.family16= data.family16.map({1:'both_par',2:'step_par',3:'step_par',4:'sing_par',5:'sing_par',\n",
        "                                  6:'rel',7:'rel',8:'rel'})"
      ],
      "metadata": {
        "id": "e8b8mVBgTbXB"
      },
      "execution_count": 51,
      "outputs": []
    },
    {
      "cell_type": "code",
      "source": [
        "data.head()"
      ],
      "metadata": {
        "colab": {
          "base_uri": "https://localhost:8080/",
          "height": 287
        },
        "id": "2mfYTxTkUJtR",
        "outputId": "e23b5933-2036-4ae9-f160-9864b8b0cb38"
      },
      "execution_count": 52,
      "outputs": [
        {
          "output_type": "execute_result",
          "data": {
            "text/plain": [
              "  relig relig16   race  intage  childs  educ  pray     sex marital  quallife  \\\n",
              "0   chr    prot  white    68.0     0.0  14.0     3    male    sing       3.0   \n",
              "1  cath    cath  white    62.0     3.0  10.0     4  female     sep       5.0   \n",
              "4  cath    cath  black    68.0     0.0  18.0     4    male     div       4.0   \n",
              "5  cath    cath  white    62.0     2.0  16.0     3  female     wid       2.0   \n",
              "6  prot    prot  black    46.0     6.0  13.0     5  female     div       3.0   \n",
              "\n",
              "  hispanic  family16  born  partyid     wrkstat  satsoc  satfin  Rossi scale  \\\n",
              "0      mex  both_par     1      5.0  temp_break     3.0       1            3   \n",
              "1      mex  both_par     1      2.0     retired     4.0       2            5   \n",
              "4      mex  both_par     1      6.0     retired     5.0       3            2   \n",
              "5      mex  both_par     1      2.0     retired     2.0       2            6   \n",
              "6      mex  sing_par     1      0.0   full_time     3.0       2            5   \n",
              "\n",
              "   target  \n",
              "0       0  \n",
              "1       1  \n",
              "4       0  \n",
              "5       1  \n",
              "6       1  "
            ],
            "text/html": [
              "\n",
              "\n",
              "  <div id=\"df-aef1c9a6-098e-4ac7-961c-cf60d2aa99f8\">\n",
              "    <div class=\"colab-df-container\">\n",
              "      <div>\n",
              "<style scoped>\n",
              "    .dataframe tbody tr th:only-of-type {\n",
              "        vertical-align: middle;\n",
              "    }\n",
              "\n",
              "    .dataframe tbody tr th {\n",
              "        vertical-align: top;\n",
              "    }\n",
              "\n",
              "    .dataframe thead th {\n",
              "        text-align: right;\n",
              "    }\n",
              "</style>\n",
              "<table border=\"1\" class=\"dataframe\">\n",
              "  <thead>\n",
              "    <tr style=\"text-align: right;\">\n",
              "      <th></th>\n",
              "      <th>relig</th>\n",
              "      <th>relig16</th>\n",
              "      <th>race</th>\n",
              "      <th>intage</th>\n",
              "      <th>childs</th>\n",
              "      <th>educ</th>\n",
              "      <th>pray</th>\n",
              "      <th>sex</th>\n",
              "      <th>marital</th>\n",
              "      <th>quallife</th>\n",
              "      <th>hispanic</th>\n",
              "      <th>family16</th>\n",
              "      <th>born</th>\n",
              "      <th>partyid</th>\n",
              "      <th>wrkstat</th>\n",
              "      <th>satsoc</th>\n",
              "      <th>satfin</th>\n",
              "      <th>Rossi scale</th>\n",
              "      <th>target</th>\n",
              "    </tr>\n",
              "  </thead>\n",
              "  <tbody>\n",
              "    <tr>\n",
              "      <th>0</th>\n",
              "      <td>chr</td>\n",
              "      <td>prot</td>\n",
              "      <td>white</td>\n",
              "      <td>68.0</td>\n",
              "      <td>0.0</td>\n",
              "      <td>14.0</td>\n",
              "      <td>3</td>\n",
              "      <td>male</td>\n",
              "      <td>sing</td>\n",
              "      <td>3.0</td>\n",
              "      <td>mex</td>\n",
              "      <td>both_par</td>\n",
              "      <td>1</td>\n",
              "      <td>5.0</td>\n",
              "      <td>temp_break</td>\n",
              "      <td>3.0</td>\n",
              "      <td>1</td>\n",
              "      <td>3</td>\n",
              "      <td>0</td>\n",
              "    </tr>\n",
              "    <tr>\n",
              "      <th>1</th>\n",
              "      <td>cath</td>\n",
              "      <td>cath</td>\n",
              "      <td>white</td>\n",
              "      <td>62.0</td>\n",
              "      <td>3.0</td>\n",
              "      <td>10.0</td>\n",
              "      <td>4</td>\n",
              "      <td>female</td>\n",
              "      <td>sep</td>\n",
              "      <td>5.0</td>\n",
              "      <td>mex</td>\n",
              "      <td>both_par</td>\n",
              "      <td>1</td>\n",
              "      <td>2.0</td>\n",
              "      <td>retired</td>\n",
              "      <td>4.0</td>\n",
              "      <td>2</td>\n",
              "      <td>5</td>\n",
              "      <td>1</td>\n",
              "    </tr>\n",
              "    <tr>\n",
              "      <th>4</th>\n",
              "      <td>cath</td>\n",
              "      <td>cath</td>\n",
              "      <td>black</td>\n",
              "      <td>68.0</td>\n",
              "      <td>0.0</td>\n",
              "      <td>18.0</td>\n",
              "      <td>4</td>\n",
              "      <td>male</td>\n",
              "      <td>div</td>\n",
              "      <td>4.0</td>\n",
              "      <td>mex</td>\n",
              "      <td>both_par</td>\n",
              "      <td>1</td>\n",
              "      <td>6.0</td>\n",
              "      <td>retired</td>\n",
              "      <td>5.0</td>\n",
              "      <td>3</td>\n",
              "      <td>2</td>\n",
              "      <td>0</td>\n",
              "    </tr>\n",
              "    <tr>\n",
              "      <th>5</th>\n",
              "      <td>cath</td>\n",
              "      <td>cath</td>\n",
              "      <td>white</td>\n",
              "      <td>62.0</td>\n",
              "      <td>2.0</td>\n",
              "      <td>16.0</td>\n",
              "      <td>3</td>\n",
              "      <td>female</td>\n",
              "      <td>wid</td>\n",
              "      <td>2.0</td>\n",
              "      <td>mex</td>\n",
              "      <td>both_par</td>\n",
              "      <td>1</td>\n",
              "      <td>2.0</td>\n",
              "      <td>retired</td>\n",
              "      <td>2.0</td>\n",
              "      <td>2</td>\n",
              "      <td>6</td>\n",
              "      <td>1</td>\n",
              "    </tr>\n",
              "    <tr>\n",
              "      <th>6</th>\n",
              "      <td>prot</td>\n",
              "      <td>prot</td>\n",
              "      <td>black</td>\n",
              "      <td>46.0</td>\n",
              "      <td>6.0</td>\n",
              "      <td>13.0</td>\n",
              "      <td>5</td>\n",
              "      <td>female</td>\n",
              "      <td>div</td>\n",
              "      <td>3.0</td>\n",
              "      <td>mex</td>\n",
              "      <td>sing_par</td>\n",
              "      <td>1</td>\n",
              "      <td>0.0</td>\n",
              "      <td>full_time</td>\n",
              "      <td>3.0</td>\n",
              "      <td>2</td>\n",
              "      <td>5</td>\n",
              "      <td>1</td>\n",
              "    </tr>\n",
              "  </tbody>\n",
              "</table>\n",
              "</div>\n",
              "      <button class=\"colab-df-convert\" onclick=\"convertToInteractive('df-aef1c9a6-098e-4ac7-961c-cf60d2aa99f8')\"\n",
              "              title=\"Convert this dataframe to an interactive table.\"\n",
              "              style=\"display:none;\">\n",
              "\n",
              "  <svg xmlns=\"http://www.w3.org/2000/svg\" height=\"24px\"viewBox=\"0 0 24 24\"\n",
              "       width=\"24px\">\n",
              "    <path d=\"M0 0h24v24H0V0z\" fill=\"none\"/>\n",
              "    <path d=\"M18.56 5.44l.94 2.06.94-2.06 2.06-.94-2.06-.94-.94-2.06-.94 2.06-2.06.94zm-11 1L8.5 8.5l.94-2.06 2.06-.94-2.06-.94L8.5 2.5l-.94 2.06-2.06.94zm10 10l.94 2.06.94-2.06 2.06-.94-2.06-.94-.94-2.06-.94 2.06-2.06.94z\"/><path d=\"M17.41 7.96l-1.37-1.37c-.4-.4-.92-.59-1.43-.59-.52 0-1.04.2-1.43.59L10.3 9.45l-7.72 7.72c-.78.78-.78 2.05 0 2.83L4 21.41c.39.39.9.59 1.41.59.51 0 1.02-.2 1.41-.59l7.78-7.78 2.81-2.81c.8-.78.8-2.07 0-2.86zM5.41 20L4 18.59l7.72-7.72 1.47 1.35L5.41 20z\"/>\n",
              "  </svg>\n",
              "      </button>\n",
              "\n",
              "\n",
              "\n",
              "    <div id=\"df-d816f3e0-7580-42f9-b438-266a4c9daecb\">\n",
              "      <button class=\"colab-df-quickchart\" onclick=\"quickchart('df-d816f3e0-7580-42f9-b438-266a4c9daecb')\"\n",
              "              title=\"Suggest charts.\"\n",
              "              style=\"display:none;\">\n",
              "\n",
              "<svg xmlns=\"http://www.w3.org/2000/svg\" height=\"24px\"viewBox=\"0 0 24 24\"\n",
              "     width=\"24px\">\n",
              "    <g>\n",
              "        <path d=\"M19 3H5c-1.1 0-2 .9-2 2v14c0 1.1.9 2 2 2h14c1.1 0 2-.9 2-2V5c0-1.1-.9-2-2-2zM9 17H7v-7h2v7zm4 0h-2V7h2v10zm4 0h-2v-4h2v4z\"/>\n",
              "    </g>\n",
              "</svg>\n",
              "      </button>\n",
              "    </div>\n",
              "\n",
              "<style>\n",
              "  .colab-df-quickchart {\n",
              "    background-color: #E8F0FE;\n",
              "    border: none;\n",
              "    border-radius: 50%;\n",
              "    cursor: pointer;\n",
              "    display: none;\n",
              "    fill: #1967D2;\n",
              "    height: 32px;\n",
              "    padding: 0 0 0 0;\n",
              "    width: 32px;\n",
              "  }\n",
              "\n",
              "  .colab-df-quickchart:hover {\n",
              "    background-color: #E2EBFA;\n",
              "    box-shadow: 0px 1px 2px rgba(60, 64, 67, 0.3), 0px 1px 3px 1px rgba(60, 64, 67, 0.15);\n",
              "    fill: #174EA6;\n",
              "  }\n",
              "\n",
              "  [theme=dark] .colab-df-quickchart {\n",
              "    background-color: #3B4455;\n",
              "    fill: #D2E3FC;\n",
              "  }\n",
              "\n",
              "  [theme=dark] .colab-df-quickchart:hover {\n",
              "    background-color: #434B5C;\n",
              "    box-shadow: 0px 1px 3px 1px rgba(0, 0, 0, 0.15);\n",
              "    filter: drop-shadow(0px 1px 2px rgba(0, 0, 0, 0.3));\n",
              "    fill: #FFFFFF;\n",
              "  }\n",
              "</style>\n",
              "\n",
              "    <script>\n",
              "      async function quickchart(key) {\n",
              "        const containerElement = document.querySelector('#' + key);\n",
              "        const charts = await google.colab.kernel.invokeFunction(\n",
              "            'suggestCharts', [key], {});\n",
              "      }\n",
              "    </script>\n",
              "\n",
              "      <script>\n",
              "\n",
              "function displayQuickchartButton(domScope) {\n",
              "  let quickchartButtonEl =\n",
              "    domScope.querySelector('#df-d816f3e0-7580-42f9-b438-266a4c9daecb button.colab-df-quickchart');\n",
              "  quickchartButtonEl.style.display =\n",
              "    google.colab.kernel.accessAllowed ? 'block' : 'none';\n",
              "}\n",
              "\n",
              "        displayQuickchartButton(document);\n",
              "      </script>\n",
              "      <style>\n",
              "    .colab-df-container {\n",
              "      display:flex;\n",
              "      flex-wrap:wrap;\n",
              "      gap: 12px;\n",
              "    }\n",
              "\n",
              "    .colab-df-convert {\n",
              "      background-color: #E8F0FE;\n",
              "      border: none;\n",
              "      border-radius: 50%;\n",
              "      cursor: pointer;\n",
              "      display: none;\n",
              "      fill: #1967D2;\n",
              "      height: 32px;\n",
              "      padding: 0 0 0 0;\n",
              "      width: 32px;\n",
              "    }\n",
              "\n",
              "    .colab-df-convert:hover {\n",
              "      background-color: #E2EBFA;\n",
              "      box-shadow: 0px 1px 2px rgba(60, 64, 67, 0.3), 0px 1px 3px 1px rgba(60, 64, 67, 0.15);\n",
              "      fill: #174EA6;\n",
              "    }\n",
              "\n",
              "    [theme=dark] .colab-df-convert {\n",
              "      background-color: #3B4455;\n",
              "      fill: #D2E3FC;\n",
              "    }\n",
              "\n",
              "    [theme=dark] .colab-df-convert:hover {\n",
              "      background-color: #434B5C;\n",
              "      box-shadow: 0px 1px 3px 1px rgba(0, 0, 0, 0.15);\n",
              "      filter: drop-shadow(0px 1px 2px rgba(0, 0, 0, 0.3));\n",
              "      fill: #FFFFFF;\n",
              "    }\n",
              "  </style>\n",
              "\n",
              "      <script>\n",
              "        const buttonEl =\n",
              "          document.querySelector('#df-aef1c9a6-098e-4ac7-961c-cf60d2aa99f8 button.colab-df-convert');\n",
              "        buttonEl.style.display =\n",
              "          google.colab.kernel.accessAllowed ? 'block' : 'none';\n",
              "\n",
              "        async function convertToInteractive(key) {\n",
              "          const element = document.querySelector('#df-aef1c9a6-098e-4ac7-961c-cf60d2aa99f8');\n",
              "          const dataTable =\n",
              "            await google.colab.kernel.invokeFunction('convertToInteractive',\n",
              "                                                     [key], {});\n",
              "          if (!dataTable) return;\n",
              "\n",
              "          const docLinkHtml = 'Like what you see? Visit the ' +\n",
              "            '<a target=\"_blank\" href=https://colab.research.google.com/notebooks/data_table.ipynb>data table notebook</a>'\n",
              "            + ' to learn more about interactive tables.';\n",
              "          element.innerHTML = '';\n",
              "          dataTable['output_type'] = 'display_data';\n",
              "          await google.colab.output.renderOutput(dataTable, element);\n",
              "          const docLink = document.createElement('div');\n",
              "          docLink.innerHTML = docLinkHtml;\n",
              "          element.appendChild(docLink);\n",
              "        }\n",
              "      </script>\n",
              "    </div>\n",
              "  </div>\n"
            ]
          },
          "metadata": {},
          "execution_count": 52
        }
      ]
    },
    {
      "cell_type": "code",
      "source": [
        "data.shape"
      ],
      "metadata": {
        "colab": {
          "base_uri": "https://localhost:8080/"
        },
        "id": "6dahgkb6relX",
        "outputId": "689819a2-cc12-4ab1-850c-83c033e9b794"
      },
      "execution_count": 53,
      "outputs": [
        {
          "output_type": "execute_result",
          "data": {
            "text/plain": [
              "(1297, 19)"
            ]
          },
          "metadata": {},
          "execution_count": 53
        }
      ]
    },
    {
      "cell_type": "markdown",
      "source": [
        "Now that all my variables are encoded properly, I will create dummy variables for my categorical columns."
      ],
      "metadata": {
        "id": "mr0jm8fRSw_c"
      }
    },
    {
      "cell_type": "code",
      "source": [
        "cat_cols= ['relig','relig16','race','sex','marital','hispanic','family16']\n",
        "num_cols=['intage','childs','educ','quallife','born','partyid','pray','satsoc','satfin']"
      ],
      "metadata": {
        "id": "T4m2L75WUSg5"
      },
      "execution_count": 55,
      "outputs": []
    },
    {
      "cell_type": "code",
      "source": [
        "#add dummy columns to create features_df\n",
        "features_df= pd.concat([data[num_cols],pd.get_dummies(data[cat_cols], drop_first= True)], axis=1)\n",
        "features_df.head()"
      ],
      "metadata": {
        "colab": {
          "base_uri": "https://localhost:8080/",
          "height": 299
        },
        "id": "qz84diIFr1Dg",
        "outputId": "46ab14bf-0e2e-4324-ff67-3084f5b68f0d"
      },
      "execution_count": 56,
      "outputs": [
        {
          "output_type": "execute_result",
          "data": {
            "text/plain": [
              "   intage  childs  educ  quallife  born  partyid  pray  satsoc  satfin  \\\n",
              "0    68.0     0.0  14.0       3.0     1      5.0     3     3.0       1   \n",
              "1    62.0     3.0  10.0       5.0     1      2.0     4     4.0       2   \n",
              "4    68.0     0.0  18.0       4.0     1      6.0     4     5.0       3   \n",
              "5    62.0     2.0  16.0       2.0     1      2.0     3     2.0       2   \n",
              "6    46.0     6.0  13.0       3.0     1      0.0     5     3.0       2   \n",
              "\n",
              "   relig_bud  ...  marital_mar  marital_sep  marital_sing  marital_wid  \\\n",
              "0          0  ...            0            0             1            0   \n",
              "1          0  ...            0            1             0            0   \n",
              "4          0  ...            0            0             0            0   \n",
              "5          0  ...            0            0             0            1   \n",
              "6          0  ...            0            0             0            0   \n",
              "\n",
              "   hispanic_cub  hispanic_mex  hispanic_other  family16_rel  \\\n",
              "0             0             1               0             0   \n",
              "1             0             1               0             0   \n",
              "4             0             1               0             0   \n",
              "5             0             1               0             0   \n",
              "6             0             1               0             0   \n",
              "\n",
              "   family16_sing_par  family16_step_par  \n",
              "0                  0                  0  \n",
              "1                  0                  0  \n",
              "4                  0                  0  \n",
              "5                  0                  0  \n",
              "6                  1                  0  \n",
              "\n",
              "[5 rows x 40 columns]"
            ],
            "text/html": [
              "\n",
              "\n",
              "  <div id=\"df-e2cd9a61-2229-4919-a26a-73807e451f8a\">\n",
              "    <div class=\"colab-df-container\">\n",
              "      <div>\n",
              "<style scoped>\n",
              "    .dataframe tbody tr th:only-of-type {\n",
              "        vertical-align: middle;\n",
              "    }\n",
              "\n",
              "    .dataframe tbody tr th {\n",
              "        vertical-align: top;\n",
              "    }\n",
              "\n",
              "    .dataframe thead th {\n",
              "        text-align: right;\n",
              "    }\n",
              "</style>\n",
              "<table border=\"1\" class=\"dataframe\">\n",
              "  <thead>\n",
              "    <tr style=\"text-align: right;\">\n",
              "      <th></th>\n",
              "      <th>intage</th>\n",
              "      <th>childs</th>\n",
              "      <th>educ</th>\n",
              "      <th>quallife</th>\n",
              "      <th>born</th>\n",
              "      <th>partyid</th>\n",
              "      <th>pray</th>\n",
              "      <th>satsoc</th>\n",
              "      <th>satfin</th>\n",
              "      <th>relig_bud</th>\n",
              "      <th>...</th>\n",
              "      <th>marital_mar</th>\n",
              "      <th>marital_sep</th>\n",
              "      <th>marital_sing</th>\n",
              "      <th>marital_wid</th>\n",
              "      <th>hispanic_cub</th>\n",
              "      <th>hispanic_mex</th>\n",
              "      <th>hispanic_other</th>\n",
              "      <th>family16_rel</th>\n",
              "      <th>family16_sing_par</th>\n",
              "      <th>family16_step_par</th>\n",
              "    </tr>\n",
              "  </thead>\n",
              "  <tbody>\n",
              "    <tr>\n",
              "      <th>0</th>\n",
              "      <td>68.0</td>\n",
              "      <td>0.0</td>\n",
              "      <td>14.0</td>\n",
              "      <td>3.0</td>\n",
              "      <td>1</td>\n",
              "      <td>5.0</td>\n",
              "      <td>3</td>\n",
              "      <td>3.0</td>\n",
              "      <td>1</td>\n",
              "      <td>0</td>\n",
              "      <td>...</td>\n",
              "      <td>0</td>\n",
              "      <td>0</td>\n",
              "      <td>1</td>\n",
              "      <td>0</td>\n",
              "      <td>0</td>\n",
              "      <td>1</td>\n",
              "      <td>0</td>\n",
              "      <td>0</td>\n",
              "      <td>0</td>\n",
              "      <td>0</td>\n",
              "    </tr>\n",
              "    <tr>\n",
              "      <th>1</th>\n",
              "      <td>62.0</td>\n",
              "      <td>3.0</td>\n",
              "      <td>10.0</td>\n",
              "      <td>5.0</td>\n",
              "      <td>1</td>\n",
              "      <td>2.0</td>\n",
              "      <td>4</td>\n",
              "      <td>4.0</td>\n",
              "      <td>2</td>\n",
              "      <td>0</td>\n",
              "      <td>...</td>\n",
              "      <td>0</td>\n",
              "      <td>1</td>\n",
              "      <td>0</td>\n",
              "      <td>0</td>\n",
              "      <td>0</td>\n",
              "      <td>1</td>\n",
              "      <td>0</td>\n",
              "      <td>0</td>\n",
              "      <td>0</td>\n",
              "      <td>0</td>\n",
              "    </tr>\n",
              "    <tr>\n",
              "      <th>4</th>\n",
              "      <td>68.0</td>\n",
              "      <td>0.0</td>\n",
              "      <td>18.0</td>\n",
              "      <td>4.0</td>\n",
              "      <td>1</td>\n",
              "      <td>6.0</td>\n",
              "      <td>4</td>\n",
              "      <td>5.0</td>\n",
              "      <td>3</td>\n",
              "      <td>0</td>\n",
              "      <td>...</td>\n",
              "      <td>0</td>\n",
              "      <td>0</td>\n",
              "      <td>0</td>\n",
              "      <td>0</td>\n",
              "      <td>0</td>\n",
              "      <td>1</td>\n",
              "      <td>0</td>\n",
              "      <td>0</td>\n",
              "      <td>0</td>\n",
              "      <td>0</td>\n",
              "    </tr>\n",
              "    <tr>\n",
              "      <th>5</th>\n",
              "      <td>62.0</td>\n",
              "      <td>2.0</td>\n",
              "      <td>16.0</td>\n",
              "      <td>2.0</td>\n",
              "      <td>1</td>\n",
              "      <td>2.0</td>\n",
              "      <td>3</td>\n",
              "      <td>2.0</td>\n",
              "      <td>2</td>\n",
              "      <td>0</td>\n",
              "      <td>...</td>\n",
              "      <td>0</td>\n",
              "      <td>0</td>\n",
              "      <td>0</td>\n",
              "      <td>1</td>\n",
              "      <td>0</td>\n",
              "      <td>1</td>\n",
              "      <td>0</td>\n",
              "      <td>0</td>\n",
              "      <td>0</td>\n",
              "      <td>0</td>\n",
              "    </tr>\n",
              "    <tr>\n",
              "      <th>6</th>\n",
              "      <td>46.0</td>\n",
              "      <td>6.0</td>\n",
              "      <td>13.0</td>\n",
              "      <td>3.0</td>\n",
              "      <td>1</td>\n",
              "      <td>0.0</td>\n",
              "      <td>5</td>\n",
              "      <td>3.0</td>\n",
              "      <td>2</td>\n",
              "      <td>0</td>\n",
              "      <td>...</td>\n",
              "      <td>0</td>\n",
              "      <td>0</td>\n",
              "      <td>0</td>\n",
              "      <td>0</td>\n",
              "      <td>0</td>\n",
              "      <td>1</td>\n",
              "      <td>0</td>\n",
              "      <td>0</td>\n",
              "      <td>1</td>\n",
              "      <td>0</td>\n",
              "    </tr>\n",
              "  </tbody>\n",
              "</table>\n",
              "<p>5 rows × 40 columns</p>\n",
              "</div>\n",
              "      <button class=\"colab-df-convert\" onclick=\"convertToInteractive('df-e2cd9a61-2229-4919-a26a-73807e451f8a')\"\n",
              "              title=\"Convert this dataframe to an interactive table.\"\n",
              "              style=\"display:none;\">\n",
              "\n",
              "  <svg xmlns=\"http://www.w3.org/2000/svg\" height=\"24px\"viewBox=\"0 0 24 24\"\n",
              "       width=\"24px\">\n",
              "    <path d=\"M0 0h24v24H0V0z\" fill=\"none\"/>\n",
              "    <path d=\"M18.56 5.44l.94 2.06.94-2.06 2.06-.94-2.06-.94-.94-2.06-.94 2.06-2.06.94zm-11 1L8.5 8.5l.94-2.06 2.06-.94-2.06-.94L8.5 2.5l-.94 2.06-2.06.94zm10 10l.94 2.06.94-2.06 2.06-.94-2.06-.94-.94-2.06-.94 2.06-2.06.94z\"/><path d=\"M17.41 7.96l-1.37-1.37c-.4-.4-.92-.59-1.43-.59-.52 0-1.04.2-1.43.59L10.3 9.45l-7.72 7.72c-.78.78-.78 2.05 0 2.83L4 21.41c.39.39.9.59 1.41.59.51 0 1.02-.2 1.41-.59l7.78-7.78 2.81-2.81c.8-.78.8-2.07 0-2.86zM5.41 20L4 18.59l7.72-7.72 1.47 1.35L5.41 20z\"/>\n",
              "  </svg>\n",
              "      </button>\n",
              "\n",
              "\n",
              "\n",
              "    <div id=\"df-71154d83-cc48-4cc5-96a6-7b7440e1c986\">\n",
              "      <button class=\"colab-df-quickchart\" onclick=\"quickchart('df-71154d83-cc48-4cc5-96a6-7b7440e1c986')\"\n",
              "              title=\"Suggest charts.\"\n",
              "              style=\"display:none;\">\n",
              "\n",
              "<svg xmlns=\"http://www.w3.org/2000/svg\" height=\"24px\"viewBox=\"0 0 24 24\"\n",
              "     width=\"24px\">\n",
              "    <g>\n",
              "        <path d=\"M19 3H5c-1.1 0-2 .9-2 2v14c0 1.1.9 2 2 2h14c1.1 0 2-.9 2-2V5c0-1.1-.9-2-2-2zM9 17H7v-7h2v7zm4 0h-2V7h2v10zm4 0h-2v-4h2v4z\"/>\n",
              "    </g>\n",
              "</svg>\n",
              "      </button>\n",
              "    </div>\n",
              "\n",
              "<style>\n",
              "  .colab-df-quickchart {\n",
              "    background-color: #E8F0FE;\n",
              "    border: none;\n",
              "    border-radius: 50%;\n",
              "    cursor: pointer;\n",
              "    display: none;\n",
              "    fill: #1967D2;\n",
              "    height: 32px;\n",
              "    padding: 0 0 0 0;\n",
              "    width: 32px;\n",
              "  }\n",
              "\n",
              "  .colab-df-quickchart:hover {\n",
              "    background-color: #E2EBFA;\n",
              "    box-shadow: 0px 1px 2px rgba(60, 64, 67, 0.3), 0px 1px 3px 1px rgba(60, 64, 67, 0.15);\n",
              "    fill: #174EA6;\n",
              "  }\n",
              "\n",
              "  [theme=dark] .colab-df-quickchart {\n",
              "    background-color: #3B4455;\n",
              "    fill: #D2E3FC;\n",
              "  }\n",
              "\n",
              "  [theme=dark] .colab-df-quickchart:hover {\n",
              "    background-color: #434B5C;\n",
              "    box-shadow: 0px 1px 3px 1px rgba(0, 0, 0, 0.15);\n",
              "    filter: drop-shadow(0px 1px 2px rgba(0, 0, 0, 0.3));\n",
              "    fill: #FFFFFF;\n",
              "  }\n",
              "</style>\n",
              "\n",
              "    <script>\n",
              "      async function quickchart(key) {\n",
              "        const containerElement = document.querySelector('#' + key);\n",
              "        const charts = await google.colab.kernel.invokeFunction(\n",
              "            'suggestCharts', [key], {});\n",
              "      }\n",
              "    </script>\n",
              "\n",
              "      <script>\n",
              "\n",
              "function displayQuickchartButton(domScope) {\n",
              "  let quickchartButtonEl =\n",
              "    domScope.querySelector('#df-71154d83-cc48-4cc5-96a6-7b7440e1c986 button.colab-df-quickchart');\n",
              "  quickchartButtonEl.style.display =\n",
              "    google.colab.kernel.accessAllowed ? 'block' : 'none';\n",
              "}\n",
              "\n",
              "        displayQuickchartButton(document);\n",
              "      </script>\n",
              "      <style>\n",
              "    .colab-df-container {\n",
              "      display:flex;\n",
              "      flex-wrap:wrap;\n",
              "      gap: 12px;\n",
              "    }\n",
              "\n",
              "    .colab-df-convert {\n",
              "      background-color: #E8F0FE;\n",
              "      border: none;\n",
              "      border-radius: 50%;\n",
              "      cursor: pointer;\n",
              "      display: none;\n",
              "      fill: #1967D2;\n",
              "      height: 32px;\n",
              "      padding: 0 0 0 0;\n",
              "      width: 32px;\n",
              "    }\n",
              "\n",
              "    .colab-df-convert:hover {\n",
              "      background-color: #E2EBFA;\n",
              "      box-shadow: 0px 1px 2px rgba(60, 64, 67, 0.3), 0px 1px 3px 1px rgba(60, 64, 67, 0.15);\n",
              "      fill: #174EA6;\n",
              "    }\n",
              "\n",
              "    [theme=dark] .colab-df-convert {\n",
              "      background-color: #3B4455;\n",
              "      fill: #D2E3FC;\n",
              "    }\n",
              "\n",
              "    [theme=dark] .colab-df-convert:hover {\n",
              "      background-color: #434B5C;\n",
              "      box-shadow: 0px 1px 3px 1px rgba(0, 0, 0, 0.15);\n",
              "      filter: drop-shadow(0px 1px 2px rgba(0, 0, 0, 0.3));\n",
              "      fill: #FFFFFF;\n",
              "    }\n",
              "  </style>\n",
              "\n",
              "      <script>\n",
              "        const buttonEl =\n",
              "          document.querySelector('#df-e2cd9a61-2229-4919-a26a-73807e451f8a button.colab-df-convert');\n",
              "        buttonEl.style.display =\n",
              "          google.colab.kernel.accessAllowed ? 'block' : 'none';\n",
              "\n",
              "        async function convertToInteractive(key) {\n",
              "          const element = document.querySelector('#df-e2cd9a61-2229-4919-a26a-73807e451f8a');\n",
              "          const dataTable =\n",
              "            await google.colab.kernel.invokeFunction('convertToInteractive',\n",
              "                                                     [key], {});\n",
              "          if (!dataTable) return;\n",
              "\n",
              "          const docLinkHtml = 'Like what you see? Visit the ' +\n",
              "            '<a target=\"_blank\" href=https://colab.research.google.com/notebooks/data_table.ipynb>data table notebook</a>'\n",
              "            + ' to learn more about interactive tables.';\n",
              "          element.innerHTML = '';\n",
              "          dataTable['output_type'] = 'display_data';\n",
              "          await google.colab.output.renderOutput(dataTable, element);\n",
              "          const docLink = document.createElement('div');\n",
              "          docLink.innerHTML = docLinkHtml;\n",
              "          element.appendChild(docLink);\n",
              "        }\n",
              "      </script>\n",
              "    </div>\n",
              "  </div>\n"
            ]
          },
          "metadata": {},
          "execution_count": 56
        }
      ]
    },
    {
      "cell_type": "markdown",
      "source": [
        "Finally, I will seperate out a train, test, and validation set in preparation for modeling."
      ],
      "metadata": {
        "id": "iPIi4BBXS-t-"
      }
    },
    {
      "cell_type": "code",
      "source": [
        "#seperate out train, test, and validation set\n",
        "from sklearn.model_selection import train_test_split\n",
        "X= features_df\n",
        "y=data['target']\n",
        "X_sub, X_test, y_sub, y_test = train_test_split(X,y,test_size= 0.15, random_state=13)\n",
        "X_train,X_val, y_train,y_val= train_test_split(X_sub,y_sub, test_size=0.1, random_state=13)"
      ],
      "metadata": {
        "id": "gPMSARCqtUzx"
      },
      "execution_count": 57,
      "outputs": []
    },
    {
      "cell_type": "markdown",
      "source": [
        "## Modelling\n",
        "### Baseline Model- Decision Trees\n",
        "I will now move on to modelling. First, I will build a baseline model using decision trees and its default parameters."
      ],
      "metadata": {
        "id": "-zKMk5tAXbw0"
      }
    },
    {
      "cell_type": "code",
      "source": [
        "#check class imbalance in training set|\n",
        "y_train.value_counts()/ y_train.shape[0]"
      ],
      "metadata": {
        "colab": {
          "base_uri": "https://localhost:8080/"
        },
        "id": "D7ARfTi9YQKF",
        "outputId": "a2d322e8-ccd2-45a8-e1eb-6ec88fd84406"
      },
      "execution_count": 58,
      "outputs": [
        {
          "output_type": "execute_result",
          "data": {
            "text/plain": [
              "1    0.551968\n",
              "0    0.448032\n",
              "Name: target, dtype: float64"
            ]
          },
          "metadata": {},
          "execution_count": 58
        }
      ]
    },
    {
      "cell_type": "code",
      "source": [
        "from sklearn.tree import DecisionTreeClassifier\n",
        "from sklearn.model_selection import cross_val_score\n",
        "baseline= DecisionTreeClassifier()\n",
        "#cross validate\n",
        "cross_val_score(baseline, X_train,y_train).mean()"
      ],
      "metadata": {
        "colab": {
          "base_uri": "https://localhost:8080/"
        },
        "id": "VsDOkLwHvUAZ",
        "outputId": "1647e5cc-e903-4fe5-c2bd-8b0acc41d25a"
      },
      "execution_count": 59,
      "outputs": [
        {
          "output_type": "execute_result",
          "data": {
            "text/plain": [
              "0.6276432668392466"
            ]
          },
          "metadata": {},
          "execution_count": 59
        }
      ]
    },
    {
      "cell_type": "code",
      "source": [
        "#look at train and test accuracy\n",
        "baseline.fit(X_train, y_train)\n",
        "print('Baseline train accuracy : {}, \\nTest accuracy: {}'.format(baseline.score(X_train,y_train), baseline.score(X_test,y_test)))"
      ],
      "metadata": {
        "colab": {
          "base_uri": "https://localhost:8080/"
        },
        "id": "qfnK-x8PCrcM",
        "outputId": "2286ad99-9421-423a-ecfb-692e32187253"
      },
      "execution_count": 60,
      "outputs": [
        {
          "output_type": "stream",
          "name": "stdout",
          "text": [
            "Baseline train accuracy : 1.0, \n",
            "Test accuracy: 0.5641025641025641\n"
          ]
        }
      ]
    },
    {
      "cell_type": "markdown",
      "source": [
        "The accuracy score from cross validation is only slightly better than random guessing. Moreover, it is obviously overfitting to the training set. Next, I will try using other classifcation models like KNN, ensemble classifiers, and logistic regression."
      ],
      "metadata": {
        "id": "TdJP2xrQXfZ1"
      }
    },
    {
      "cell_type": "code",
      "source": [
        "#import libraries\n",
        "from sklearn.neighbors import KNeighborsClassifier\n",
        "from sklearn.ensemble import GradientBoostingClassifier\n",
        "from sklearn.preprocessing import StandardScaler, MinMaxScaler\n",
        "from sklearn.pipeline import Pipeline\n",
        "from sklearn.ensemble import RandomForestClassifier\n",
        "from sklearn.linear_model import LogisticRegression\n"
      ],
      "metadata": {
        "id": "fNB8yswpvT9K"
      },
      "execution_count": 61,
      "outputs": []
    },
    {
      "cell_type": "code",
      "source": [
        "#instantiate models/pipelines\n",
        "gb= GradientBoostingClassifier(random_state=13)\n",
        "rf= RandomForestClassifier(random_state=13)\n",
        "lr_pipe= Pipeline([('scaler_r', StandardScaler()),('lr',LogisticRegression(random_state=13))])\n",
        "knn_pipe= Pipeline([('scaler_knn', StandardScaler()), ('knn', KNeighborsClassifier())])"
      ],
      "metadata": {
        "id": "FlWF9inXuN2i"
      },
      "execution_count": 62,
      "outputs": []
    },
    {
      "cell_type": "code",
      "source": [
        "#cross validate all\n",
        "scores=[]\n",
        "models= [gb, knn_pipe, lr_pipe, rf]\n",
        "for model in models:\n",
        "  score= cross_val_score(model, X_train, y_train).mean()\n",
        "  scores.append(score)\n",
        "  scores.sort()\n",
        "  print('cross val score for {}:'.format(model),score)\n",
        "print('The best models are {} and {}, with scores of {} and {} resptectively'.format(models[np.argmax(scores)],\n",
        "                                                                                     models[np.argmax(scores[1:])],max(scores),\n",
        "                                                                                            scores[1]))"
      ],
      "metadata": {
        "colab": {
          "base_uri": "https://localhost:8080/"
        },
        "id": "Uz9uPB8ByTQN",
        "outputId": "bd0cd813-3499-4709-9b85-3d5464bed8a3"
      },
      "execution_count": 63,
      "outputs": [
        {
          "output_type": "stream",
          "name": "stdout",
          "text": [
            "cross val score for GradientBoostingClassifier(random_state=13): 0.6367087965077916\n",
            "cross val score for Pipeline(steps=[('scaler_knn', StandardScaler()),\n",
            "                ('knn', KNeighborsClassifier())]): 0.6196335211410589\n",
            "cross val score for Pipeline(steps=[('scaler_r', StandardScaler()),\n",
            "                ('lr', LogisticRegression(random_state=13))]): 0.6790975077407239\n",
            "cross val score for RandomForestClassifier(random_state=13): 0.65685498198061\n",
            "The best models are RandomForestClassifier(random_state=13) and Pipeline(steps=[('scaler_r', StandardScaler()),\n",
            "                ('lr', LogisticRegression(random_state=13))]), with scores of 0.6790975077407239 and 0.6367087965077916 resptectively\n"
          ]
        }
      ]
    },
    {
      "cell_type": "markdown",
      "source": [
        "While all of them seemed to perform better than my baseline model, random forest and logistic regression produced the best accuracy. Next, I will look further into random forest, then try to tune this model to see if it would yield better results."
      ],
      "metadata": {
        "id": "fhI5qCX6zix3"
      }
    },
    {
      "cell_type": "markdown",
      "source": [
        "### Model Tuning with GridSearchCV\n",
        "To get a good idea of what parameters to try, I will first look at the confusion matrices of my baseline model to evaluate it."
      ],
      "metadata": {
        "id": "pBZ2hgEVvuIG"
      }
    },
    {
      "cell_type": "code",
      "source": [
        "#look at confusion matrix of training data\n",
        "from sklearn.metrics import confusion_matrix, ConfusionMatrixDisplay\n",
        "rf.fit(X_train,y_train)\n",
        "cm_train= confusion_matrix(y_train, rf.predict(X_train))\n",
        "disp_train= ConfusionMatrixDisplay(cm_train, display_labels= rf.classes_)\n",
        "disp_train.plot()\n",
        "plt.show()\n",
        "print('accuracy score:' ,rf.score(X_train,y_train))"
      ],
      "metadata": {
        "colab": {
          "base_uri": "https://localhost:8080/",
          "height": 467
        },
        "outputId": "a89d31f5-3e19-4ec1-ce9b-6cba67555733",
        "id": "lZp1nSiBty2P"
      },
      "execution_count": 64,
      "outputs": [
        {
          "output_type": "display_data",
          "data": {
            "text/plain": [
              "<Figure size 640x480 with 2 Axes>"
            ],
            "image/png": "[encoded data removed]"
          },
          "metadata": {}
        },
        {
          "output_type": "stream",
          "name": "stdout",
          "text": [
            "accuracy score: 1.0\n"
          ]
        }
      ]
    },
    {
      "cell_type": "code",
      "source": [
        "#look at confusion matrix on test set\n",
        "cm_test= confusion_matrix(y_test, rf.predict(X_test))\n",
        "disp_test= ConfusionMatrixDisplay(cm_test, display_labels= rf.classes_)\n",
        "disp_test.plot()\n",
        "plt.show()\n",
        "print('accuracy score:', rf.score(X_test,y_test))"
      ],
      "metadata": {
        "colab": {
          "base_uri": "https://localhost:8080/",
          "height": 467
        },
        "outputId": "48385ddb-a1bc-422d-b515-c877c6f687f9",
        "id": "SKyySThRt42A"
      },
      "execution_count": 79,
      "outputs": [
        {
          "output_type": "display_data",
          "data": {
            "text/plain": [
              "<Figure size 640x480 with 2 Axes>"
            ],
            "image/png": "[encoded data removed]"
          },
          "metadata": {}
        },
        {
          "output_type": "stream",
          "name": "stdout",
          "text": [
            "accuracy score: 0.6461538461538462\n"
          ]
        }
      ]
    },
    {
      "cell_type": "code",
      "source": [
        "from sklearn.metrics import classification_report\n",
        "print(classification_report(y_test,rf.predict(X_test)))"
      ],
      "metadata": {
        "colab": {
          "base_uri": "https://localhost:8080/"
        },
        "id": "OmeUNE5sdwKc",
        "outputId": "294b204c-939b-432c-8a31-09e06ef3e90e"
      },
      "execution_count": 80,
      "outputs": [
        {
          "output_type": "stream",
          "name": "stdout",
          "text": [
            "              precision    recall  f1-score   support\n",
            "\n",
            "           0       0.58      0.63      0.60        83\n",
            "           1       0.70      0.66      0.68       112\n",
            "\n",
            "    accuracy                           0.65       195\n",
            "   macro avg       0.64      0.64      0.64       195\n",
            "weighted avg       0.65      0.65      0.65       195\n",
            "\n"
          ]
        }
      ]
    },
    {
      "cell_type": "markdown",
      "source": [
        "This model still seems to be overfitting the the training set. I will try different parameters that aim to reduce overfitting for my gridsearh."
      ],
      "metadata": {
        "id": "jo9z9OFTt8sq"
      }
    },
    {
      "cell_type": "code",
      "source": [
        "from sklearn.model_selection import GridSearchCV\n",
        "import warnings\n",
        "warnings.filterwarnings(\"ignore\")\n",
        "rf_tune= RandomForestClassifier(random_state=13)\n",
        "parameters = {'n_estimators': [70,100,200],\n",
        "              'criterion': ['gini','entropy','log_loss'],\n",
        "              'max_depth': [5,10, None],\n",
        "              'max_features': ['sqrt','log2']}\n",
        "rf_cv = GridSearchCV(rf_tune, parameters, cv=3,n_jobs=-1)\n",
        "rf_cv.fit(X_train,y_train)\n",
        "print(f'Train score: {rf_cv.score(X_train,y_train)}')\n",
        "print(f'Test score:  {rf_cv.score(X_test,y_test)}')\n"
      ],
      "metadata": {
        "colab": {
          "base_uri": "https://localhost:8080/"
        },
        "outputId": "7333af83-a8e0-4824-b5b6-9a72aa36a032",
        "id": "4boNeRFPtL0T"
      },
      "execution_count": 81,
      "outputs": [
        {
          "output_type": "stream",
          "name": "stdout",
          "text": [
            "Train score: 0.9465186680121089\n",
            "Test score:  0.6461538461538462\n"
          ]
        }
      ]
    },
    {
      "cell_type": "code",
      "source": [
        "rf_cv.best_params_"
      ],
      "metadata": {
        "colab": {
          "base_uri": "https://localhost:8080/"
        },
        "id": "HLEO1mtgteQ_",
        "outputId": "c9965122-4efb-4f22-da09-372d95dad562"
      },
      "execution_count": 82,
      "outputs": [
        {
          "output_type": "execute_result",
          "data": {
            "text/plain": [
              "{'criterion': 'gini',\n",
              " 'max_depth': 10,\n",
              " 'max_features': 'log2',\n",
              " 'n_estimators': 100}"
            ]
          },
          "metadata": {},
          "execution_count": 82
        }
      ]
    },
    {
      "cell_type": "code",
      "source": [
        "rf_tuned= RandomForestClassifier( max_features='log2',max_depth=10,random_state=13)\n",
        "rf_tuned.fit(X_train,y_train)"
      ],
      "metadata": {
        "id": "SBN38HiNdH-U",
        "colab": {
          "base_uri": "https://localhost:8080/",
          "height": 74
        },
        "outputId": "b919b252-45e6-4c9e-93d3-3fae2c7bc052"
      },
      "execution_count": 83,
      "outputs": [
        {
          "output_type": "execute_result",
          "data": {
            "text/plain": [
              "RandomForestClassifier(max_depth=10, max_features='log2', random_state=13)"
            ],
            "text/html": [
              "<style>#sk-container-id-3 {color: black;background-color: white;}#sk-container-id-3 pre{padding: 0;}#sk-container-id-3 div.sk-toggleable {background-color: white;}#sk-container-id-3 label.sk-toggleable__label {cursor: pointer;display: block;width: 100%;margin-bottom: 0;padding: 0.3em;box-sizing: border-box;text-align: center;}#sk-container-id-3 label.sk-toggleable__label-arrow:before {content: \"▸\";float: left;margin-right: 0.25em;color: #696969;}#sk-container-id-3 label.sk-toggleable__label-arrow:hover:before {color: black;}#sk-container-id-3 div.sk-estimator:hover label.sk-toggleable__label-arrow:before {color: black;}#sk-container-id-3 div.sk-toggleable__content {max-height: 0;max-width: 0;overflow: hidden;text-align: left;background-color: #f0f8ff;}#sk-container-id-3 div.sk-toggleable__content pre {margin: 0.2em;color: black;border-radius: 0.25em;background-color: #f0f8ff;}#sk-container-id-3 input.sk-toggleable__control:checked~div.sk-toggleable__content {max-height: 200px;max-width: 100%;overflow: auto;}#sk-container-id-3 input.sk-toggleable__control:checked~label.sk-toggleable__label-arrow:before {content: \"▾\";}#sk-container-id-3 div.sk-estimator input.sk-toggleable__control:checked~label.sk-toggleable__label {background-color: #d4ebff;}#sk-container-id-3 div.sk-label input.sk-toggleable__control:checked~label.sk-toggleable__label {background-color: #d4ebff;}#sk-container-id-3 input.sk-hidden--visually {border: 0;clip: rect(1px 1px 1px 1px);clip: rect(1px, 1px, 1px, 1px);height: 1px;margin: -1px;overflow: hidden;padding: 0;position: absolute;width: 1px;}#sk-container-id-3 div.sk-estimator {font-family: monospace;background-color: #f0f8ff;border: 1px dotted black;border-radius: 0.25em;box-sizing: border-box;margin-bottom: 0.5em;}#sk-container-id-3 div.sk-estimator:hover {background-color: #d4ebff;}#sk-container-id-3 div.sk-parallel-item::after {content: \"\";width: 100%;border-bottom: 1px solid gray;flex-grow: 1;}#sk-container-id-3 div.sk-label:hover label.sk-toggleable__label {background-color: #d4ebff;}#sk-container-id-3 div.sk-serial::before {content: \"\";position: absolute;border-left: 1px solid gray;box-sizing: border-box;top: 0;bottom: 0;left: 50%;z-index: 0;}#sk-container-id-3 div.sk-serial {display: flex;flex-direction: column;align-items: center;background-color: white;padding-right: 0.2em;padding-left: 0.2em;position: relative;}#sk-container-id-3 div.sk-item {position: relative;z-index: 1;}#sk-container-id-3 div.sk-parallel {display: flex;align-items: stretch;justify-content: center;background-color: white;position: relative;}#sk-container-id-3 div.sk-item::before, #sk-container-id-3 div.sk-parallel-item::before {content: \"\";position: absolute;border-left: 1px solid gray;box-sizing: border-box;top: 0;bottom: 0;left: 50%;z-index: -1;}#sk-container-id-3 div.sk-parallel-item {display: flex;flex-direction: column;z-index: 1;position: relative;background-color: white;}#sk-container-id-3 div.sk-parallel-item:first-child::after {align-self: flex-end;width: 50%;}#sk-container-id-3 div.sk-parallel-item:last-child::after {align-self: flex-start;width: 50%;}#sk-container-id-3 div.sk-parallel-item:only-child::after {width: 0;}#sk-container-id-3 div.sk-dashed-wrapped {border: 1px dashed gray;margin: 0 0.4em 0.5em 0.4em;box-sizing: border-box;padding-bottom: 0.4em;background-color: white;}#sk-container-id-3 div.sk-label label {font-family: monospace;font-weight: bold;display: inline-block;line-height: 1.2em;}#sk-container-id-3 div.sk-label-container {text-align: center;}#sk-container-id-3 div.sk-container {/* jupyter's `normalize.less` sets `[hidden] { display: none; }` but bootstrap.min.css set `[hidden] { display: none !important; }` so we also need the `!important` here to be able to override the default hidden behavior on the sphinx rendered scikit-learn.org. See: https://github.com/scikit-learn/scikit-learn/issues/21755 */display: inline-block !important;position: relative;}#sk-container-id-3 div.sk-text-repr-fallback {display: none;}</style><div id=\"sk-container-id-3\" class=\"sk-top-container\"><div class=\"sk-text-repr-fallback\"><pre>RandomForestClassifier(max_depth=10, max_features=&#x27;log2&#x27;, random_state=13)</pre><b>In a Jupyter environment, please rerun this cell to show the HTML representation or trust the notebook. <br />On GitHub, the HTML representation is unable to render, please try loading this page with nbviewer.org.</b></div><div class=\"sk-container\" hidden><div class=\"sk-item\"><div class=\"sk-estimator sk-toggleable\"><input class=\"sk-toggleable__control sk-hidden--visually\" id=\"sk-estimator-id-3\" type=\"checkbox\" checked><label for=\"sk-estimator-id-3\" class=\"sk-toggleable__label sk-toggleable__label-arrow\">RandomForestClassifier</label><div class=\"sk-toggleable__content\"><pre>RandomForestClassifier(max_depth=10, max_features=&#x27;log2&#x27;, random_state=13)</pre></div></div></div></div></div>"
            ]
          },
          "metadata": {},
          "execution_count": 83
        }
      ]
    },
    {
      "cell_type": "code",
      "source": [
        "#look at confusion matrix on test set\n",
        "cm_test= confusion_matrix(y_test, rf_tuned.predict(X_test))\n",
        "disp_test= ConfusionMatrixDisplay(cm_test, display_labels= rf_tuned.classes_)\n",
        "disp_test.plot()\n",
        "plt.show()\n",
        "print(classification_report(y_test, rf_tuned.predict(X_test)))"
      ],
      "metadata": {
        "colab": {
          "base_uri": "https://localhost:8080/",
          "height": 612
        },
        "outputId": "2bc4d5b5-f0c1-4d9c-b1fd-a9b5fa072888",
        "id": "d9Bu9kfVEsqR"
      },
      "execution_count": 84,
      "outputs": [
        {
          "output_type": "display_data",
          "data": {
            "text/plain": [
              "<Figure size 640x480 with 2 Axes>"
            ],
            "image/png": "[encoded data removed]"
          },
          "metadata": {}
        },
        {
          "output_type": "stream",
          "name": "stdout",
          "text": [
            "              precision    recall  f1-score   support\n",
            "\n",
            "           0       0.58      0.59      0.59        83\n",
            "           1       0.69      0.69      0.69       112\n",
            "\n",
            "    accuracy                           0.65       195\n",
            "   macro avg       0.64      0.64      0.64       195\n",
            "weighted avg       0.65      0.65      0.65       195\n",
            "\n"
          ]
        }
      ]
    },
    {
      "cell_type": "markdown",
      "source": [
        "These metrics are very close to that of the previous model. However, this one has better recall for positive cases, which is what I am trying to optimize for, so I will keep this model. <br/> Moreover, it still has low precision and recall in negative cases, and the overall metric is worse. I will now try to oversample negative cases to see if it will be better able to classify them correctly.  <br/>\n",
        "\n"
      ],
      "metadata": {
        "id": "PScI3BGfv_zy"
      }
    },
    {
      "cell_type": "code",
      "source": [
        "rf_sm= RandomForestClassifier(max_features='log2', max_depth=10,random_state=13)"
      ],
      "metadata": {
        "id": "hDpG3UAQGq8E"
      },
      "execution_count": 85,
      "outputs": []
    },
    {
      "cell_type": "code",
      "source": [
        "from imblearn.over_sampling import SMOTE\n",
        "sm= SMOTE(random_state=13)\n",
        "X_sm_train, y_sm_train= sm.fit_resample(X_train, y_train)\n",
        "rf_sm.fit(X_sm_train, y_sm_train)"
      ],
      "metadata": {
        "colab": {
          "base_uri": "https://localhost:8080/",
          "height": 74
        },
        "id": "O__wglsIRKHC",
        "outputId": "ccbdd27c-eaa5-42ea-d16c-ecfb070384b0"
      },
      "execution_count": 86,
      "outputs": [
        {
          "output_type": "execute_result",
          "data": {
            "text/plain": [
              "RandomForestClassifier(max_depth=10, max_features='log2', random_state=13)"
            ],
            "text/html": [
              "<style>#sk-container-id-4 {color: black;background-color: white;}#sk-container-id-4 pre{padding: 0;}#sk-container-id-4 div.sk-toggleable {background-color: white;}#sk-container-id-4 label.sk-toggleable__label {cursor: pointer;display: block;width: 100%;margin-bottom: 0;padding: 0.3em;box-sizing: border-box;text-align: center;}#sk-container-id-4 label.sk-toggleable__label-arrow:before {content: \"▸\";float: left;margin-right: 0.25em;color: #696969;}#sk-container-id-4 label.sk-toggleable__label-arrow:hover:before {color: black;}#sk-container-id-4 div.sk-estimator:hover label.sk-toggleable__label-arrow:before {color: black;}#sk-container-id-4 div.sk-toggleable__content {max-height: 0;max-width: 0;overflow: hidden;text-align: left;background-color: #f0f8ff;}#sk-container-id-4 div.sk-toggleable__content pre {margin: 0.2em;color: black;border-radius: 0.25em;background-color: #f0f8ff;}#sk-container-id-4 input.sk-toggleable__control:checked~div.sk-toggleable__content {max-height: 200px;max-width: 100%;overflow: auto;}#sk-container-id-4 input.sk-toggleable__control:checked~label.sk-toggleable__label-arrow:before {content: \"▾\";}#sk-container-id-4 div.sk-estimator input.sk-toggleable__control:checked~label.sk-toggleable__label {background-color: #d4ebff;}#sk-container-id-4 div.sk-label input.sk-toggleable__control:checked~label.sk-toggleable__label {background-color: #d4ebff;}#sk-container-id-4 input.sk-hidden--visually {border: 0;clip: rect(1px 1px 1px 1px);clip: rect(1px, 1px, 1px, 1px);height: 1px;margin: -1px;overflow: hidden;padding: 0;position: absolute;width: 1px;}#sk-container-id-4 div.sk-estimator {font-family: monospace;background-color: #f0f8ff;border: 1px dotted black;border-radius: 0.25em;box-sizing: border-box;margin-bottom: 0.5em;}#sk-container-id-4 div.sk-estimator:hover {background-color: #d4ebff;}#sk-container-id-4 div.sk-parallel-item::after {content: \"\";width: 100%;border-bottom: 1px solid gray;flex-grow: 1;}#sk-container-id-4 div.sk-label:hover label.sk-toggleable__label {background-color: #d4ebff;}#sk-container-id-4 div.sk-serial::before {content: \"\";position: absolute;border-left: 1px solid gray;box-sizing: border-box;top: 0;bottom: 0;left: 50%;z-index: 0;}#sk-container-id-4 div.sk-serial {display: flex;flex-direction: column;align-items: center;background-color: white;padding-right: 0.2em;padding-left: 0.2em;position: relative;}#sk-container-id-4 div.sk-item {position: relative;z-index: 1;}#sk-container-id-4 div.sk-parallel {display: flex;align-items: stretch;justify-content: center;background-color: white;position: relative;}#sk-container-id-4 div.sk-item::before, #sk-container-id-4 div.sk-parallel-item::before {content: \"\";position: absolute;border-left: 1px solid gray;box-sizing: border-box;top: 0;bottom: 0;left: 50%;z-index: -1;}#sk-container-id-4 div.sk-parallel-item {display: flex;flex-direction: column;z-index: 1;position: relative;background-color: white;}#sk-container-id-4 div.sk-parallel-item:first-child::after {align-self: flex-end;width: 50%;}#sk-container-id-4 div.sk-parallel-item:last-child::after {align-self: flex-start;width: 50%;}#sk-container-id-4 div.sk-parallel-item:only-child::after {width: 0;}#sk-container-id-4 div.sk-dashed-wrapped {border: 1px dashed gray;margin: 0 0.4em 0.5em 0.4em;box-sizing: border-box;padding-bottom: 0.4em;background-color: white;}#sk-container-id-4 div.sk-label label {font-family: monospace;font-weight: bold;display: inline-block;line-height: 1.2em;}#sk-container-id-4 div.sk-label-container {text-align: center;}#sk-container-id-4 div.sk-container {/* jupyter's `normalize.less` sets `[hidden] { display: none; }` but bootstrap.min.css set `[hidden] { display: none !important; }` so we also need the `!important` here to be able to override the default hidden behavior on the sphinx rendered scikit-learn.org. See: https://github.com/scikit-learn/scikit-learn/issues/21755 */display: inline-block !important;position: relative;}#sk-container-id-4 div.sk-text-repr-fallback {display: none;}</style><div id=\"sk-container-id-4\" class=\"sk-top-container\"><div class=\"sk-text-repr-fallback\"><pre>RandomForestClassifier(max_depth=10, max_features=&#x27;log2&#x27;, random_state=13)</pre><b>In a Jupyter environment, please rerun this cell to show the HTML representation or trust the notebook. <br />On GitHub, the HTML representation is unable to render, please try loading this page with nbviewer.org.</b></div><div class=\"sk-container\" hidden><div class=\"sk-item\"><div class=\"sk-estimator sk-toggleable\"><input class=\"sk-toggleable__control sk-hidden--visually\" id=\"sk-estimator-id-4\" type=\"checkbox\" checked><label for=\"sk-estimator-id-4\" class=\"sk-toggleable__label sk-toggleable__label-arrow\">RandomForestClassifier</label><div class=\"sk-toggleable__content\"><pre>RandomForestClassifier(max_depth=10, max_features=&#x27;log2&#x27;, random_state=13)</pre></div></div></div></div></div>"
            ]
          },
          "metadata": {},
          "execution_count": 86
        }
      ]
    },
    {
      "cell_type": "code",
      "source": [
        "#check value counts\n",
        "y_sm_train.value_counts()"
      ],
      "metadata": {
        "colab": {
          "base_uri": "https://localhost:8080/"
        },
        "id": "vIbYGq39fbyJ",
        "outputId": "ea32504d-59b1-40c6-b30e-987a913a1bd9"
      },
      "execution_count": 87,
      "outputs": [
        {
          "output_type": "execute_result",
          "data": {
            "text/plain": [
              "0    547\n",
              "1    547\n",
              "Name: target, dtype: int64"
            ]
          },
          "metadata": {},
          "execution_count": 87
        }
      ]
    },
    {
      "cell_type": "code",
      "source": [
        "#look at confusion matrix on test set\n",
        "cm_test= confusion_matrix(y_test, rf_sm.predict(X_test))\n",
        "disp_test= ConfusionMatrixDisplay(cm_test, display_labels= rf_sm.classes_)\n",
        "disp_test.plot()\n",
        "plt.show()\n",
        "print('train score:',rf_sm.score(X_train,y_train))\n",
        "print('test score :' ,rf_sm.score(X_test,y_test))"
      ],
      "metadata": {
        "colab": {
          "base_uri": "https://localhost:8080/",
          "height": 485
        },
        "outputId": "8901cbee-7ff6-41bc-ca8d-bfcc584aff7d",
        "id": "t4x8_kM2ZC5r"
      },
      "execution_count": 88,
      "outputs": [
        {
          "output_type": "display_data",
          "data": {
            "text/plain": [
              "<Figure size 640x480 with 2 Axes>"
            ],
            "image/png": "[encoded data removed]"
          },
          "metadata": {}
        },
        {
          "output_type": "stream",
          "name": "stdout",
          "text": [
            "train score: 0.9404641775983855\n",
            "test score : 0.6205128205128205\n"
          ]
        }
      ]
    },
    {
      "cell_type": "code",
      "source": [
        "from sklearn.metrics import classification_report\n",
        "print(classification_report(y_test, rf_sm.predict(X_test)))"
      ],
      "metadata": {
        "colab": {
          "base_uri": "https://localhost:8080/"
        },
        "id": "TCKraDdnxEIU",
        "outputId": "1b6cb2a9-4232-418f-f4df-13cdf1b03395"
      },
      "execution_count": 89,
      "outputs": [
        {
          "output_type": "stream",
          "name": "stdout",
          "text": [
            "              precision    recall  f1-score   support\n",
            "\n",
            "           0       0.55      0.64      0.59        83\n",
            "           1       0.69      0.61      0.65       112\n",
            "\n",
            "    accuracy                           0.62       195\n",
            "   macro avg       0.62      0.62      0.62       195\n",
            "weighted avg       0.63      0.62      0.62       195\n",
            "\n"
          ]
        }
      ]
    },
    {
      "cell_type": "markdown",
      "source": [
        "This did not help . I will iterate on the random forest model with tuned parameters from here."
      ],
      "metadata": {
        "id": "oXf7r8UNZfJd"
      }
    },
    {
      "cell_type": "code",
      "source": [
        "rf2= RandomForestClassifier(max_depth=10, max_features='log2',random_state=13)"
      ],
      "metadata": {
        "id": "gkzdmfr2rg6J"
      },
      "execution_count": 90,
      "outputs": []
    },
    {
      "cell_type": "markdown",
      "source": [
        "### Feature Engineering\n",
        "Next, I will look into adding features that might be useful. I will be looking at highly correlated variables and add columns that capture outliers. I will also try to reduce the complexity and noise of the feature space by dropping or combining certain columns if they have a high correlation. <br/>\n",
        "To begin with, I will look through the correlation matrix and append any column that has a correlation with other independent variables of >=0.3."
      ],
      "metadata": {
        "id": "9_AgvINrhWEw"
      }
    },
    {
      "cell_type": "code",
      "source": [
        "#look at columns with correlation to other columns that is larger than 0.3\n",
        "cor = (np.abs(X_train.corr()) >= 0.3).sum()\n",
        "cor_cols=[]\n",
        "for i,x in enumerate(cor):\n",
        "  if x>1:\n",
        "    cor_cols.append(cor.index[i])"
      ],
      "metadata": {
        "id": "nZ168PH7f2KL"
      },
      "execution_count": 91,
      "outputs": []
    },
    {
      "cell_type": "code",
      "source": [
        "cor_cols"
      ],
      "metadata": {
        "colab": {
          "base_uri": "https://localhost:8080/"
        },
        "id": "9dFx1Gk38Hkn",
        "outputId": "800eb636-fb0b-47cf-e597-ec65d212b477"
      },
      "execution_count": 92,
      "outputs": [
        {
          "output_type": "execute_result",
          "data": {
            "text/plain": [
              "['childs',\n",
              " 'quallife',\n",
              " 'born',\n",
              " 'pray',\n",
              " 'satsoc',\n",
              " 'satfin',\n",
              " 'relig_cath',\n",
              " 'relig_hind',\n",
              " 'relig_jew',\n",
              " 'relig_mus/isl',\n",
              " 'relig_orth-chr',\n",
              " 'relig_prot',\n",
              " 'relig16_cath',\n",
              " 'relig16_hind',\n",
              " 'relig16_jew',\n",
              " 'relig16_mus/isl',\n",
              " 'relig16_orth-chr',\n",
              " 'relig16_prot',\n",
              " 'race_other',\n",
              " 'race_white',\n",
              " 'marital_mar',\n",
              " 'marital_sing',\n",
              " 'hispanic_cub',\n",
              " 'hispanic_mex',\n",
              " 'hispanic_other']"
            ]
          },
          "metadata": {},
          "execution_count": 92
        }
      ]
    },
    {
      "cell_type": "markdown",
      "source": [
        "Next, I will create a dictionary that shows the two correlated columns, and the degree of correlation between them."
      ],
      "metadata": {
        "id": "eBtn4tKc9WzZ"
      }
    },
    {
      "cell_type": "code",
      "source": [
        "#dictionary that shows the correlation between selected columns\n",
        "from itertools import combinations\n",
        "cor_dic= {}\n",
        "for col1, col2 in combinations(cor_cols,2):\n",
        "  cor=  X_train[col1].corr(X_train[col2])\n",
        "  if np.abs(cor) >= 0.3:\n",
        "    cor_dic[(col1,col2)] = cor\n"
      ],
      "metadata": {
        "id": "Pc8ahYEhVRqC"
      },
      "execution_count": 93,
      "outputs": []
    },
    {
      "cell_type": "code",
      "source": [
        "cor_dic"
      ],
      "metadata": {
        "colab": {
          "base_uri": "https://localhost:8080/"
        },
        "id": "mrV2F4epWBX2",
        "outputId": "21b82586-b165-4d87-e99e-106d59b2bac6"
      },
      "execution_count": 94,
      "outputs": [
        {
          "output_type": "execute_result",
          "data": {
            "text/plain": [
              "{('childs', 'marital_sing'): -0.4219952352063608,\n",
              " ('quallife', 'satsoc'): 0.5276880428735627,\n",
              " ('quallife', 'satfin'): 0.41860615003527873,\n",
              " ('born', 'race_other'): -0.34907241751000356,\n",
              " ('born', 'hispanic_mex'): 0.38450659343721894,\n",
              " ('pray', 'relig_prot'): 0.40466017445284286,\n",
              " ('satsoc', 'satfin'): 0.30371960470206777,\n",
              " ('relig_cath', 'relig_prot'): -0.49728565691192944,\n",
              " ('relig_cath', 'relig16_cath'): 0.6707040026961549,\n",
              " ('relig_cath', 'relig16_prot'): -0.49706194389143094,\n",
              " ('relig_hind', 'relig16_hind'): 0.8160836875607764,\n",
              " ('relig_jew', 'relig16_jew'): 0.7458974358974357,\n",
              " ('relig_mus/isl', 'relig16_mus/isl'): 0.7288147534422833,\n",
              " ('relig_orth-chr', 'relig16_orth-chr'): 0.4692547131809318,\n",
              " ('relig_prot', 'relig16_cath'): -0.468767417503166,\n",
              " ('relig_prot', 'relig16_prot'): 0.6090823966128598,\n",
              " ('relig16_cath', 'relig16_prot'): -0.7210183089950625,\n",
              " ('relig16_cath', 'hispanic_mex'): -0.3543937206375894,\n",
              " ('race_other', 'race_white'): -0.5485255358640104,\n",
              " ('race_other', 'hispanic_mex'): -0.4074329558002549,\n",
              " ('marital_mar', 'marital_sing'): -0.5412474850922191,\n",
              " ('hispanic_cub', 'hispanic_mex'): -0.3045233473977124,\n",
              " ('hispanic_mex', 'hispanic_other'): -0.39783801256380485}"
            ]
          },
          "metadata": {},
          "execution_count": 94
        }
      ]
    },
    {
      "cell_type": "markdown",
      "source": [
        "As expected, the highest correlations are between the religion one was raised in, and the relgion one is in currently. To draw attention to outliers, I will add three columns, one that indicates when a given respondent had changed relgions, the second indicating they became athiest, and the third indicating if they became religious."
      ],
      "metadata": {
        "id": "ETVeqpnJ9hEu"
      }
    },
    {
      "cell_type": "code",
      "source": [
        "# series 'changed_rel' that indicates when relig16 and relig are not the same\n",
        "rel= cor_cols[6:12]\n",
        "rel16= cor_cols[12:-7]\n",
        "changed_rel= np.array([0 for x in range(X_train.shape[0])])\n",
        "for re, re16 in list(zip(rel,rel16)):\n",
        "  subset= X_train[re] + X_train[re16]\n",
        "  changed_rel+= subset.apply(lambda x: 1 if x==1 else 0)"
      ],
      "metadata": {
        "id": "yLM7Een9i9hA"
      },
      "execution_count": 95,
      "outputs": []
    },
    {
      "cell_type": "code",
      "source": [
        "changed_rel.value_counts()"
      ],
      "metadata": {
        "colab": {
          "base_uri": "https://localhost:8080/"
        },
        "id": "d2eUtvHMlKyK",
        "outputId": "01a13c75-413f-43a3-b67a-32139027b172"
      },
      "execution_count": 96,
      "outputs": [
        {
          "output_type": "execute_result",
          "data": {
            "text/plain": [
              "0    703\n",
              "1    228\n",
              "2     60\n",
              "dtype: int64"
            ]
          },
          "metadata": {},
          "execution_count": 96
        }
      ]
    },
    {
      "cell_type": "markdown",
      "source": [
        "I now end up with a series in which 2 indicates the respondent went from one relgion to another, and 1 indicates either they've become athiest, or was athiest and became religious. I will make an intermdiate series to indicate that."
      ],
      "metadata": {
        "id": "P-FRJH5o94hq"
      }
    },
    {
      "cell_type": "code",
      "source": [
        "#seperate out became religious and became athiest\n",
        "ind= changed_rel[changed_rel==1].index\n",
        "series= np.array([0 for x in range(X_train.shape[0])])\n",
        "for re in rel16:\n",
        "  series += X_train[re]\n",
        "bec_rel_ind= series.loc[ind][series.loc[ind]==0].index\n",
        "bec_rel= series.map({1:0,0:0,2:0})\n",
        "bec_rel[bec_rel_ind]= 1"
      ],
      "metadata": {
        "id": "xHiD7ecG-2yH"
      },
      "execution_count": 97,
      "outputs": []
    },
    {
      "cell_type": "markdown",
      "source": [
        "Now I will map the values to their corresponding columns."
      ],
      "metadata": {
        "id": "sNzQUOoTAsxh"
      }
    },
    {
      "cell_type": "code",
      "source": [
        "# value= 1 means they became athiest, value= 2 means they changed religions\n",
        "X_train_new= X_train.copy()\n",
        "X_train_new['changed_relig']= changed_rel.map({1:0,2:1,0:0})\n",
        "X_train_new['bec_relig']= bec_rel\n",
        "X_train_new['bec_ath'] = changed_rel.map({1:1,2:0,0:0})*bec_rel.map({1:0,0:1})"
      ],
      "metadata": {
        "id": "1ogfozYLlteq"
      },
      "execution_count": 98,
      "outputs": []
    },
    {
      "cell_type": "markdown",
      "source": [
        "Next, I will replace the rel16 and rel columns with columns that indicate thet have stuck with the religion, and columns indicating what relgion they changed into if any."
      ],
      "metadata": {
        "id": "TB95DIHCOgDy"
      }
    },
    {
      "cell_type": "code",
      "source": [
        "#divide religion into more specific categories\n",
        "for re16 in rel16:\n",
        "  X_train_new[re16+'_to_pres']= X_train_new[re16]*changed_rel.map({0:1,2:0,1:0})\n",
        "  X_train_new['is_now_'+re]= X_train_new[re]*X_train_new.changed_relig\n",
        "X_train_new.drop(rel+rel16,axis=1,inplace=True)"
      ],
      "metadata": {
        "id": "Fiw6FgG2KdoG"
      },
      "execution_count": 99,
      "outputs": []
    },
    {
      "cell_type": "markdown",
      "source": [
        "To speed up the process of transforming other datasets, I will create a function that does everything mentioned above."
      ],
      "metadata": {
        "id": "h4FjL4iRdYkS"
      }
    },
    {
      "cell_type": "code",
      "source": [
        "def relig_cols_transform(x_df, new_df):\n",
        "  '''\n",
        "  a function that takes in original features dataset and a copy of it,\n",
        "  and returns a dataframe with transformed\n",
        "  religious columns, and with 'bec_relig', 'bec_ath', and 'changed_relig' columns added.\n",
        "  '''\n",
        "  changed_rel= np.array([0 for x in range(x_df.shape[0])])\n",
        "  for re, re16 in list(zip(rel,rel16)):\n",
        "    subset= x_df[re] + x_df[re16]\n",
        "    changed_rel+= subset.apply(lambda x: 1 if x==1 else 0)\n",
        "  ind= changed_rel[changed_rel==1].index\n",
        "  series= np.array([0 for x in range(x_df.shape[0])])\n",
        "  for re in rel16:\n",
        "      series += x_df[re]\n",
        "  bec_rel_ind= series.loc[ind][series.loc[ind]==0].index\n",
        "  bec_rel= series.map({1:0,0:0,2:0})\n",
        "  bec_rel[bec_rel_ind]= 1\n",
        "  new_df['changed_relig']= changed_rel.map({1:0,2:1,0:0})\n",
        "  new_df['bec_relig']= bec_rel\n",
        "  new_df['bec_ath'] = changed_rel.map({1:1,2:0,0:0})*bec_rel.map({1:0,0:1})\n",
        "  for re16 in rel16:\n",
        "    new_df[re16+'_to_pres']= x_df[re16]*changed_rel.map({0:1,2:0,1:0})\n",
        "    new_df['is_now_'+re]= x_df[re]*new_df.changed_relig\n",
        "  new_df.drop(rel+rel16,axis=1,inplace=True)\n",
        "  return new_df\n",
        "\n",
        "\n",
        ""
      ],
      "metadata": {
        "id": "_4uhrC3Waian"
      },
      "execution_count": 100,
      "outputs": []
    },
    {
      "cell_type": "markdown",
      "source": [
        "I also noticed there is a strong negative correlation between being single and having kids, so I will add a column that captures instances of single parents"
      ],
      "metadata": {
        "id": "a8FSN-8FOtMW"
      }
    },
    {
      "cell_type": "code",
      "source": [
        "#add column indicating they're a single parent\n",
        "X_train_new['single_par']=(X_train.marital_sing * X_train.childs).apply(lambda x: 1 if x>0 else 0)"
      ],
      "metadata": {
        "id": "qXUdqOzjpr76"
      },
      "execution_count": 101,
      "outputs": []
    },
    {
      "cell_type": "markdown",
      "source": [
        "Now I will add a column that captures respondents that are a minority race but born in the US, since 'born' and 'race_other' have a moderate negative correlation."
      ],
      "metadata": {
        "id": "aVat_3O9O3Fc"
      }
    },
    {
      "cell_type": "code",
      "source": [
        "#add column that indicates they're born in the US as a racial minority (not black or white)\n",
        "X_train_new['born_min']= X_train.born * X_train.race_other"
      ],
      "metadata": {
        "id": "Ezlj9_systwP"
      },
      "execution_count": 102,
      "outputs": []
    },
    {
      "cell_type": "markdown",
      "source": [
        "On a simialr note, I will capture hispanics who were not born in the US."
      ],
      "metadata": {
        "id": "yjCmF3WjPAXt"
      }
    },
    {
      "cell_type": "code",
      "source": [
        "#hispanics that were not born in the US\n",
        "hisp_cols= cor_cols[-3:]\n",
        "is_hisp= X_train[hisp_cols[0]]+ X_train[hisp_cols[1]]+ X_train[hisp_cols[2]]\n",
        "X_train_new['frgn_hisp']= X_train['born']*is_hisp"
      ],
      "metadata": {
        "id": "px8vG04MpGes"
      },
      "execution_count": 103,
      "outputs": []
    },
    {
      "cell_type": "markdown",
      "source": [
        "Finally, since financial satisfaction and social satisfaction are both storngly related to quality of life, I will combine the three columns to simplify the feature space."
      ],
      "metadata": {
        "id": "U_bfT3HQPNC1"
      }
    },
    {
      "cell_type": "code",
      "source": [
        "#combine satfin and satsoc and quallife\n",
        "X_train_new['overall_sat']= (X_train['satfin']+X_train['satsoc'])*X_train['quallife']\n",
        "X_train_new.drop(['satfin','satsoc','quallife'],axis=1,inplace=True)"
      ],
      "metadata": {
        "id": "q8pYKBbP-1rO"
      },
      "execution_count": 104,
      "outputs": []
    },
    {
      "cell_type": "code",
      "source": [
        "#score with original features\n",
        "cross_val_score(rf2, X_train,y_train).mean()"
      ],
      "metadata": {
        "colab": {
          "base_uri": "https://localhost:8080/"
        },
        "id": "0Cl0zwi86C9m",
        "outputId": "ad546361-24c2-4adb-920e-5bd5da2f4eba"
      },
      "execution_count": 105,
      "outputs": [
        {
          "output_type": "execute_result",
          "data": {
            "text/plain": [
              "0.6528551850159892"
            ]
          },
          "metadata": {},
          "execution_count": 105
        }
      ]
    },
    {
      "cell_type": "code",
      "source": [
        "#score with new features\n",
        "cross_val_score(rf2, X_train_new, y_train).mean()"
      ],
      "metadata": {
        "colab": {
          "base_uri": "https://localhost:8080/"
        },
        "id": "h8FFfrcDnO8h",
        "outputId": "8fa9ae63-e1ca-4d39-fe23-13d2b07c5591"
      },
      "execution_count": 106,
      "outputs": [
        {
          "output_type": "execute_result",
          "data": {
            "text/plain": [
              "0.6659864981473022"
            ]
          },
          "metadata": {},
          "execution_count": 106
        }
      ]
    },
    {
      "cell_type": "markdown",
      "source": [
        "This cross validation score seems to be an improvement, I will now try these new features on the test set."
      ],
      "metadata": {
        "id": "5replF1o5pvp"
      }
    },
    {
      "cell_type": "code",
      "source": [
        "#try on test set\n",
        "rf2.fit(X_train_new, y_train)"
      ],
      "metadata": {
        "colab": {
          "base_uri": "https://localhost:8080/",
          "height": 74
        },
        "id": "N3dTCFg43_QQ",
        "outputId": "3a3eedd3-93d5-4bb9-b0a5-76f1f3aacedf"
      },
      "execution_count": 107,
      "outputs": [
        {
          "output_type": "execute_result",
          "data": {
            "text/plain": [
              "RandomForestClassifier(max_depth=10, max_features='log2', random_state=13)"
            ],
            "text/html": [
              "<style>#sk-container-id-5 {color: black;background-color: white;}#sk-container-id-5 pre{padding: 0;}#sk-container-id-5 div.sk-toggleable {background-color: white;}#sk-container-id-5 label.sk-toggleable__label {cursor: pointer;display: block;width: 100%;margin-bottom: 0;padding: 0.3em;box-sizing: border-box;text-align: center;}#sk-container-id-5 label.sk-toggleable__label-arrow:before {content: \"▸\";float: left;margin-right: 0.25em;color: #696969;}#sk-container-id-5 label.sk-toggleable__label-arrow:hover:before {color: black;}#sk-container-id-5 div.sk-estimator:hover label.sk-toggleable__label-arrow:before {color: black;}#sk-container-id-5 div.sk-toggleable__content {max-height: 0;max-width: 0;overflow: hidden;text-align: left;background-color: #f0f8ff;}#sk-container-id-5 div.sk-toggleable__content pre {margin: 0.2em;color: black;border-radius: 0.25em;background-color: #f0f8ff;}#sk-container-id-5 input.sk-toggleable__control:checked~div.sk-toggleable__content {max-height: 200px;max-width: 100%;overflow: auto;}#sk-container-id-5 input.sk-toggleable__control:checked~label.sk-toggleable__label-arrow:before {content: \"▾\";}#sk-container-id-5 div.sk-estimator input.sk-toggleable__control:checked~label.sk-toggleable__label {background-color: #d4ebff;}#sk-container-id-5 div.sk-label input.sk-toggleable__control:checked~label.sk-toggleable__label {background-color: #d4ebff;}#sk-container-id-5 input.sk-hidden--visually {border: 0;clip: rect(1px 1px 1px 1px);clip: rect(1px, 1px, 1px, 1px);height: 1px;margin: -1px;overflow: hidden;padding: 0;position: absolute;width: 1px;}#sk-container-id-5 div.sk-estimator {font-family: monospace;background-color: #f0f8ff;border: 1px dotted black;border-radius: 0.25em;box-sizing: border-box;margin-bottom: 0.5em;}#sk-container-id-5 div.sk-estimator:hover {background-color: #d4ebff;}#sk-container-id-5 div.sk-parallel-item::after {content: \"\";width: 100%;border-bottom: 1px solid gray;flex-grow: 1;}#sk-container-id-5 div.sk-label:hover label.sk-toggleable__label {background-color: #d4ebff;}#sk-container-id-5 div.sk-serial::before {content: \"\";position: absolute;border-left: 1px solid gray;box-sizing: border-box;top: 0;bottom: 0;left: 50%;z-index: 0;}#sk-container-id-5 div.sk-serial {display: flex;flex-direction: column;align-items: center;background-color: white;padding-right: 0.2em;padding-left: 0.2em;position: relative;}#sk-container-id-5 div.sk-item {position: relative;z-index: 1;}#sk-container-id-5 div.sk-parallel {display: flex;align-items: stretch;justify-content: center;background-color: white;position: relative;}#sk-container-id-5 div.sk-item::before, #sk-container-id-5 div.sk-parallel-item::before {content: \"\";position: absolute;border-left: 1px solid gray;box-sizing: border-box;top: 0;bottom: 0;left: 50%;z-index: -1;}#sk-container-id-5 div.sk-parallel-item {display: flex;flex-direction: column;z-index: 1;position: relative;background-color: white;}#sk-container-id-5 div.sk-parallel-item:first-child::after {align-self: flex-end;width: 50%;}#sk-container-id-5 div.sk-parallel-item:last-child::after {align-self: flex-start;width: 50%;}#sk-container-id-5 div.sk-parallel-item:only-child::after {width: 0;}#sk-container-id-5 div.sk-dashed-wrapped {border: 1px dashed gray;margin: 0 0.4em 0.5em 0.4em;box-sizing: border-box;padding-bottom: 0.4em;background-color: white;}#sk-container-id-5 div.sk-label label {font-family: monospace;font-weight: bold;display: inline-block;line-height: 1.2em;}#sk-container-id-5 div.sk-label-container {text-align: center;}#sk-container-id-5 div.sk-container {/* jupyter's `normalize.less` sets `[hidden] { display: none; }` but bootstrap.min.css set `[hidden] { display: none !important; }` so we also need the `!important` here to be able to override the default hidden behavior on the sphinx rendered scikit-learn.org. See: https://github.com/scikit-learn/scikit-learn/issues/21755 */display: inline-block !important;position: relative;}#sk-container-id-5 div.sk-text-repr-fallback {display: none;}</style><div id=\"sk-container-id-5\" class=\"sk-top-container\"><div class=\"sk-text-repr-fallback\"><pre>RandomForestClassifier(max_depth=10, max_features=&#x27;log2&#x27;, random_state=13)</pre><b>In a Jupyter environment, please rerun this cell to show the HTML representation or trust the notebook. <br />On GitHub, the HTML representation is unable to render, please try loading this page with nbviewer.org.</b></div><div class=\"sk-container\" hidden><div class=\"sk-item\"><div class=\"sk-estimator sk-toggleable\"><input class=\"sk-toggleable__control sk-hidden--visually\" id=\"sk-estimator-id-5\" type=\"checkbox\" checked><label for=\"sk-estimator-id-5\" class=\"sk-toggleable__label sk-toggleable__label-arrow\">RandomForestClassifier</label><div class=\"sk-toggleable__content\"><pre>RandomForestClassifier(max_depth=10, max_features=&#x27;log2&#x27;, random_state=13)</pre></div></div></div></div></div>"
            ]
          },
          "metadata": {},
          "execution_count": 107
        }
      ]
    },
    {
      "cell_type": "code",
      "source": [
        "#transform X_test\n",
        "X_test_new= relig_cols_transform(X_test,X_test.copy())"
      ],
      "metadata": {
        "id": "SAd5lXIne6Ua"
      },
      "execution_count": 108,
      "outputs": []
    },
    {
      "cell_type": "code",
      "source": [
        "X_test_new['single_par']=(X_test.marital_sing * X_test.childs).apply(lambda x: 1 if x>0 else 0)"
      ],
      "metadata": {
        "id": "w7QL53Y44qMt"
      },
      "execution_count": 109,
      "outputs": []
    },
    {
      "cell_type": "code",
      "source": [
        "X_test_new['born_min']= X_test.born * X_test.race_other"
      ],
      "metadata": {
        "id": "CitHxbag4wzM"
      },
      "execution_count": 110,
      "outputs": []
    },
    {
      "cell_type": "code",
      "source": [
        "#hispanics that were not born in the US\n",
        "hisp_cols= cor_cols[-3:]\n",
        "is_hisp= X_test[hisp_cols[0]]+ X_test[hisp_cols[1]]+ X_test[hisp_cols[2]]\n",
        "X_test_new['frgn_hisp']= X_test['born']*is_hisp"
      ],
      "metadata": {
        "id": "Rp--f5vkpk6n"
      },
      "execution_count": 111,
      "outputs": []
    },
    {
      "cell_type": "code",
      "source": [
        "#combine satfin and satsoc\n",
        "X_test_new['overall_sat']= (X_test['satfin']+X_test['satsoc'])*X_test.quallife\n",
        "X_test_new.drop(['satfin','satsoc','quallife'],axis=1,inplace=True)"
      ],
      "metadata": {
        "id": "XS9ROSjRA9L2"
      },
      "execution_count": 112,
      "outputs": []
    },
    {
      "cell_type": "code",
      "source": [
        "#look at confusion matrix on test set\n",
        "cm_test= confusion_matrix(y_test, rf2.predict(X_test_new))\n",
        "disp_test= ConfusionMatrixDisplay(cm_test, display_labels= rf2.classes_)\n",
        "disp_test.plot()\n",
        "plt.show()\n",
        "print(classification_report(y_test, rf2.predict(X_test_new)))"
      ],
      "metadata": {
        "colab": {
          "base_uri": "https://localhost:8080/",
          "height": 612
        },
        "outputId": "7e11f1c6-b124-421a-d79e-d5c8db6c8531",
        "id": "Zw45S7ke5nmf"
      },
      "execution_count": 113,
      "outputs": [
        {
          "output_type": "display_data",
          "data": {
            "text/plain": [
              "<Figure size 640x480 with 2 Axes>"
            ],
            "image/png": "[encoded data removed]"
          },
          "metadata": {}
        },
        {
          "output_type": "stream",
          "name": "stdout",
          "text": [
            "              precision    recall  f1-score   support\n",
            "\n",
            "           0       0.56      0.61      0.59        83\n",
            "           1       0.69      0.64      0.67       112\n",
            "\n",
            "    accuracy                           0.63       195\n",
            "   macro avg       0.63      0.63      0.63       195\n",
            "weighted avg       0.64      0.63      0.63       195\n",
            "\n"
          ]
        }
      ]
    },
    {
      "cell_type": "markdown",
      "source": [
        "The results are slightly worse on the test set, however, the improved cross validation score was promising. Moreover, the engineered features provide more concise and specific information. I will use the validation set as a tie breaker."
      ],
      "metadata": {
        "id": "_mdY8ctW3uIN"
      }
    },
    {
      "cell_type": "code",
      "source": [
        "#transform X_val\n",
        "X_val_new= relig_cols_transform(X_val, X_val.copy())"
      ],
      "metadata": {
        "id": "U6Dd94EUfLII"
      },
      "execution_count": 114,
      "outputs": []
    },
    {
      "cell_type": "code",
      "source": [
        "#single parents\n",
        "X_val_new['single_par']=(X_val.marital_sing * X_val.childs).apply(lambda x: 1 if x>0 else 0)"
      ],
      "metadata": {
        "id": "wCRpAzbYyLan"
      },
      "execution_count": 115,
      "outputs": []
    },
    {
      "cell_type": "code",
      "source": [
        "#born minority race\n",
        "X_val_new['born_min']= X_val.born * X_val.race_other"
      ],
      "metadata": {
        "id": "H7dk708HyOpd"
      },
      "execution_count": 116,
      "outputs": []
    },
    {
      "cell_type": "code",
      "source": [
        "#hispanics that were not born in the US\n",
        "hisp_cols= cor_cols[-3:]\n",
        "is_hisp= X_val[hisp_cols[0]]+ X_val[hisp_cols[1]]+ X_val[hisp_cols[2]]\n",
        "X_val_new['frgn_hisp']= X_val['born']*is_hisp"
      ],
      "metadata": {
        "id": "JCpUAzZo3q-L"
      },
      "execution_count": 117,
      "outputs": []
    },
    {
      "cell_type": "code",
      "source": [
        "#combine satfin and satsoc\n",
        "X_val_new['overall_sat']= (X_val['satfin']+X_val['satsoc'])*X_val.quallife\n",
        "X_val_new.drop(['satfin','satsoc','quallife'],axis=1,inplace=True)"
      ],
      "metadata": {
        "id": "RX99_bkOyRkH"
      },
      "execution_count": 118,
      "outputs": []
    },
    {
      "cell_type": "code",
      "source": [
        "#look at confusion matrix on original val\n",
        "cm_val= confusion_matrix(y_val, rf_tuned.predict(X_val))\n",
        "disp_val= ConfusionMatrixDisplay(cm_val, display_labels= rf2.classes_)\n",
        "disp_val.plot()\n",
        "plt.show()\n",
        "print(classification_report(y_val, rf_tuned.predict(X_val)))"
      ],
      "metadata": {
        "colab": {
          "base_uri": "https://localhost:8080/",
          "height": 612
        },
        "outputId": "3d0ca104-100d-4dcc-9370-bdab8c9d6864",
        "id": "-AQnSrpFzESt"
      },
      "execution_count": 119,
      "outputs": [
        {
          "output_type": "display_data",
          "data": {
            "text/plain": [
              "<Figure size 640x480 with 2 Axes>"
            ],
            "image/png": "[encoded data removed]"
          },
          "metadata": {}
        },
        {
          "output_type": "stream",
          "name": "stdout",
          "text": [
            "              precision    recall  f1-score   support\n",
            "\n",
            "           0       0.50      0.58      0.54        38\n",
            "           1       0.76      0.70      0.73        73\n",
            "\n",
            "    accuracy                           0.66       111\n",
            "   macro avg       0.63      0.64      0.63       111\n",
            "weighted avg       0.67      0.66      0.66       111\n",
            "\n"
          ]
        }
      ]
    },
    {
      "cell_type": "code",
      "source": [
        "#look at confusion matrix on new val set\n",
        "cm_val= confusion_matrix(y_val, rf2.predict(X_val_new))\n",
        "disp_test= ConfusionMatrixDisplay(cm_val, display_labels= rf2.classes_)\n",
        "disp_test.plot()\n",
        "plt.show()\n",
        "print(classification_report(y_val, rf2.predict(X_val_new)))"
      ],
      "metadata": {
        "colab": {
          "base_uri": "https://localhost:8080/",
          "height": 612
        },
        "outputId": "508e107a-7c2a-4936-e338-d9382bd0f92f",
        "id": "Le-eFvvpzCzr"
      },
      "execution_count": 120,
      "outputs": [
        {
          "output_type": "display_data",
          "data": {
            "text/plain": [
              "<Figure size 640x480 with 2 Axes>"
            ],
            "image/png": "[encoded data removed]"
          },
          "metadata": {}
        },
        {
          "output_type": "stream",
          "name": "stdout",
          "text": [
            "              precision    recall  f1-score   support\n",
            "\n",
            "           0       0.53      0.63      0.58        38\n",
            "           1       0.79      0.71      0.75        73\n",
            "\n",
            "    accuracy                           0.68       111\n",
            "   macro avg       0.66      0.67      0.66       111\n",
            "weighted avg       0.70      0.68      0.69       111\n",
            "\n"
          ]
        }
      ]
    },
    {
      "cell_type": "markdown",
      "source": [
        "Interetsingly, the feature engineered model does significantly better than its original counterpart on the validation set. I will use this as my final model.\n"
      ],
      "metadata": {
        "id": "oFGAnabazkno"
      }
    },
    {
      "cell_type": "code",
      "source": [
        "final_model= rf2"
      ],
      "metadata": {
        "id": "aOnyIXuD4fDN"
      },
      "execution_count": 121,
      "outputs": []
    },
    {
      "cell_type": "markdown",
      "source": [
        "# Final model evaluation\n",
        "This model has a recall of around 70%, meaning it is able to capture 70% of those who support legal abortion based on their attributes. Moreover, it has a precison of nearly 80%, so it does quite well in not confusing those who are against abortion with those who are for it. <br/>\n",
        "The shortcomings of this model would be correctly identifying those who are against legal abortion, with only around 50% precision, of all the people classified as against legal abotion, only half of them were classified correctly. Moreover, its performance in identifying negative cases did not improve with SMOTE. This could be because there is too much varaince in the characteristics of negative cases such that the patterns in the training data was not representative of unseen data. It could also be because political opinions are more complex than a dozen characterisics, and the model can only generalize to a limited extent."
      ],
      "metadata": {
        "id": "lySL-JppfmAZ"
      }
    },
    {
      "cell_type": "markdown",
      "source": [
        "\n",
        "## Feature importances\n",
        "Next, I will look into the top 10 feature importances of the model to see what the main identifying characteristics are."
      ],
      "metadata": {
        "id": "wDrQjnTLLwgG"
      }
    },
    {
      "cell_type": "markdown",
      "source": [
        "To get a better idea of how these features correspond to their opinions on abortion, I will also indicate if any given feature has a positive or negative correlation with the Rossi scale."
      ],
      "metadata": {
        "id": "comOQ88qiuPx"
      }
    },
    {
      "cell_type": "code",
      "source": [
        "#get dataframe of top 10 features in model\n",
        "feature_importance = pd.DataFrame({'importance': final_model.feature_importances_}, index= X_test_new.columns).sort_values('importance')[-10:]"
      ],
      "metadata": {
        "id": "BYtHLz7kLvAg"
      },
      "execution_count": 122,
      "outputs": []
    },
    {
      "cell_type": "code",
      "source": [
        "#dictionary that shows correlation between feature and target\n",
        "feat_cor={}\n",
        "for f in feature_importance.index:\n",
        "  feat_cor[f]= pd.concat([X_test_new,X_train_new])[f].corr(data['Rossi scale'])"
      ],
      "metadata": {
        "id": "ho-ssQx8URfK"
      },
      "execution_count": 123,
      "outputs": []
    },
    {
      "cell_type": "code",
      "source": [
        "#dictionary that groups features into positive and negative correlation\n",
        "pos_neg= {'positive':[], 'negative':[]}\n",
        "for key in feat_cor.keys():\n",
        "  if feat_cor[key]> 0:\n",
        "    pos_neg['positive'].append(key)\n",
        "  else:\n",
        "    pos_neg['negative'].append(key)\n"
      ],
      "metadata": {
        "id": "5VZKP7Z6GRpB"
      },
      "execution_count": 124,
      "outputs": []
    },
    {
      "cell_type": "code",
      "source": [
        "# graph of top 10 feature importances, lighter color indicates positive correlation\n",
        "bars= plt.barh(feature_importance.index, feature_importance.importance)\n",
        "for i, feat in enumerate(feature_importance.index):\n",
        "  if feat in pos_neg['positive']:\n",
        "    bars[i].set_color('paleturquoise')\n",
        "  else:\n",
        "    bars[i].set_color('darkturquoise')\n",
        "plt.title('Feature Importances')\n",
        "plt.show()"
      ],
      "metadata": {
        "colab": {
          "base_uri": "https://localhost:8080/",
          "height": 452
        },
        "id": "p8ZB6Ls7lW15",
        "outputId": "56c35da1-51fc-40df-8ef2-cbeed99b28a9"
      },
      "execution_count": 125,
      "outputs": [
        {
          "output_type": "display_data",
          "data": {
            "text/plain": [
              "<Figure size 640x480 with 1 Axes>"
            ],
            "image/png": "[encoded data removed]"
          },
          "metadata": {}
        }
      ]
    },
    {
      "cell_type": "markdown",
      "source": [
        "# Conclusion\n",
        "Based on this classification model, the most important features that determines whether someone is likely to support legal abortion are how frequently they pray, which is a reasonable proxy for degree of religiosity, their party identification (more likely to support if they identify as a democrat), their age and education level, both positively correlated with level of support. <br/>\n",
        "I would recommend Planned Parenthood to advertise in big urban cities, since they tend to lean towards being democratic. They could also advertise in college areas, as people living there are likely to be more highly educated,Moreover, rather than looking at the specific relgion a person follows, to look at how strict they are with their religious habits. <br/>\n",
        " If they were to have access to demographic data, they could also use this classification model to sort through large groups of people to select those who are likely to be interested in their services."
      ],
      "metadata": {
        "id": "vtvlwftAn0ct"
      }
    },
    {
      "cell_type": "markdown",
      "source": [
        "# Caveats\n",
        "There are certain limitations to this classification model. For instance, having around 70% accuracy is far from perfect. Since it serves to guess politcal stance of people based on rather limited information about them, it is expected that the model would be unable to classify perfectly. Moreover, since I am working with self report data, there is inherent bias and error arisig from truthfulness of repsondents and misinterpretation of questions, leading to potentially misleading data. <br/>\n",
        "There might also be aspects of opinions surrounding abortion that this model is not able to identify. Namely, the Rossi scale, which is the target variable of this model, mainly tackles question about the legality of abortion and does not include topics of morality. A person that supports the legalization of abortion might not necessarily support the act of it, and would still not be the target demographic for Planned Parenthood.\n",
        "# Next Steps\n",
        "Moving forward, I would look into expanding the feature space to include more attribute about each respondent, which could potentially lead to better model performace. Seeing as the model's fault mainly lies in identifying those who are against abortion, I would also try to gather more data about respondents with that sentiment such that more reliable patterns would be recognized by the algorithm. <br/>\n",
        "I would also explore more aspects of the discussion surrouding abortion beyond its legality to gain more insight into public opinion regarding this issue, and build a model that can classify level of support in a more holistic way."
      ],
      "metadata": {
        "id": "oP3kd1ZbDKx3"
      }
    }
  ]
}